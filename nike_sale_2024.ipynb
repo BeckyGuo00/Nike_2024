{
 "cells": [
  {
   "cell_type": "code",
   "execution_count": 22,
   "metadata": {},
   "outputs": [
    {
     "name": "stdout",
     "output_type": "stream",
     "text": [
      "3.10.0\n",
      "5.24.1\n"
     ]
    }
   ],
   "source": [
    "import pandas as pd\n",
    "import numpy as np\n",
    "\n",
    "%matplotlib inline\n",
    "import matplotlib as mpl\n",
    "import matplotlib.pyplot as plt\n",
    "import matplotlib.ticker as mticker\n",
    "mpl.style.use(\"ggplot\")\n",
    "print(mpl.__version__)# >= 2.0.0\n",
    "\n",
    "from plotly import __version__\n",
    "import plotly.offline as py\n",
    "import plotly.express as px\n",
    "import plotly.graph_objects as go\n",
    "print (__version__) \n",
    "\n",
    "\n",
    "\n",
    "import seaborn as sns\n",
    "from bokeh.plotting import figure, show, output_notebook\n",
    "\n",
    "from sklearn.preprocessing import StandardScaler\n",
    "from sklearn.linear_model import LogisticRegression\n",
    "from sklearn.decomposition import PCA\n",
    "import streamlit as st\n"
   ]
  },
  {
   "cell_type": "code",
   "execution_count": 23,
   "metadata": {},
   "outputs": [],
   "source": [
    "# input database\n",
    "df_nike=pd.read_csv(\"nike_sales_2024.csv\")"
   ]
  },
  {
   "cell_type": "code",
   "execution_count": 24,
   "metadata": {},
   "outputs": [],
   "source": [
    "# prepare all data  \n",
    "sort_month = [\"January\", \"February\", \"March\", \"April\", \"May\", \"June\", \"July\", \"August\", \"September\", \"October\", \"November\", \"December\"]\n",
    "df_nike.rename(columns = {\"Region\": \"Country\"}, inplace = True)\n"
   ]
  },
  {
   "cell_type": "code",
   "execution_count": 25,
   "metadata": {},
   "outputs": [
    {
     "data": {
      "text/html": [
       "<div>\n",
       "<style scoped>\n",
       "    .dataframe tbody tr th:only-of-type {\n",
       "        vertical-align: middle;\n",
       "    }\n",
       "\n",
       "    .dataframe tbody tr th {\n",
       "        vertical-align: top;\n",
       "    }\n",
       "\n",
       "    .dataframe thead th {\n",
       "        text-align: right;\n",
       "    }\n",
       "</style>\n",
       "<table border=\"1\" class=\"dataframe\">\n",
       "  <thead>\n",
       "    <tr style=\"text-align: right;\">\n",
       "      <th></th>\n",
       "      <th>Month</th>\n",
       "      <th>Country</th>\n",
       "      <th>Main_Category</th>\n",
       "      <th>Sub_Category</th>\n",
       "      <th>Product_Line</th>\n",
       "      <th>Price_Tier</th>\n",
       "      <th>Units_Sold</th>\n",
       "      <th>Revenue_USD</th>\n",
       "      <th>Online_Sales_Percentage</th>\n",
       "      <th>Retail_Price</th>\n",
       "    </tr>\n",
       "  </thead>\n",
       "  <tbody>\n",
       "    <tr>\n",
       "      <th>0</th>\n",
       "      <td>November</td>\n",
       "      <td>India</td>\n",
       "      <td>Equipment</td>\n",
       "      <td>Bags</td>\n",
       "      <td>Gym Sack</td>\n",
       "      <td>Budget</td>\n",
       "      <td>48356</td>\n",
       "      <td>14506800</td>\n",
       "      <td>73</td>\n",
       "      <td>300</td>\n",
       "    </tr>\n",
       "    <tr>\n",
       "      <th>1</th>\n",
       "      <td>January</td>\n",
       "      <td>India</td>\n",
       "      <td>Equipment</td>\n",
       "      <td>Accessories</td>\n",
       "      <td>Hats</td>\n",
       "      <td>Budget</td>\n",
       "      <td>9842</td>\n",
       "      <td>2066820</td>\n",
       "      <td>50</td>\n",
       "      <td>210</td>\n",
       "    </tr>\n",
       "    <tr>\n",
       "      <th>2</th>\n",
       "      <td>October</td>\n",
       "      <td>India</td>\n",
       "      <td>Apparel</td>\n",
       "      <td>Tops</td>\n",
       "      <td>Tech Fleece</td>\n",
       "      <td>Mid-Range</td>\n",
       "      <td>25079</td>\n",
       "      <td>1755530</td>\n",
       "      <td>90</td>\n",
       "      <td>70</td>\n",
       "    </tr>\n",
       "    <tr>\n",
       "      <th>3</th>\n",
       "      <td>December</td>\n",
       "      <td>Greater China</td>\n",
       "      <td>Footwear</td>\n",
       "      <td>Cricket</td>\n",
       "      <td>Vapor Cricket</td>\n",
       "      <td>Premium</td>\n",
       "      <td>41404</td>\n",
       "      <td>8694840</td>\n",
       "      <td>58</td>\n",
       "      <td>210</td>\n",
       "    </tr>\n",
       "    <tr>\n",
       "      <th>4</th>\n",
       "      <td>May</td>\n",
       "      <td>Greater China</td>\n",
       "      <td>Equipment</td>\n",
       "      <td>Socks</td>\n",
       "      <td>Performance Socks</td>\n",
       "      <td>Premium</td>\n",
       "      <td>33569</td>\n",
       "      <td>5371040</td>\n",
       "      <td>53</td>\n",
       "      <td>160</td>\n",
       "    </tr>\n",
       "  </tbody>\n",
       "</table>\n",
       "</div>"
      ],
      "text/plain": [
       "      Month        Country Main_Category Sub_Category       Product_Line  \\\n",
       "0  November          India     Equipment         Bags           Gym Sack   \n",
       "1   January          India     Equipment  Accessories               Hats   \n",
       "2   October          India       Apparel         Tops        Tech Fleece   \n",
       "3  December  Greater China      Footwear      Cricket      Vapor Cricket   \n",
       "4       May  Greater China     Equipment        Socks  Performance Socks   \n",
       "\n",
       "  Price_Tier  Units_Sold  Revenue_USD  Online_Sales_Percentage  Retail_Price  \n",
       "0     Budget       48356     14506800                       73           300  \n",
       "1     Budget        9842      2066820                       50           210  \n",
       "2  Mid-Range       25079      1755530                       90            70  \n",
       "3    Premium       41404      8694840                       58           210  \n",
       "4    Premium       33569      5371040                       53           160  "
      ]
     },
     "execution_count": 25,
     "metadata": {},
     "output_type": "execute_result"
    }
   ],
   "source": [
    "df_nike.head()"
   ]
  },
  {
   "cell_type": "code",
   "execution_count": 26,
   "metadata": {},
   "outputs": [
    {
     "name": "stdout",
     "output_type": "stream",
     "text": [
      "(1000, 10)\n"
     ]
    }
   ],
   "source": [
    "print(df_nike.shape)"
   ]
  },
  {
   "cell_type": "code",
   "execution_count": 27,
   "metadata": {},
   "outputs": [
    {
     "name": "stdout",
     "output_type": "stream",
     "text": [
      "['India' 'Greater China' 'Japan' 'Europe' 'South Korea' 'America'\n",
      " 'Southeast Asia']\n"
     ]
    }
   ],
   "source": [
    "print(df_nike['Country'].unique())"
   ]
  },
  {
   "cell_type": "code",
   "execution_count": 51,
   "metadata": {},
   "outputs": [
    {
     "name": "stdout",
     "output_type": "stream",
     "text": [
      "['Equipment' 'Apparel' 'Footwear']\n"
     ]
    }
   ],
   "source": [
    "print(df_nike['Main_Category'].unique())"
   ]
  },
  {
   "cell_type": "code",
   "execution_count": 52,
   "metadata": {},
   "outputs": [
    {
     "name": "stdout",
     "output_type": "stream",
     "text": [
      "['Bags' 'Accessories' 'Tops' 'Cricket' 'Socks' 'Performance' 'Outerwear'\n",
      " 'Lifestyle' 'Running' 'Basketball' 'Football']\n"
     ]
    }
   ],
   "source": [
    "print(df_nike['Sub_Category'].unique())"
   ]
  },
  {
   "cell_type": "code",
   "execution_count": 53,
   "metadata": {},
   "outputs": [
    {
     "name": "stdout",
     "output_type": "stream",
     "text": [
      "['Gym Sack' 'Hats' 'Tech Fleece' 'Vapor Cricket' 'Performance Socks'\n",
      " 'Dri-FIT' 'Therma-FIT' 'Bags' 'Crew Socks' 'Backpack' 'Rain Jacket'\n",
      " 'Air Force 1' 'React Infinity' 'Windrunner' 'Air Jordan'\n",
      " 'Compression Wear' 'Air Zoom' 'Mercurial' 'Air Max' 'KD Series'\n",
      " 'LeBron Series' 'Phantom Vision' 'Blazer' 'Pegasus']\n"
     ]
    }
   ],
   "source": [
    "print(df_nike['Product_Line'].unique())"
   ]
  },
  {
   "cell_type": "code",
   "execution_count": 54,
   "metadata": {},
   "outputs": [
    {
     "name": "stdout",
     "output_type": "stream",
     "text": [
      "['Budget' 'Mid-Range' 'Premium']\n"
     ]
    }
   ],
   "source": [
    "print(df_nike['Price_Tier'].unique())"
   ]
  },
  {
   "cell_type": "code",
   "execution_count": 29,
   "metadata": {},
   "outputs": [
    {
     "data": {
      "text/html": [
       "<style type=\"text/css\">\n",
       "</style>\n",
       "<table id=\"T_5bd1c\">\n",
       "  <thead>\n",
       "    <tr>\n",
       "      <th class=\"blank level0\" >&nbsp;</th>\n",
       "      <th id=\"T_5bd1c_level0_col0\" class=\"col_heading level0 col0\" >Units_Sold</th>\n",
       "      <th id=\"T_5bd1c_level0_col1\" class=\"col_heading level0 col1\" >Revenue_USD</th>\n",
       "      <th id=\"T_5bd1c_level0_col2\" class=\"col_heading level0 col2\" >Online_Sales_Percentage</th>\n",
       "      <th id=\"T_5bd1c_level0_col3\" class=\"col_heading level0 col3\" >Retail_Price</th>\n",
       "    </tr>\n",
       "  </thead>\n",
       "  <tbody>\n",
       "    <tr>\n",
       "      <th id=\"T_5bd1c_level0_row0\" class=\"row_heading level0 row0\" >count</th>\n",
       "      <td id=\"T_5bd1c_row0_col0\" class=\"data row0 col0\" >1,000.00</td>\n",
       "      <td id=\"T_5bd1c_row0_col1\" class=\"data row0 col1\" >1,000.00</td>\n",
       "      <td id=\"T_5bd1c_row0_col2\" class=\"data row0 col2\" >1,000.00</td>\n",
       "      <td id=\"T_5bd1c_row0_col3\" class=\"data row0 col3\" >1,000.00</td>\n",
       "    </tr>\n",
       "    <tr>\n",
       "      <th id=\"T_5bd1c_level0_row1\" class=\"row_heading level0 row1\" >mean</th>\n",
       "      <td id=\"T_5bd1c_row1_col0\" class=\"data row1 col0\" >28,498.95</td>\n",
       "      <td id=\"T_5bd1c_row1_col1\" class=\"data row1 col1\" >5,039,576.41</td>\n",
       "      <td id=\"T_5bd1c_row1_col2\" class=\"data row1 col2\" >70.04</td>\n",
       "      <td id=\"T_5bd1c_row1_col3\" class=\"data row1 col3\" >176.32</td>\n",
       "    </tr>\n",
       "    <tr>\n",
       "      <th id=\"T_5bd1c_level0_row2\" class=\"row_heading level0 row2\" >std</th>\n",
       "      <td id=\"T_5bd1c_row2_col0\" class=\"data row2 col0\" >12,926.50</td>\n",
       "      <td id=\"T_5bd1c_row2_col1\" class=\"data row2 col1\" >3,267,216.81</td>\n",
       "      <td id=\"T_5bd1c_row2_col2\" class=\"data row2 col2\" >11.75</td>\n",
       "      <td id=\"T_5bd1c_row2_col3\" class=\"data row2 col3\" >75.26</td>\n",
       "    </tr>\n",
       "    <tr>\n",
       "      <th id=\"T_5bd1c_level0_row3\" class=\"row_heading level0 row3\" >min</th>\n",
       "      <td id=\"T_5bd1c_row3_col0\" class=\"data row3 col0\" >5,028.00</td>\n",
       "      <td id=\"T_5bd1c_row3_col1\" class=\"data row3 col1\" >287,400.00</td>\n",
       "      <td id=\"T_5bd1c_row3_col2\" class=\"data row3 col2\" >50.00</td>\n",
       "      <td id=\"T_5bd1c_row3_col3\" class=\"data row3 col3\" >50.00</td>\n",
       "    </tr>\n",
       "    <tr>\n",
       "      <th id=\"T_5bd1c_level0_row4\" class=\"row_heading level0 row4\" >25%</th>\n",
       "      <td id=\"T_5bd1c_row4_col0\" class=\"data row4 col0\" >17,554.25</td>\n",
       "      <td id=\"T_5bd1c_row4_col1\" class=\"data row4 col1\" >2,344,675.00</td>\n",
       "      <td id=\"T_5bd1c_row4_col2\" class=\"data row4 col2\" >60.00</td>\n",
       "      <td id=\"T_5bd1c_row4_col3\" class=\"data row4 col3\" >110.00</td>\n",
       "    </tr>\n",
       "    <tr>\n",
       "      <th id=\"T_5bd1c_level0_row5\" class=\"row_heading level0 row5\" >50%</th>\n",
       "      <td id=\"T_5bd1c_row5_col0\" class=\"data row5 col0\" >28,685.00</td>\n",
       "      <td id=\"T_5bd1c_row5_col1\" class=\"data row5 col1\" >4,328,020.00</td>\n",
       "      <td id=\"T_5bd1c_row5_col2\" class=\"data row5 col2\" >71.00</td>\n",
       "      <td id=\"T_5bd1c_row5_col3\" class=\"data row5 col3\" >180.00</td>\n",
       "    </tr>\n",
       "    <tr>\n",
       "      <th id=\"T_5bd1c_level0_row6\" class=\"row_heading level0 row6\" >75%</th>\n",
       "      <td id=\"T_5bd1c_row6_col0\" class=\"data row6 col0\" >40,026.00</td>\n",
       "      <td id=\"T_5bd1c_row6_col1\" class=\"data row6 col1\" >7,264,942.50</td>\n",
       "      <td id=\"T_5bd1c_row6_col2\" class=\"data row6 col2\" >80.00</td>\n",
       "      <td id=\"T_5bd1c_row6_col3\" class=\"data row6 col3\" >240.00</td>\n",
       "    </tr>\n",
       "    <tr>\n",
       "      <th id=\"T_5bd1c_level0_row7\" class=\"row_heading level0 row7\" >max</th>\n",
       "      <td id=\"T_5bd1c_row7_col0\" class=\"data row7 col0\" >49,992.00</td>\n",
       "      <td id=\"T_5bd1c_row7_col1\" class=\"data row7 col1\" >14,864,700.00</td>\n",
       "      <td id=\"T_5bd1c_row7_col2\" class=\"data row7 col2\" >90.00</td>\n",
       "      <td id=\"T_5bd1c_row7_col3\" class=\"data row7 col3\" >300.00</td>\n",
       "    </tr>\n",
       "  </tbody>\n",
       "</table>\n"
      ],
      "text/plain": [
       "<pandas.io.formats.style.Styler at 0x12608148bc0>"
      ]
     },
     "execution_count": 29,
     "metadata": {},
     "output_type": "execute_result"
    }
   ],
   "source": [
    "df_nike.describe().style.format('{:,.2f}') # format data "
   ]
  },
  {
   "cell_type": "markdown",
   "metadata": {},
   "source": [
    "Confirm that the feature types and the dataset "
   ]
  },
  {
   "cell_type": "code",
   "execution_count": 30,
   "metadata": {},
   "outputs": [
    {
     "name": "stdout",
     "output_type": "stream",
     "text": [
      "Shape of the dataset is (1000, 10) \n",
      "\n",
      "Data types are below where 'object' indicates a string type: \n",
      "Month                      object\n",
      "Country                    object\n",
      "Main_Category              object\n",
      "Sub_Category               object\n",
      "Product_Line               object\n",
      "Price_Tier                 object\n",
      "Units_Sold                  int64\n",
      "Revenue_USD                 int64\n",
      "Online_Sales_Percentage     int64\n",
      "Retail_Price                int64\n",
      "dtype: object\n"
     ]
    }
   ],
   "source": [
    "print(f\"Shape of the dataset is {df_nike.shape} \\n\")\n",
    "print(f\"Data types are below where 'object' indicates a string type: \")\n",
    "print(df_nike.dtypes)"
   ]
  },
  {
   "cell_type": "code",
   "execution_count": 31,
   "metadata": {},
   "outputs": [
    {
     "data": {
      "text/plain": [
       "Month                      0\n",
       "Country                    0\n",
       "Main_Category              0\n",
       "Sub_Category               0\n",
       "Product_Line               0\n",
       "Price_Tier                 0\n",
       "Units_Sold                 0\n",
       "Revenue_USD                0\n",
       "Online_Sales_Percentage    0\n",
       "Retail_Price               0\n",
       "dtype: int64"
      ]
     },
     "execution_count": 31,
     "metadata": {},
     "output_type": "execute_result"
    }
   ],
   "source": [
    "# check if there have null value exist\n",
    "df_nike.isnull().sum()"
   ]
  },
  {
   "cell_type": "markdown",
   "metadata": {},
   "source": [
    "Use boxplot to check if there are outliers in the data"
   ]
  },
  {
   "cell_type": "code",
   "execution_count": 32,
   "metadata": {},
   "outputs": [
    {
     "data": {
      "image/png": "[encoded data removed]",
      "text/plain": [
       "<Figure size 2000x800 with 4 Axes>"
      ]
     },
     "metadata": {},
     "output_type": "display_data"
    }
   ],
   "source": [
    "# list of numeric indicators\n",
    "features = [\n",
    "    \"Units_Sold\", \n",
    "    \"Revenue_USD\",\n",
    "    \"Online_Sales_Percentage\",\n",
    "    \"Retail_Price\"\n",
    "]\n",
    "\n",
    "fig, axes = plt.subplots(nrows=2, ncols=2, figsize=(20, 8))\n",
    "axes = axes.flatten()\n",
    "\n",
    "# define a formatter appends the unit\n",
    "def revenue_formatter(x, pos):\n",
    "    # divide by 1000 to convert dollars to thousands (K USD)\n",
    "    return f'{x/1000}K'\n",
    "\n",
    "for ax, feature in zip(axes, features):\n",
    "    sns.boxplot(df_nike, x=feature, ax=ax)\n",
    "    ax.set_title(feature, fontsize=12)\n",
    "    \n",
    "    if feature == \"Revenue_USD\":\n",
    "        ax.xaxis.set_major_formatter(mticker.FuncFormatter(revenue_formatter))\n",
    "\n",
    "plt.tight_layout()\n",
    "plt.show()"
   ]
  },
  {
   "cell_type": "code",
   "execution_count": 33,
   "metadata": {},
   "outputs": [
    {
     "name": "stderr",
     "output_type": "stream",
     "text": [
      "C:\\Users\\becky\\AppData\\Local\\Temp\\ipykernel_26760\\777769999.py:2: FutureWarning:\n",
      "\n",
      "\n",
      "\n",
      "Passing `palette` without assigning `hue` is deprecated and will be removed in v0.14.0. Assign the `x` variable to `hue` and set `legend=False` for the same effect.\n",
      "\n",
      "\n"
     ]
    },
    {
     "data": {
      "image/png": "[encoded data removed]",
      "text/plain": [
       "<Figure size 640x480 with 1 Axes>"
      ]
     },
     "metadata": {},
     "output_type": "display_data"
    }
   ],
   "source": [
    "#Revenue by Price Tier\n",
    "ax = sns.boxplot(df_nike, x=\"Price_Tier\", y=\"Revenue_USD\",palette=\"Set1\")\n",
    "# define a formatter appends the unit\n",
    "def revenue_formatter(y, pos):\n",
    "    return f'{y/1000}K'\n",
    "ax.yaxis.set_major_formatter(mticker.FuncFormatter(revenue_formatter))\n",
    "\n",
    "plt.title(\"Revenue by Price Tier\")\n",
    "plt.show()"
   ]
  },
  {
   "cell_type": "code",
   "execution_count": 34,
   "metadata": {},
   "outputs": [
    {
     "name": "stderr",
     "output_type": "stream",
     "text": [
      "C:\\Users\\becky\\AppData\\Local\\Temp\\ipykernel_26760\\3638497802.py:4: FutureWarning:\n",
      "\n",
      "\n",
      "\n",
      "Passing `palette` without assigning `hue` is deprecated and will be removed in v0.14.0. Assign the `x` variable to `hue` and set `legend=False` for the same effect.\n",
      "\n",
      "\n"
     ]
    },
    {
     "data": {
      "image/png": "[encoded data removed]",
      "text/plain": [
       "<Figure size 3500x1000 with 1 Axes>"
      ]
     },
     "metadata": {},
     "output_type": "display_data"
    }
   ],
   "source": [
    "#Revenue by Product Line\n",
    "#change fig size\n",
    "plt.figure(figsize=(35, 10))\n",
    "ax = sns.boxplot(df_nike, x=\"Product_Line\", y=\"Revenue_USD\", palette=\"Set1\")\n",
    "# define a formatter appends the unit\n",
    "def revenue_formatter(y, pos):\n",
    "    return f'{y/1000}K'\n",
    "ax.yaxis.set_major_formatter(mticker.FuncFormatter(revenue_formatter))\n",
    "\n",
    "#change front size\n",
    "plt.title(\"Revenue by Product Line\", fontsize=20)\n",
    "ax.set_xlabel(\"Price Tier\", fontsize=16)\n",
    "ax.set_ylabel(\"Revenue (USD)\", fontsize=16)\n",
    "plt.show()"
   ]
  },
  {
   "cell_type": "code",
   "execution_count": 35,
   "metadata": {},
   "outputs": [
    {
     "name": "stderr",
     "output_type": "stream",
     "text": [
      "C:\\Users\\becky\\AppData\\Local\\Temp\\ipykernel_26760\\1180692660.py:2: FutureWarning:\n",
      "\n",
      "\n",
      "\n",
      "Passing `palette` without assigning `hue` is deprecated and will be removed in v0.14.0. Assign the `x` variable to `hue` and set `legend=False` for the same effect.\n",
      "\n",
      "\n"
     ]
    },
    {
     "data": {
      "image/png": "[encoded data removed]",
      "text/plain": [
       "<Figure size 640x480 with 1 Axes>"
      ]
     },
     "metadata": {},
     "output_type": "display_data"
    }
   ],
   "source": [
    "##Revenue by Main Category\n",
    "ax = sns.boxplot(df_nike, x=\"Main_Category\", y=\"Revenue_USD\", palette=\"Set1\")\n",
    "# define a formatter appends the unit\n",
    "def revenue_formatter(y, pos):\n",
    "    return f'{y/1000}K'\n",
    "ax.yaxis.set_major_formatter(mticker.FuncFormatter(revenue_formatter))\n",
    "\n",
    "plt.title(\"Revenue by Main Category\")\n",
    "plt.show()"
   ]
  },
  {
   "cell_type": "code",
   "execution_count": 36,
   "metadata": {},
   "outputs": [
    {
     "name": "stderr",
     "output_type": "stream",
     "text": [
      "C:\\Users\\becky\\AppData\\Local\\Temp\\ipykernel_26760\\2346755891.py:3: FutureWarning:\n",
      "\n",
      "\n",
      "\n",
      "Passing `palette` without assigning `hue` is deprecated and will be removed in v0.14.0. Assign the `x` variable to `hue` and set `legend=False` for the same effect.\n",
      "\n",
      "\n"
     ]
    },
    {
     "data": {
      "image/png": "[encoded data removed]",
      "text/plain": [
       "<Figure size 2000x1000 with 1 Axes>"
      ]
     },
     "metadata": {},
     "output_type": "display_data"
    }
   ],
   "source": [
    "#Revenue by Sub Category\n",
    "plt.figure(figsize=(20, 10))\n",
    "ax = sns.boxplot(df_nike, x=\"Sub_Category\", y=\"Revenue_USD\", palette=\"Set1\")\n",
    "# define a formatter appends the unit\n",
    "def revenue_formatter(y, pos):\n",
    "    return f'{y/1000}K'\n",
    "ax.yaxis.set_major_formatter(mticker.FuncFormatter(revenue_formatter))\n",
    "\n",
    "#change front size\n",
    "plt.title(\"Revenue by Sub Category\", fontsize=20)\n",
    "ax.set_xlabel(\"Price Tier\", fontsize=16)\n",
    "ax.set_ylabel(\"Revenue (USD)\", fontsize=16)\n",
    "plt.show()"
   ]
  },
  {
   "cell_type": "markdown",
   "metadata": {},
   "source": [
    "Data Exploration"
   ]
  },
  {
   "cell_type": "code",
   "execution_count": 37,
   "metadata": {},
   "outputs": [
    {
     "data": {
      "image/png": "[encoded data removed]",
      "text/plain": [
       "<Figure size 800x600 with 2 Axes>"
      ]
     },
     "metadata": {},
     "output_type": "display_data"
    }
   ],
   "source": [
    "#select all numerical columns\n",
    "numeric_features = ['Revenue_USD', 'Units_Sold', 'Retail_Price']\n",
    "\n",
    "# Compute correlation matrix\n",
    "corr_matrix = df_nike[numeric_features].corr()\n",
    "\n",
    "# Plot Heatmap\n",
    "plt.figure(figsize=(8, 6))\n",
    "sns.heatmap(corr_matrix, annot=True, cmap=\"coolwarm\", fmt=\".2f\", linewidths=0.5)\n",
    "plt.title(\"Correlation Heatmap: Revenue, Units Sold, and Price\")\n",
    "plt.show()"
   ]
  },
  {
   "cell_type": "markdown",
   "metadata": {},
   "source": [
    "#set the features\n",
    "features = [\n",
    "    'Revenue_USD',\n",
    "    'Units_Sold',\n",
    "    'Retail_Price',\n",
    "    'Price_Tier',\n",
    "    ]\n",
    "\n",
    "#set the color\n",
    "color_discrete_map = {\n",
    "    'India':\"#FF5733\",  \n",
    "    'Greater China':\"#33FF57\",  \n",
    "    'Japan':\"#3357FF\",  \n",
    "    'Europe':\"#FF33A1\",  \n",
    "    'South Korea':\"#A133FF\",  \n",
    "    'America':\"#33FFF6\", \n",
    "    'Southeast Asia':\"#FF8C33\"\n",
    "    }\n",
    "\n",
    "# Create scatter matrix\n",
    "fig = px.scatter_matrix(\n",
    "    df_nike,\n",
    "    dimensions = features,\n",
    "    color= 'Country',\n",
    "    title = 'Country-by-Country Comparison',\n",
    "    width = 800,\n",
    "    height = 800,\n",
    "    color_discrete_map=color_discrete_map\n",
    ")\n",
    "\n",
    "\n",
    "fig.update_traces(diagonal_visible=False)\n",
    "fig.show()"
   ]
  },
  {
   "cell_type": "markdown",
   "metadata": {},
   "source": [
    "\"\"\"\n",
    "df_nike['Price_Tier_num'] = df_nike['Price_Tier'].replace({\n",
    "    'Budget': 1,\n",
    "    'Mid-Range': 2,\n",
    "    'Premium': 3\n",
    "})\n",
    "\"\"\""
   ]
  },
  {
   "cell_type": "code",
   "execution_count": 46,
   "metadata": {},
   "outputs": [
    {
     "data": {
      "application/vnd.plotly.v1+json": {
       "config": {
        "plotlyServerURL": "https://plot.ly"
       },
       "data": [
        {
         "diagonal": {
          "visible": false
         },
         "dimensions": [
          {
           "axis": {
            "matches": true
           },
           "label": "Revenue_USD",
           "values": [
            14506800,
            2066820,
            7032000,
            10723060,
            2636500,
            6846320,
            1663480,
            12604140,
            2157640,
            2497530,
            2845290,
            5697330,
            3718200,
            13504120,
            2044930,
            5093760,
            1437040,
            2947560,
            6584970,
            6002800,
            403860,
            2240900,
            3552360,
            3896910,
            1945970,
            6195280,
            7627740,
            9450270,
            2583700,
            2528240,
            5370600,
            7409000,
            9341280,
            5642000,
            7257840,
            4921620,
            4737770,
            9425240,
            972300,
            1136160,
            4578990,
            2234400,
            1592400,
            4421040,
            4545440,
            6544230,
            4402530,
            3843810,
            6911320,
            6950700,
            5209280,
            3553410,
            1714650,
            2970180,
            2688180,
            2411200,
            6495150,
            5414800,
            5423320
           ]
          },
          {
           "axis": {
            "matches": true
           },
           "label": "Units_Sold",
           "values": [
            48356,
            9842,
            35160,
            46622,
            10546,
            23608,
            12796,
            46682,
            12692,
            11893,
            13549,
            24771,
            24788,
            48229,
            8891,
            18192,
            6248,
            10527,
            31357,
            30014,
            6731,
            22409,
            29603,
            14433,
            14969,
            44252,
            40146,
            35001,
            25837,
            19448,
            35804,
            29636,
            38922,
            21700,
            30241,
            22371,
            20599,
            42842,
            6482,
            9468,
            35223,
            9310,
            19905,
            18421,
            28409,
            31163,
            40023,
            42709,
            26582,
            46338,
            32558,
            16921,
            24495,
            33002,
            44803,
            12056,
            34185,
            27074,
            19369
           ]
          },
          {
           "axis": {
            "matches": true
           },
           "label": "Retail_Price",
           "values": [
            300,
            210,
            200,
            230,
            250,
            290,
            130,
            270,
            170,
            210,
            210,
            230,
            150,
            280,
            230,
            280,
            230,
            280,
            210,
            200,
            60,
            100,
            120,
            270,
            130,
            140,
            190,
            270,
            100,
            130,
            150,
            250,
            240,
            260,
            240,
            220,
            230,
            220,
            150,
            120,
            130,
            240,
            80,
            240,
            160,
            210,
            110,
            90,
            260,
            150,
            160,
            210,
            70,
            90,
            60,
            200,
            190,
            200,
            280
           ]
          }
         ],
         "hovertemplate": "Price_Tier=Budget<br>%{xaxis.title.text}=%{x}<br>%{yaxis.title.text}=%{y}<extra></extra>",
         "legendgroup": "Budget",
         "marker": {
          "color": "#FF5733",
          "symbol": "circle"
         },
         "name": "Budget",
         "showlegend": true,
         "type": "splom"
        },
        {
         "diagonal": {
          "visible": false
         },
         "dimensions": [
          {
           "axis": {
            "matches": true
           },
           "label": "Revenue_USD",
           "values": [
            1755530,
            423900,
            5848800,
            3789900,
            11727600,
            2428650,
            1401900,
            12150420,
            2859120,
            4080060,
            4700600,
            8283560,
            4964120,
            2590140,
            4402750,
            9679330,
            4971240,
            1253400,
            2218560,
            9369850,
            6968080,
            3698550,
            2987800,
            10371600,
            4555260,
            3017760,
            6459000,
            3256240,
            1672860,
            1029340,
            3300080,
            8391090,
            7914450,
            3205350,
            6826540,
            3862690,
            6381600,
            11835750,
            9409260,
            3719680,
            2344300,
            5082240,
            7792160,
            5619680,
            9327690,
            3828800,
            3761500,
            5337180,
            987000
           ]
          },
          {
           "axis": {
            "matches": true
           },
           "label": "Units_Sold",
           "values": [
            25079,
            8478,
            48740,
            42110,
            40440,
            16191,
            28038,
            41898,
            31768,
            45334,
            23503,
            28564,
            17729,
            43169,
            40025,
            33377,
            27618,
            12534,
            18488,
            49315,
            49772,
            41095,
            14939,
            43215,
            25307,
            37722,
            32295,
            25048,
            7966,
            7918,
            47144,
            36483,
            41655,
            18855,
            48761,
            29713,
            31908,
            47343,
            44806,
            46496,
            33490,
            31764,
            48701,
            25544,
            34547,
            19144,
            15046,
            29651,
            9870
           ]
          },
          {
           "axis": {
            "matches": true
           },
           "label": "Retail_Price",
           "values": [
            70,
            50,
            120,
            90,
            290,
            150,
            50,
            290,
            90,
            90,
            200,
            290,
            280,
            60,
            110,
            290,
            180,
            100,
            120,
            190,
            140,
            90,
            200,
            240,
            180,
            80,
            200,
            130,
            210,
            130,
            70,
            230,
            190,
            170,
            140,
            130,
            200,
            250,
            210,
            80,
            70,
            160,
            160,
            220,
            270,
            200,
            250,
            180,
            100
           ]
          }
         ],
         "hovertemplate": "Price_Tier=Mid-Range<br>%{xaxis.title.text}=%{x}<br>%{yaxis.title.text}=%{y}<extra></extra>",
         "legendgroup": "Mid-Range",
         "marker": {
          "color": "#33FF57",
          "symbol": "circle"
         },
         "name": "Mid-Range",
         "showlegend": true,
         "type": "splom"
        },
        {
         "diagonal": {
          "visible": false
         },
         "dimensions": [
          {
           "axis": {
            "matches": true
           },
           "label": "Revenue_USD",
           "values": [
            1491350,
            7210800,
            1814080,
            3693520,
            2479320,
            2110860,
            10613160,
            1992760,
            2538270,
            1986660,
            12542310,
            5802720,
            1878120,
            642000,
            5776960,
            7392840,
            828730,
            11568390,
            1530350,
            5080320,
            7584360,
            12850600,
            8025210,
            6693570,
            12854240,
            4332900,
            5665080,
            2085150,
            8247020,
            1410200,
            8325200,
            6748640,
            5438040,
            6125700,
            1149900,
            2579440,
            10943240
           ]
          },
          {
           "axis": {
            "matches": true
           },
           "label": "Units_Sold",
           "values": [
            29827,
            30045,
            22676,
            46169,
            20661,
            11727,
            39308,
            9058,
            28203,
            22074,
            46453,
            20724,
            20868,
            6420,
            20632,
            28434,
            11839,
            39891,
            30607,
            31752,
            27087,
            45895,
            29723,
            24791,
            45908,
            33330,
            33324,
            13901,
            28438,
            14102,
            32020,
            42179,
            45317,
            20419,
            11499,
            13576,
            39083
           ]
          },
          {
           "axis": {
            "matches": true
           },
           "label": "Retail_Price",
           "values": [
            50,
            240,
            80,
            80,
            120,
            180,
            270,
            220,
            90,
            90,
            270,
            280,
            90,
            100,
            280,
            260,
            70,
            290,
            50,
            160,
            280,
            280,
            270,
            270,
            280,
            130,
            170,
            150,
            290,
            100,
            260,
            160,
            120,
            300,
            100,
            190,
            280
           ]
          }
         ],
         "hovertemplate": "Price_Tier=Premium<br>%{xaxis.title.text}=%{x}<br>%{yaxis.title.text}=%{y}<extra></extra>",
         "legendgroup": "Premium",
         "marker": {
          "color": "#3357FF",
          "symbol": "circle"
         },
         "name": "Premium",
         "showlegend": true,
         "type": "splom"
        }
       ],
       "layout": {
        "dragmode": "select",
        "height": 800,
        "legend": {
         "title": {
          "text": "Price_Tier"
         },
         "tracegroupgap": 0
        },
        "template": {
         "data": {
          "candlestick": [
           {
            "decreasing": {
             "line": {
              "color": "#000033"
             }
            },
            "increasing": {
             "line": {
              "color": "#000032"
             }
            },
            "type": "candlestick"
           }
          ],
          "contour": [
           {
            "colorscale": [
             [
              0,
              "#000011"
             ],
             [
              0.1111111111111111,
              "#000012"
             ],
             [
              0.2222222222222222,
              "#000013"
             ],
             [
              0.3333333333333333,
              "#000014"
             ],
             [
              0.4444444444444444,
              "#000015"
             ],
             [
              0.5555555555555556,
              "#000016"
             ],
             [
              0.6666666666666666,
              "#000017"
             ],
             [
              0.7777777777777778,
              "#000018"
             ],
             [
              0.8888888888888888,
              "#000019"
             ],
             [
              1,
              "#000020"
             ]
            ],
            "type": "contour"
           }
          ],
          "contourcarpet": [
           {
            "colorscale": [
             [
              0,
              "#000011"
             ],
             [
              0.1111111111111111,
              "#000012"
             ],
             [
              0.2222222222222222,
              "#000013"
             ],
             [
              0.3333333333333333,
              "#000014"
             ],
             [
              0.4444444444444444,
              "#000015"
             ],
             [
              0.5555555555555556,
              "#000016"
             ],
             [
              0.6666666666666666,
              "#000017"
             ],
             [
              0.7777777777777778,
              "#000018"
             ],
             [
              0.8888888888888888,
              "#000019"
             ],
             [
              1,
              "#000020"
             ]
            ],
            "type": "contourcarpet"
           }
          ],
          "heatmap": [
           {
            "colorscale": [
             [
              0,
              "#000011"
             ],
             [
              0.1111111111111111,
              "#000012"
             ],
             [
              0.2222222222222222,
              "#000013"
             ],
             [
              0.3333333333333333,
              "#000014"
             ],
             [
              0.4444444444444444,
              "#000015"
             ],
             [
              0.5555555555555556,
              "#000016"
             ],
             [
              0.6666666666666666,
              "#000017"
             ],
             [
              0.7777777777777778,
              "#000018"
             ],
             [
              0.8888888888888888,
              "#000019"
             ],
             [
              1,
              "#000020"
             ]
            ],
            "type": "heatmap"
           }
          ],
          "histogram2d": [
           {
            "colorscale": [
             [
              0,
              "#000011"
             ],
             [
              0.1111111111111111,
              "#000012"
             ],
             [
              0.2222222222222222,
              "#000013"
             ],
             [
              0.3333333333333333,
              "#000014"
             ],
             [
              0.4444444444444444,
              "#000015"
             ],
             [
              0.5555555555555556,
              "#000016"
             ],
             [
              0.6666666666666666,
              "#000017"
             ],
             [
              0.7777777777777778,
              "#000018"
             ],
             [
              0.8888888888888888,
              "#000019"
             ],
             [
              1,
              "#000020"
             ]
            ],
            "type": "histogram2d"
           }
          ],
          "icicle": [
           {
            "textfont": {
             "color": "white"
            },
            "type": "icicle"
           }
          ],
          "sankey": [
           {
            "textfont": {
             "color": "#000036"
            },
            "type": "sankey"
           }
          ],
          "scatter": [
           {
            "marker": {
             "line": {
              "width": 0
             }
            },
            "type": "scatter"
           }
          ],
          "table": [
           {
            "cells": {
             "fill": {
              "color": "#000038"
             },
             "font": {
              "color": "#000037"
             },
             "line": {
              "color": "#000039"
             }
            },
            "header": {
             "fill": {
              "color": "#000040"
             },
             "font": {
              "color": "#000036"
             },
             "line": {
              "color": "#000039"
             }
            },
            "type": "table"
           }
          ],
          "waterfall": [
           {
            "connector": {
             "line": {
              "color": "#000036",
              "width": 2
             }
            },
            "decreasing": {
             "marker": {
              "color": "#000033"
             }
            },
            "increasing": {
             "marker": {
              "color": "#000032"
             }
            },
            "totals": {
             "marker": {
              "color": "#000034"
             }
            },
            "type": "waterfall"
           }
          ]
         },
         "layout": {
          "coloraxis": {
           "colorscale": [
            [
             0,
             "#000011"
            ],
            [
             0.1111111111111111,
             "#000012"
            ],
            [
             0.2222222222222222,
             "#000013"
            ],
            [
             0.3333333333333333,
             "#000014"
            ],
            [
             0.4444444444444444,
             "#000015"
            ],
            [
             0.5555555555555556,
             "#000016"
            ],
            [
             0.6666666666666666,
             "#000017"
            ],
            [
             0.7777777777777778,
             "#000018"
            ],
            [
             0.8888888888888888,
             "#000019"
            ],
            [
             1,
             "#000020"
            ]
           ]
          },
          "colorscale": {
           "diverging": [
            [
             0,
             "#000021"
            ],
            [
             0.1,
             "#000022"
            ],
            [
             0.2,
             "#000023"
            ],
            [
             0.3,
             "#000024"
            ],
            [
             0.4,
             "#000025"
            ],
            [
             0.5,
             "#000026"
            ],
            [
             0.6,
             "#000027"
            ],
            [
             0.7,
             "#000028"
            ],
            [
             0.8,
             "#000029"
            ],
            [
             0.9,
             "#000030"
            ],
            [
             1,
             "#000031"
            ]
           ],
           "sequential": [
            [
             0,
             "#000011"
            ],
            [
             0.1111111111111111,
             "#000012"
            ],
            [
             0.2222222222222222,
             "#000013"
            ],
            [
             0.3333333333333333,
             "#000014"
            ],
            [
             0.4444444444444444,
             "#000015"
            ],
            [
             0.5555555555555556,
             "#000016"
            ],
            [
             0.6666666666666666,
             "#000017"
            ],
            [
             0.7777777777777778,
             "#000018"
            ],
            [
             0.8888888888888888,
             "#000019"
            ],
            [
             1,
             "#000020"
            ]
           ],
           "sequentialminus": [
            [
             0,
             "#000011"
            ],
            [
             0.1111111111111111,
             "#000012"
            ],
            [
             0.2222222222222222,
             "#000013"
            ],
            [
             0.3333333333333333,
             "#000014"
            ],
            [
             0.4444444444444444,
             "#000015"
            ],
            [
             0.5555555555555556,
             "#000016"
            ],
            [
             0.6666666666666666,
             "#000017"
            ],
            [
             0.7777777777777778,
             "#000018"
            ],
            [
             0.8888888888888888,
             "#000019"
            ],
            [
             1,
             "#000020"
            ]
           ]
          },
          "colorway": [
           "#000001",
           "#000002",
           "#000003",
           "#000004",
           "#000005",
           "#000006",
           "#000007",
           "#000008",
           "#000009",
           "#000010"
          ]
         }
        },
        "title": {
         "text": "Nike 2024 Global Sales & Pricing Analysis"
        },
        "width": 800
       }
      }
     },
     "metadata": {},
     "output_type": "display_data"
    }
   ],
   "source": [
    "df_india = df_nike[df_nike['Country'].str.lower() == 'india']\n",
    "\n",
    "features = [ \n",
    "    'Revenue_USD',\n",
    "    'Units_Sold',\n",
    "    'Retail_Price'\n",
    "]\n",
    "\n",
    "color_discrete_map = {\n",
    "    'Budget': \"#FF5733\",\n",
    "    'Mid-Range': \"#33FF57\",\n",
    "    'Premium': \"#3357FF\"\n",
    "}\n",
    "\n",
    "fig = px.scatter_matrix(\n",
    "    df_india,\n",
    "    dimensions=features,\n",
    "    color=\"Price_Tier\", \n",
    "    color_discrete_map=color_discrete_map,\n",
    "    title='Nike 2024 Global Sales & Pricing Analysis',\n",
    "    width= 800,\n",
    "    height= 800\n",
    ")\n",
    "fig.update_traces(diagonal_visible=False)\n",
    "fig.show()"
   ]
  },
  {
   "cell_type": "code",
   "execution_count": 50,
   "metadata": {},
   "outputs": [
    {
     "data": {
      "application/vnd.plotly.v1+json": {
       "config": {
        "plotlyServerURL": "https://plot.ly"
       },
       "data": [
        {
         "diagonal": {
          "visible": false
         },
         "dimensions": [
          {
           "axis": {
            "matches": true
           },
           "label": "PC 1 (100.0%)",
           "values": [
            9382480.197212152,
            -3057558.1378841773,
            1907671.4179453999,
            5598748.81779101,
            -2487878.265288627,
            1721961.5512444014,
            -3460888.928456775,
            7479822.413441674,
            -2966730.9267847585,
            -2626844.2227585013,
            -2279081.0616428894,
            572978.6315697525,
            -1406144.4191852594,
            8379803.359968911,
            -3079450.5733725172,
            -30606.640881505795,
            -3687345.434119521,
            -2176819.4003620944,
            1460632.9318032572,
            878461.4152623741,
            -4720520.555899931,
            -2883445.549777773,
            -1571971.1216088482,
            -1227462.394830165,
            -3178394.1738837454,
            1070978.354094767,
            2503422.5102433916,
            4325932.561185065,
            -2540637.6904066815,
            -2596114.3737306846,
            246278.91532986145,
            2284655.510993464,
            4216953.29879276,
            517640.7126842942,
            2133497.636444729,
            -202735.0018619569,
            -386589.0411644513,
            4300923.360673283,
            -4152083.1956589147,
            -3988215.8799943947,
            -545329.8576747477,
            -2889980.127477241,
            -3531949.901955885,
            -703323.6893188609,
            -578897.7401353251,
            1419892.5614793273,
            -721776.5625109076,
            -1280487.5179466824,
            1786969.1801522048,
            1826401.2288540322,
            84950.90366906114,
            -1570954.6248784908,
            -3409688.2036358262,
            -2154140.111869853,
            -2436107.954636536,
            -2713173.4911079723,
            1370820.715389613,
            290455.7005542312,
            298955.31840207614
           ]
          },
          {
           "axis": {
            "matches": true
           },
           "label": "PC 2 (0.0%)",
           "values": [
            -4668.476149925953,
            -10321.10786191779,
            1880.9761698425646,
            3592.6795057974814,
            -11122.13431734292,
            -9180.815305249856,
            -6301.327351427084,
            -1316.4085949349083,
            -7710.854144019189,
            -9407.864438147415,
            -8670.501634752123,
            -4982.466990510367,
            262.8210680819502,
            -2146.7872963268546,
            -11214.370627019847,
            -9967.278139837115,
            -12251.582296496834,
            -11962.9522189897,
            -741.1798938926113,
            -546.301777954448,
            -9038.581881170147,
            1786.409407094743,
            5515.961787354856,
            -10564.679532993296,
            -4874.561757927384,
            13183.332919464483,
            5293.294621240719,
            -4666.250538172217,
            4308.845427866403,
            -1933.7043749153454,
            6913.817029203248,
            -4639.034395404247,
            -457.26502468895524,
            -7907.41384736741,
            -3634.7036420452223,
            -5333.334548592482,
            -6619.71522549258,
            3240.9913971149763,
            -10789.5692790755,
            -8236.303784129144,
            8423.970377711332,
            -11295.914067098098,
            995.567811282699,
            -7961.08590873697,
            1698.5520332670603,
            -827.5617682034135,
            13690.113777577313,
            17852.033766470693,
            -6378.410250792756,
            13273.801729135324,
            4093.947040671661,
            -7169.059984360262,
            5262.61973679332,
            10452.890360553545,
            22998.75553695463,
            -9016.775424775045,
            2324.1352448979414,
            -1933.0482152889272,
            -9660.832165778069
           ]
          },
          {
           "axis": {
            "matches": true
           },
           "label": "PC 3 (0.0%)",
           "values": [
            -50.70883396088854,
            25.34649115295801,
            -0.8393775689286258,
            -19.935696411841434,
            52.40447630207146,
            36.35281113750483,
            -28.10190379877787,
            -34.07442603356296,
            -2.9276991465550566,
            23.210944377746586,
            21.486680379818694,
            15.463862363214503,
            -7.171429545247747,
            -42.32960347576983,
            41.19014460878168,
            49.79672352917797,
            45.47191815884679,
            73.30600529809382,
            2.944595068768052,
            3.0294462120607193,
            -92.19204595906291,
            -26.397786361285654,
            -8.121222812472979,
            55.50311965774196,
            -25.33336979899309,
            9.167836449014601,
            -2.969115876435012,
            -1.6282940226437859,
            -19.054009872718296,
            -19.626851720283497,
            0.4873343368092833,
            10.428168189591076,
            -8.72592288367241,
            31.59801866811921,
            7.8500415032720525,
            15.826491709894384,
            22.22268160304489,
            -11.41288807621035,
            -19.898493055136612,
            -39.601713737405504,
            0.4714565386234142,
            47.81680922394176,
            -40.240404648977176,
            30.419779903650237,
            -2.875951546821142,
            3.1465921796364,
            9.753344320305217,
            19.451292710036768,
            19.450264634156753,
            7.810992537026124,
            -1.1921643994224667,
            17.975679050704656,
            -30.66126395361576,
            -4.15324082304727,
            33.44301619952549,
            16.530483417464268,
            -0.2127406578824491,
            5.239773051568818,
            46.1867529300894
           ]
          }
         ],
         "hovertemplate": "color=Budget<br>%{xaxis.title.text}=%{x}<br>%{yaxis.title.text}=%{y}<extra></extra>",
         "legendgroup": "Budget",
         "marker": {
          "color": "#FF5733",
          "symbol": "circle"
         },
         "name": "Budget",
         "showlegend": true,
         "type": "splom"
        },
        {
         "diagonal": {
          "visible": false
         },
         "dimensions": [
          {
           "axis": {
            "matches": true
           },
           "label": "PC 1 (100.0%)",
           "values": [
            -3368806.8035689397,
            -4700476.011071399,
            724511.4183079246,
            -1334398.9121735268,
            6603268.983194969,
            -2695712.629681491,
            -3722427.753443561,
            7026091.359370346,
            -2265202.984116808,
            -1044231.4080210282,
            -423751.2406780049,
            3159209.6282849805,
            -160247.41161073092,
            -2534151.928960564,
            -721556.5579952952,
            4554987.47227132,
            -153101.31504637282,
            -3870968.190177286,
            -2905795.829304669,
            4245550.652671558,
            1843790.2393752523,
            -1425751.274678113,
            -2136567.8871951923,
            5247281.044266795,
            -569085.9683889886,
            -2106547.809600446,
            1334665.8490206283,
            -1868102.1208043303,
            -3451521.7189547615,
            -4095039.6016308386,
            -1824203.9054938373,
            3266760.171134229,
            2790135.496056905,
            -1919008.3021602845,
            1702248.0625602938,
            -1261641.9136790726,
            1257265.0967784347,
            6711436.840308654,
            4284948.604414287,
            -1404607.0811766586,
            -2780016.639249443,
            -42090.75050801318,
            2667864.5351306694,
            495330.9443216361,
            4203351.789596631,
            -1295559.7136075264,
            -1362870.3033572799,
            212842.77852590661,
            -4137374.2979265824
           ]
          },
          {
           "axis": {
            "matches": true
           },
           "label": "PC 2 (0.0%)",
           "values": [
            5738.625493127405,
            -7344.495565762546,
            18586.590356586996,
            17395.44708674015,
            -5243.021980507263,
            -4927.6847668635655,
            9631.79443085488,
            -4901.927477924402,
            9512.276065415834,
            19852.93532622474,
            -3617.4262859424707,
            -8021.374732684249,
            -10087.825706523046,
            21623.75529159805,
            13691.532613730498,
            -6895.38855920599,
            -217.28951311638411,
            -5479.942898949641,
            -2075.616649548283,
            9860.350873830368,
            16661.887170811795,
            16621.76515030192,
            -7656.914887756237,
            1114.0682300409699,
            -1429.4381278475212,
            15047.181498897538,
            529.6059171339693,
            1743.1880887746338,
            -11156.429491851104,
            -9504.163322477034,
            23723.329283387036,
            -386.2418399562721,
            6044.92379401395,
            -4315.486934457449,
            16024.782397603074,
            4806.17082861637,
            347.06480446442947,
            1374.3888794919276,
            5247.221279334008,
            21966.91313133468,
            12594.249494028096,
            3635.5369091027897,
            13413.990811347114,
            -4004.3161212694504,
            -4796.447288641333,
            -5673.490136398588,
            -9593.902277074507,
            849.0445992801542,
            -7440.2023970055625
           ]
          },
          {
           "axis": {
            "matches": true
           },
           "label": "PC 3 (0.0%)",
           "values": [
            -28.9031185390173,
            -93.97331445731402,
            21.79892393847976,
            17.994703075101427,
            -20.143884176070742,
            -13.148407858069476,
            -23.76575145452395,
            -25.037668739235755,
            -7.15396137314778,
            25.834511060129017,
            7.9244931685359745,
            19.717971428968696,
            51.21678842924425,
            28.050925120329907,
            9.757050083279239,
            3.5631119622244114,
            0.8169123092675363,
            -47.552918457144074,
            -25.499204269171543,
            -7.208875040821567,
            14.60310651689457,
            15.526525313065747,
            14.363009853416003,
            -16.923206043809785,
            1.2166947611879948,
            8.241658534616391,
            1.3145633818165265,
            -12.492111545964718,
            27.299824039499526,
            -34.31677211490768,
            37.52407079850815,
            -3.5100808143725715,
            -3.666879708811422,
            -2.210207233483601,
            13.60762498815788,
            -6.548618168608101,
            1.60551456783341,
            -28.507111420031265,
            -11.058802581070239,
            32.11670048179326,
            -3.5816098366412916,
            -1.5143931280400693,
            5.359143366414315,
            11.604394496211114,
            -0.36722528426886925,
            11.201641023439294,
            42.50958963333591,
            0.46522138553140735,
            -53.25998396634577
           ]
          }
         ],
         "hovertemplate": "color=Mid-Range<br>%{xaxis.title.text}=%{x}<br>%{yaxis.title.text}=%{y}<extra></extra>",
         "legendgroup": "Mid-Range",
         "marker": {
          "color": "#33FF57",
          "symbol": "circle"
         },
         "name": "Mid-Range",
         "showlegend": true,
         "type": "splom"
        },
        {
         "diagonal": {
          "visible": false
         },
         "dimensions": [
          {
           "axis": {
            "matches": true
           },
           "label": "PC 1 (100.0%)",
           "values": [
            -3632973.3396963114,
            2086457.2828195458,
            -3310263.355516141,
            -1430767.8537085229,
            -2645030.998911235,
            -3013513.312565846,
            5488829.881077987,
            -3131619.950346723,
            -2586061.281977744,
            -3137685.5477812993,
            7417992.024248389,
            678357.5739919264,
            -3246228.3548557144,
            -4482382.207737044,
            652597.420844866,
            2268492.392309225,
            -4295638.544811375,
            6444058.088462266,
            -3593971.4153123796,
            -44010.77550817095,
            2460008.1661086883,
            7726279.474694586,
            2900863.5910446346,
            1569215.2089429656,
            7729919.496334932,
            -791423.999601461,
            540751.3369264472,
            -3039217.480447615,
            3122669.4229364907,
            -3714164.595225748,
            3200858.6119609913,
            1624330.9475451764,
            313743.80927123595,
            1001335.6416677162,
            -3974470.5631204247,
            -2544930.063027014,
            5818908.135153585
           ]
          },
          {
           "axis": {
            "matches": true
           },
           "label": "PC 2 (0.0%)",
           "values": [
            11184.48271326534,
            -3706.443990968368,
            3180.953764494843,
            21709.020238263452,
            -591.4511125810768,
            -8552.319213113142,
            -3431.1020706160907,
            -10909.515551728793,
            6794.86118521653,
            2123.041886270803,
            -1382.0805241362923,
            -9308.04177083329,
            1203.7705411038005,
            -9978.826746965373,
            -9331.99506702142,
            -5798.378570977875,
            -5053.011859378259,
            -5371.458799381055,
            11861.451332762354,
            3628.608796283108,
            -7651.3589051257995,
            -2754.4720061431817,
            -6179.85945662154,
            -7594.243538810257,
            -2751.0873012470347,
            7181.049407396131,
            3655.885474296221,
            -6310.290136414016,
            -8050.852035376594,
            -4326.15652772153,
            -4675.271873452943,
            9648.561493850655,
            16248.671059284305,
            -10466.291444229402,
            -6241.530203937584,
            -7941.156750916227,
            -4528.057371725361
           ]
          },
          {
           "axis": {
            "matches": true
           },
           "label": "PC 3 (0.0%)",
           "values": [
            -17.344415554115386,
            8.224294356611637,
            -32.70020163602672,
            31.22689666178792,
            -22.101781533642423,
            3.565914015657796,
            -13.591780930530831,
            33.54120340411609,
            -15.822979818130221,
            -30.726882777259902,
            -33.438336295483964,
            42.030839453653556,
            -33.65951566495946,
            -60.650890875784924,
            42.31301217677685,
            14.841981047327891,
            -68.76244266450276,
            -18.301162828212313,
            -14.54472745891212,
            -1.5192630836363321,
            22.51491513589599,
            -35.17100417392379,
            13.032324482075978,
            26.73186416856285,
            -35.21087640653906,
            -1.9403404524454118,
            -0.5257369283998514,
            -14.74050746681226,
            20.140891082575507,
            -44.193804824100425,
            5.919030214515658,
            2.7123224998599653,
            16.44716230768543,
            51.14710898726236,
            -49.77019052997582,
            9.31689143055064,
            -14.277954283531841
           ]
          }
         ],
         "hovertemplate": "color=Premium<br>%{xaxis.title.text}=%{x}<br>%{yaxis.title.text}=%{y}<extra></extra>",
         "legendgroup": "Premium",
         "marker": {
          "color": "#3357FF",
          "symbol": "circle"
         },
         "name": "Premium",
         "showlegend": true,
         "type": "splom"
        }
       ],
       "layout": {
        "dragmode": "select",
        "height": 700,
        "legend": {
         "title": {
          "text": "color"
         },
         "tracegroupgap": 0
        },
        "template": {
         "data": {
          "candlestick": [
           {
            "decreasing": {
             "line": {
              "color": "#000033"
             }
            },
            "increasing": {
             "line": {
              "color": "#000032"
             }
            },
            "type": "candlestick"
           }
          ],
          "contour": [
           {
            "colorscale": [
             [
              0,
              "#000011"
             ],
             [
              0.1111111111111111,
              "#000012"
             ],
             [
              0.2222222222222222,
              "#000013"
             ],
             [
              0.3333333333333333,
              "#000014"
             ],
             [
              0.4444444444444444,
              "#000015"
             ],
             [
              0.5555555555555556,
              "#000016"
             ],
             [
              0.6666666666666666,
              "#000017"
             ],
             [
              0.7777777777777778,
              "#000018"
             ],
             [
              0.8888888888888888,
              "#000019"
             ],
             [
              1,
              "#000020"
             ]
            ],
            "type": "contour"
           }
          ],
          "contourcarpet": [
           {
            "colorscale": [
             [
              0,
              "#000011"
             ],
             [
              0.1111111111111111,
              "#000012"
             ],
             [
              0.2222222222222222,
              "#000013"
             ],
             [
              0.3333333333333333,
              "#000014"
             ],
             [
              0.4444444444444444,
              "#000015"
             ],
             [
              0.5555555555555556,
              "#000016"
             ],
             [
              0.6666666666666666,
              "#000017"
             ],
             [
              0.7777777777777778,
              "#000018"
             ],
             [
              0.8888888888888888,
              "#000019"
             ],
             [
              1,
              "#000020"
             ]
            ],
            "type": "contourcarpet"
           }
          ],
          "heatmap": [
           {
            "colorscale": [
             [
              0,
              "#000011"
             ],
             [
              0.1111111111111111,
              "#000012"
             ],
             [
              0.2222222222222222,
              "#000013"
             ],
             [
              0.3333333333333333,
              "#000014"
             ],
             [
              0.4444444444444444,
              "#000015"
             ],
             [
              0.5555555555555556,
              "#000016"
             ],
             [
              0.6666666666666666,
              "#000017"
             ],
             [
              0.7777777777777778,
              "#000018"
             ],
             [
              0.8888888888888888,
              "#000019"
             ],
             [
              1,
              "#000020"
             ]
            ],
            "type": "heatmap"
           }
          ],
          "histogram2d": [
           {
            "colorscale": [
             [
              0,
              "#000011"
             ],
             [
              0.1111111111111111,
              "#000012"
             ],
             [
              0.2222222222222222,
              "#000013"
             ],
             [
              0.3333333333333333,
              "#000014"
             ],
             [
              0.4444444444444444,
              "#000015"
             ],
             [
              0.5555555555555556,
              "#000016"
             ],
             [
              0.6666666666666666,
              "#000017"
             ],
             [
              0.7777777777777778,
              "#000018"
             ],
             [
              0.8888888888888888,
              "#000019"
             ],
             [
              1,
              "#000020"
             ]
            ],
            "type": "histogram2d"
           }
          ],
          "icicle": [
           {
            "textfont": {
             "color": "white"
            },
            "type": "icicle"
           }
          ],
          "sankey": [
           {
            "textfont": {
             "color": "#000036"
            },
            "type": "sankey"
           }
          ],
          "scatter": [
           {
            "marker": {
             "line": {
              "width": 0
             }
            },
            "type": "scatter"
           }
          ],
          "table": [
           {
            "cells": {
             "fill": {
              "color": "#000038"
             },
             "font": {
              "color": "#000037"
             },
             "line": {
              "color": "#000039"
             }
            },
            "header": {
             "fill": {
              "color": "#000040"
             },
             "font": {
              "color": "#000036"
             },
             "line": {
              "color": "#000039"
             }
            },
            "type": "table"
           }
          ],
          "waterfall": [
           {
            "connector": {
             "line": {
              "color": "#000036",
              "width": 2
             }
            },
            "decreasing": {
             "marker": {
              "color": "#000033"
             }
            },
            "increasing": {
             "marker": {
              "color": "#000032"
             }
            },
            "totals": {
             "marker": {
              "color": "#000034"
             }
            },
            "type": "waterfall"
           }
          ]
         },
         "layout": {
          "coloraxis": {
           "colorscale": [
            [
             0,
             "#000011"
            ],
            [
             0.1111111111111111,
             "#000012"
            ],
            [
             0.2222222222222222,
             "#000013"
            ],
            [
             0.3333333333333333,
             "#000014"
            ],
            [
             0.4444444444444444,
             "#000015"
            ],
            [
             0.5555555555555556,
             "#000016"
            ],
            [
             0.6666666666666666,
             "#000017"
            ],
            [
             0.7777777777777778,
             "#000018"
            ],
            [
             0.8888888888888888,
             "#000019"
            ],
            [
             1,
             "#000020"
            ]
           ]
          },
          "colorscale": {
           "diverging": [
            [
             0,
             "#000021"
            ],
            [
             0.1,
             "#000022"
            ],
            [
             0.2,
             "#000023"
            ],
            [
             0.3,
             "#000024"
            ],
            [
             0.4,
             "#000025"
            ],
            [
             0.5,
             "#000026"
            ],
            [
             0.6,
             "#000027"
            ],
            [
             0.7,
             "#000028"
            ],
            [
             0.8,
             "#000029"
            ],
            [
             0.9,
             "#000030"
            ],
            [
             1,
             "#000031"
            ]
           ],
           "sequential": [
            [
             0,
             "#000011"
            ],
            [
             0.1111111111111111,
             "#000012"
            ],
            [
             0.2222222222222222,
             "#000013"
            ],
            [
             0.3333333333333333,
             "#000014"
            ],
            [
             0.4444444444444444,
             "#000015"
            ],
            [
             0.5555555555555556,
             "#000016"
            ],
            [
             0.6666666666666666,
             "#000017"
            ],
            [
             0.7777777777777778,
             "#000018"
            ],
            [
             0.8888888888888888,
             "#000019"
            ],
            [
             1,
             "#000020"
            ]
           ],
           "sequentialminus": [
            [
             0,
             "#000011"
            ],
            [
             0.1111111111111111,
             "#000012"
            ],
            [
             0.2222222222222222,
             "#000013"
            ],
            [
             0.3333333333333333,
             "#000014"
            ],
            [
             0.4444444444444444,
             "#000015"
            ],
            [
             0.5555555555555556,
             "#000016"
            ],
            [
             0.6666666666666666,
             "#000017"
            ],
            [
             0.7777777777777778,
             "#000018"
            ],
            [
             0.8888888888888888,
             "#000019"
            ],
            [
             1,
             "#000020"
            ]
           ]
          },
          "colorway": [
           "#000001",
           "#000002",
           "#000003",
           "#000004",
           "#000005",
           "#000006",
           "#000007",
           "#000008",
           "#000009",
           "#000010"
          ]
         }
        },
        "title": {
         "text": "Nike 2024 Global Sales & Pricing Analysis"
        },
        "width": 700
       }
      }
     },
     "metadata": {},
     "output_type": "display_data"
    }
   ],
   "source": [
    "df_india = df_nike[df_nike['Country'].str.lower() == 'india']\n",
    "\n",
    "features = [ \n",
    "    'Revenue_USD',\n",
    "    'Units_Sold',\n",
    "    'Retail_Price'\n",
    "]\n",
    "\n",
    "color_discrete_map = {\n",
    "    'Budget': \"#FF5733\",\n",
    "    'Mid-Range': \"#33FF57\",\n",
    "    'Premium': \"#3357FF\"\n",
    "}\n",
    "\n",
    "\n",
    "pca = PCA()\n",
    "components = pca.fit_transform(df_india[features])\n",
    "labels = {\n",
    "    str(i): f\"PC {i+1} ({var:.1f}%)\"\n",
    "    for i, var in enumerate(pca.explained_variance_ratio_ * 100)\n",
    "}\n",
    "\n",
    "fig = px.scatter_matrix(\n",
    "    components,\n",
    "    labels=labels,\n",
    "    dimensions=range(3),\n",
    "    color=df_india[\"Price_Tier\"],\n",
    "    color_discrete_map=color_discrete_map,\n",
    "    title='Nike 2024 Global Sales & Pricing Analysis',\n",
    "    width= 700,\n",
    "    height= 700\n",
    ")\n",
    "fig.update_traces(diagonal_visible=False)\n",
    "fig.show()"
   ]
  },
  {
   "cell_type": "code",
   "execution_count": null,
   "metadata": {},
   "outputs": [],
   "source": []
  },
  {
   "cell_type": "markdown",
   "metadata": {},
   "source": [
    "#3 related to revenue \n",
    "features = [ \n",
    "    'Units_Sold',\n",
    "    'Retail_Price',\n",
    "    'Price_Tier_num',\n",
    "    ]\n",
    "\n",
    "#set the color\n",
    "color_discrete_map = {\n",
    "    'India':\"#FF5733\",  \n",
    "    'Greater China':\"#33FF57\",  \n",
    "    'Japan':\"#3357FF\",  \n",
    "    'Europe':\"#FF33A1\",  \n",
    "    'South Korea':\"#A133FF\",  \n",
    "    'America':\"#33FFF6\", \n",
    "    'Southeast Asia':\"#FF8C33\"\n",
    "    }\n",
    "\n",
    "\n",
    "pca = PCA()\n",
    "components = pca.fit_transform(df_nike[features])\n",
    "#set labels\n",
    "labels = {\n",
    "    str(i) : f\"PC {i+1} ({var:.1f}%)\" for i, var in enumerate(pca.explained_variance_ratio_ * 100)\n",
    "}\n",
    "\n",
    "\n",
    "\n",
    "# Create scatter matrix\n",
    "fig = px.scatter_matrix(\n",
    "    components,\n",
    "    labels = labels,\n",
    "    color= df_nike['Country'],\n",
    "    title = 'Nike 2024 Global Sales & Pricing Analysis ',\n",
    "    width = 1000,\n",
    "    height = 1000,\n",
    "    color_discrete_map=color_discrete_map\n",
    ")\n",
    "\n",
    "\n",
    "fig.update_traces(diagonal_visible =False)\n",
    "#fig.write_html(\"Nike 2024 Global Sales & Pricing Analysis.html\", auto_open=True)\n",
    "fig.show()"
   ]
  },
  {
   "cell_type": "markdown",
   "metadata": {},
   "source": [
    "# 3 indicators that least affect revenue\n",
    "features = df_nike[\n",
    "    ['Units_Sold',\n",
    "    'Retail_Price',\n",
    "    'Price_Tier_num']\n",
    "    ]\n",
    "\n",
    "pca = PCA(n_components=3)\n",
    "components = pca.fit_transform(features)\n",
    "color_discrete_map = {\n",
    "    'India':\"#FF5733\",  \n",
    "    'Greater China':\"#33FF57\",  \n",
    "    'Japan':\"#3357FF\",  \n",
    "    'Europe':\"#FF33A1\",  \n",
    "    'South Korea':\"#A133FF\",  \n",
    "    'America':\"#33FFF6\", \n",
    "    'Southeast Asia':\"#FF8C33\"\n",
    "    }\n",
    "\n",
    "total_var = pca.explained_variance_ratio_.sum() * 100\n",
    "\n",
    "# Create scatter matrix\n",
    "fig = px.scatter_3d(\n",
    "    components, x=0, y=1, z=2, color=df_nike['PlacementStatus'],\n",
    "    title=f'Total Explained Variance: {total_var:.2f}%',\n",
    "    labels={'0': 'PC 1', '1': 'PC 2', '2': 'PC 3'},\n",
    "    color_discrete_map =color_discrete_map\n",
    ")\n",
    "fig.show()"
   ]
  },
  {
   "cell_type": "code",
   "execution_count": null,
   "metadata": {},
   "outputs": [
    {
     "data": {
      "application/vnd.plotly.v1+json": {
       "config": {
        "plotlyServerURL": "https://plot.ly"
       },
       "data": [
        {
         "customdata": [
          [
           300
          ],
          [
           210
          ],
          [
           70
          ],
          [
           200
          ],
          [
           230
          ],
          [
           50
          ],
          [
           50
          ],
          [
           250
          ],
          [
           120
          ],
          [
           290
          ],
          [
           130
          ],
          [
           240
          ],
          [
           90
          ],
          [
           80
          ],
          [
           290
          ],
          [
           270
          ],
          [
           170
          ],
          [
           150
          ],
          [
           210
          ],
          [
           50
          ],
          [
           290
          ],
          [
           80
          ],
          [
           90
          ],
          [
           210
          ],
          [
           90
          ],
          [
           230
          ],
          [
           200
          ],
          [
           150
          ],
          [
           280
          ],
          [
           230
          ],
          [
           280
          ],
          [
           290
          ],
          [
           120
          ],
          [
           230
          ],
          [
           280
          ],
          [
           180
          ],
          [
           280
          ],
          [
           210
          ],
          [
           200
          ],
          [
           60
          ],
          [
           60
          ],
          [
           270
          ],
          [
           100
          ],
          [
           220
          ],
          [
           120
          ],
          [
           90
          ],
          [
           90
          ],
          [
           270
          ],
          [
           130
          ],
          [
           270
          ],
          [
           140
          ],
          [
           110
          ],
          [
           290
          ],
          [
           180
          ],
          [
           190
          ],
          [
           100
          ],
          [
           270
          ],
          [
           280
          ],
          [
           90
          ],
          [
           100
          ],
          [
           100
          ],
          [
           280
          ],
          [
           260
          ],
          [
           130
          ],
          [
           70
          ],
          [
           290
          ],
          [
           120
          ],
          [
           190
          ],
          [
           150
          ],
          [
           250
          ],
          [
           140
          ],
          [
           240
          ],
          [
           260
          ],
          [
           50
          ],
          [
           90
          ],
          [
           200
          ],
          [
           240
          ],
          [
           160
          ],
          [
           180
          ],
          [
           280
          ],
          [
           240
          ],
          [
           220
          ],
          [
           230
          ],
          [
           220
          ],
          [
           80
          ],
          [
           280
          ],
          [
           200
          ],
          [
           150
          ],
          [
           270
          ],
          [
           120
          ],
          [
           130
          ],
          [
           130
          ],
          [
           210
          ],
          [
           130
          ],
          [
           70
          ],
          [
           230
          ],
          [
           240
          ],
          [
           80
          ],
          [
           270
          ],
          [
           190
          ],
          [
           280
          ],
          [
           240
          ],
          [
           160
          ],
          [
           210
          ],
          [
           170
          ],
          [
           140
          ],
          [
           130
          ],
          [
           130
          ],
          [
           170
          ],
          [
           110
          ],
          [
           150
          ],
          [
           290
          ],
          [
           90
          ],
          [
           200
          ],
          [
           260
          ],
          [
           150
          ],
          [
           250
          ],
          [
           210
          ],
          [
           160
          ],
          [
           80
          ],
          [
           70
          ],
          [
           210
          ],
          [
           160
          ],
          [
           70
          ],
          [
           100
          ],
          [
           260
          ],
          [
           160
          ],
          [
           90
          ],
          [
           160
          ],
          [
           220
          ],
          [
           60
          ],
          [
           120
          ],
          [
           300
          ],
          [
           100
          ],
          [
           270
          ],
          [
           190
          ],
          [
           200
          ],
          [
           190
          ],
          [
           280
          ],
          [
           200
          ],
          [
           200
          ],
          [
           250
          ],
          [
           280
          ],
          [
           180
          ],
          [
           100
          ]
         ],
         "hovertemplate": "Country=India<br>Units_Sold=%{x}<br>Revenue_USD=%{y}<br>Bubble_Size=%{marker.size}<br>Retail_Price=%{customdata[0]}<extra></extra>",
         "legendgroup": "India",
         "marker": {
          "color": "#FF5733",
          "size": [
           100,
           70,
           23.333333333333332,
           66.66666666666666,
           76.66666666666667,
           16.666666666666664,
           16.666666666666664,
           83.33333333333334,
           40,
           96.66666666666667,
           43.333333333333336,
           80,
           30,
           26.666666666666668,
           96.66666666666667,
           90,
           56.666666666666664,
           50,
           70,
           16.666666666666664,
           96.66666666666667,
           26.666666666666668,
           30,
           70,
           30,
           76.66666666666667,
           66.66666666666666,
           50,
           93.33333333333333,
           76.66666666666667,
           93.33333333333333,
           96.66666666666667,
           40,
           76.66666666666667,
           93.33333333333333,
           60,
           93.33333333333333,
           70,
           66.66666666666666,
           20,
           20,
           90,
           33.33333333333333,
           73.33333333333333,
           40,
           30,
           30,
           90,
           43.333333333333336,
           90,
           46.666666666666664,
           36.666666666666664,
           96.66666666666667,
           60,
           63.33333333333333,
           33.33333333333333,
           90,
           93.33333333333333,
           30,
           33.33333333333333,
           33.33333333333333,
           93.33333333333333,
           86.66666666666667,
           43.333333333333336,
           23.333333333333332,
           96.66666666666667,
           40,
           63.33333333333333,
           50,
           83.33333333333334,
           46.666666666666664,
           80,
           86.66666666666667,
           16.666666666666664,
           30,
           66.66666666666666,
           80,
           53.333333333333336,
           60,
           93.33333333333333,
           80,
           73.33333333333333,
           76.66666666666667,
           73.33333333333333,
           26.666666666666668,
           93.33333333333333,
           66.66666666666666,
           50,
           90,
           40,
           43.333333333333336,
           43.333333333333336,
           70,
           43.333333333333336,
           23.333333333333332,
           76.66666666666667,
           80,
           26.666666666666668,
           90,
           63.33333333333333,
           93.33333333333333,
           80,
           53.333333333333336,
           70,
           56.666666666666664,
           46.666666666666664,
           43.333333333333336,
           43.333333333333336,
           56.666666666666664,
           36.666666666666664,
           50,
           96.66666666666667,
           30,
           66.66666666666666,
           86.66666666666667,
           50,
           83.33333333333334,
           70,
           53.333333333333336,
           26.666666666666668,
           23.333333333333332,
           70,
           53.333333333333336,
           23.333333333333332,
           33.33333333333333,
           86.66666666666667,
           53.333333333333336,
           30,
           53.333333333333336,
           73.33333333333333,
           20,
           40,
           100,
           33.33333333333333,
           90,
           63.33333333333333,
           66.66666666666666,
           63.33333333333333,
           93.33333333333333,
           66.66666666666666,
           66.66666666666666,
           83.33333333333334,
           93.33333333333333,
           60,
           33.33333333333333
          ],
          "sizemode": "area",
          "sizeref": 0.25,
          "symbol": "circle"
         },
         "mode": "markers",
         "name": "India",
         "orientation": "v",
         "showlegend": true,
         "type": "scatter",
         "x": [
          48356,
          9842,
          25079,
          35160,
          46622,
          8478,
          29827,
          10546,
          48740,
          23608,
          12796,
          30045,
          42110,
          22676,
          40440,
          46682,
          12692,
          16191,
          11893,
          28038,
          41898,
          46169,
          31768,
          13549,
          45334,
          24771,
          23503,
          24788,
          48229,
          8891,
          18192,
          28564,
          20661,
          6248,
          17729,
          11727,
          10527,
          31357,
          30014,
          43169,
          6731,
          39308,
          22409,
          9058,
          29603,
          28203,
          22074,
          14433,
          14969,
          46453,
          44252,
          40025,
          33377,
          27618,
          40146,
          12534,
          35001,
          20724,
          20868,
          25837,
          6420,
          20632,
          28434,
          19448,
          11839,
          39891,
          18488,
          49315,
          35804,
          29636,
          49772,
          38922,
          21700,
          30607,
          41095,
          14939,
          43215,
          31752,
          25307,
          27087,
          30241,
          22371,
          20599,
          42842,
          37722,
          45895,
          32295,
          6482,
          29723,
          9468,
          25048,
          35223,
          7966,
          7918,
          47144,
          36483,
          9310,
          19905,
          24791,
          41655,
          45908,
          18421,
          28409,
          31163,
          18855,
          48761,
          33330,
          29713,
          33324,
          40023,
          13901,
          28438,
          42709,
          31908,
          26582,
          46338,
          47343,
          44806,
          32558,
          46496,
          33490,
          16921,
          31764,
          24495,
          14102,
          32020,
          48701,
          33002,
          42179,
          25544,
          44803,
          45317,
          20419,
          11499,
          34547,
          13576,
          12056,
          34185,
          39083,
          27074,
          19144,
          15046,
          19369,
          29651,
          9870
         ],
         "xaxis": "x",
         "y": [
          14506800,
          2066820,
          1755530,
          7032000,
          10723060,
          423900,
          1491350,
          2636500,
          5848800,
          6846320,
          1663480,
          7210800,
          3789900,
          1814080,
          11727600,
          12604140,
          2157640,
          2428650,
          2497530,
          1401900,
          12150420,
          3693520,
          2859120,
          2845290,
          4080060,
          5697330,
          4700600,
          3718200,
          13504120,
          2044930,
          5093760,
          8283560,
          2479320,
          1437040,
          4964120,
          2110860,
          2947560,
          6584970,
          6002800,
          2590140,
          403860,
          10613160,
          2240900,
          1992760,
          3552360,
          2538270,
          1986660,
          3896910,
          1945970,
          12542310,
          6195280,
          4402750,
          9679330,
          4971240,
          7627740,
          1253400,
          9450270,
          5802720,
          1878120,
          2583700,
          642000,
          5776960,
          7392840,
          2528240,
          828730,
          11568390,
          2218560,
          9369850,
          5370600,
          7409000,
          6968080,
          9341280,
          5642000,
          1530350,
          3698550,
          2987800,
          10371600,
          5080320,
          4555260,
          7584360,
          7257840,
          4921620,
          4737770,
          9425240,
          3017760,
          12850600,
          6459000,
          972300,
          8025210,
          1136160,
          3256240,
          4578990,
          1672860,
          1029340,
          3300080,
          8391090,
          2234400,
          1592400,
          6693570,
          7914450,
          12854240,
          4421040,
          4545440,
          6544230,
          3205350,
          6826540,
          4332900,
          3862690,
          5665080,
          4402530,
          2085150,
          8247020,
          3843810,
          6381600,
          6911320,
          6950700,
          11835750,
          9409260,
          5209280,
          3719680,
          2344300,
          3553410,
          5082240,
          1714650,
          1410200,
          8325200,
          7792160,
          2970180,
          6748640,
          5619680,
          2688180,
          5438040,
          6125700,
          1149900,
          9327690,
          2579440,
          2411200,
          6495150,
          10943240,
          5414800,
          3828800,
          3761500,
          5423320,
          5337180,
          987000
         ],
         "yaxis": "y"
        },
        {
         "customdata": [
          [
           210
          ],
          [
           160
          ],
          [
           150
          ],
          [
           150
          ],
          [
           130
          ],
          [
           200
          ],
          [
           180
          ],
          [
           150
          ],
          [
           50
          ],
          [
           250
          ],
          [
           120
          ],
          [
           190
          ],
          [
           150
          ],
          [
           270
          ],
          [
           210
          ],
          [
           160
          ],
          [
           230
          ],
          [
           250
          ],
          [
           140
          ],
          [
           270
          ],
          [
           140
          ],
          [
           110
          ],
          [
           280
          ],
          [
           190
          ],
          [
           230
          ],
          [
           80
          ],
          [
           190
          ],
          [
           80
          ],
          [
           170
          ],
          [
           100
          ],
          [
           290
          ],
          [
           260
          ],
          [
           200
          ],
          [
           110
          ],
          [
           150
          ],
          [
           290
          ],
          [
           180
          ],
          [
           290
          ],
          [
           120
          ],
          [
           70
          ],
          [
           290
          ],
          [
           50
          ],
          [
           50
          ],
          [
           140
          ],
          [
           70
          ],
          [
           120
          ],
          [
           70
          ],
          [
           100
          ],
          [
           280
          ],
          [
           200
          ],
          [
           250
          ],
          [
           70
          ],
          [
           220
          ],
          [
           50
          ],
          [
           100
          ],
          [
           190
          ],
          [
           90
          ],
          [
           200
          ],
          [
           140
          ],
          [
           80
          ],
          [
           110
          ],
          [
           50
          ],
          [
           60
          ],
          [
           180
          ],
          [
           90
          ],
          [
           170
          ],
          [
           100
          ],
          [
           90
          ],
          [
           190
          ],
          [
           50
          ],
          [
           60
          ],
          [
           260
          ],
          [
           200
          ],
          [
           240
          ],
          [
           300
          ],
          [
           110
          ],
          [
           100
          ],
          [
           160
          ],
          [
           190
          ],
          [
           230
          ],
          [
           50
          ],
          [
           280
          ],
          [
           180
          ],
          [
           80
          ],
          [
           230
          ],
          [
           100
          ],
          [
           130
          ],
          [
           240
          ],
          [
           60
          ],
          [
           150
          ],
          [
           230
          ],
          [
           240
          ],
          [
           300
          ],
          [
           170
          ],
          [
           300
          ],
          [
           70
          ],
          [
           140
          ],
          [
           170
          ],
          [
           180
          ],
          [
           90
          ],
          [
           50
          ],
          [
           200
          ],
          [
           220
          ],
          [
           230
          ],
          [
           240
          ],
          [
           150
          ],
          [
           270
          ],
          [
           50
          ],
          [
           150
          ],
          [
           160
          ],
          [
           240
          ],
          [
           270
          ],
          [
           50
          ],
          [
           130
          ],
          [
           260
          ],
          [
           270
          ],
          [
           90
          ],
          [
           80
          ],
          [
           260
          ],
          [
           160
          ],
          [
           190
          ],
          [
           180
          ],
          [
           280
          ],
          [
           300
          ],
          [
           180
          ],
          [
           100
          ],
          [
           80
          ],
          [
           200
          ],
          [
           210
          ],
          [
           240
          ],
          [
           170
          ],
          [
           180
          ],
          [
           230
          ],
          [
           250
          ],
          [
           220
          ],
          [
           60
          ],
          [
           100
          ],
          [
           70
          ],
          [
           280
          ],
          [
           80
          ],
          [
           230
          ],
          [
           180
          ],
          [
           190
          ],
          [
           140
          ],
          [
           100
          ],
          [
           300
          ],
          [
           150
          ],
          [
           270
          ],
          [
           290
          ],
          [
           140
          ],
          [
           230
          ],
          [
           140
          ],
          [
           110
          ],
          [
           230
          ],
          [
           170
          ],
          [
           290
          ],
          [
           110
          ],
          [
           180
          ],
          [
           250
          ],
          [
           70
          ],
          [
           50
          ]
         ],
         "hovertemplate": "Country=Greater China<br>Units_Sold=%{x}<br>Revenue_USD=%{y}<br>Bubble_Size=%{marker.size}<br>Retail_Price=%{customdata[0]}<extra></extra>",
         "legendgroup": "Greater China",
         "marker": {
          "color": "#33FF57",
          "size": [
           70,
           53.333333333333336,
           50,
           50,
           43.333333333333336,
           66.66666666666666,
           60,
           50,
           16.666666666666664,
           83.33333333333334,
           40,
           63.33333333333333,
           50,
           90,
           70,
           53.333333333333336,
           76.66666666666667,
           83.33333333333334,
           46.666666666666664,
           90,
           46.666666666666664,
           36.666666666666664,
           93.33333333333333,
           63.33333333333333,
           76.66666666666667,
           26.666666666666668,
           63.33333333333333,
           26.666666666666668,
           56.666666666666664,
           33.33333333333333,
           96.66666666666667,
           86.66666666666667,
           66.66666666666666,
           36.666666666666664,
           50,
           96.66666666666667,
           60,
           96.66666666666667,
           40,
           23.333333333333332,
           96.66666666666667,
           16.666666666666664,
           16.666666666666664,
           46.666666666666664,
           23.333333333333332,
           40,
           23.333333333333332,
           33.33333333333333,
           93.33333333333333,
           66.66666666666666,
           83.33333333333334,
           23.333333333333332,
           73.33333333333333,
           16.666666666666664,
           33.33333333333333,
           63.33333333333333,
           30,
           66.66666666666666,
           46.666666666666664,
           26.666666666666668,
           36.666666666666664,
           16.666666666666664,
           20,
           60,
           30,
           56.666666666666664,
           33.33333333333333,
           30,
           63.33333333333333,
           16.666666666666664,
           20,
           86.66666666666667,
           66.66666666666666,
           80,
           100,
           36.666666666666664,
           33.33333333333333,
           53.333333333333336,
           63.33333333333333,
           76.66666666666667,
           16.666666666666664,
           93.33333333333333,
           60,
           26.666666666666668,
           76.66666666666667,
           33.33333333333333,
           43.333333333333336,
           80,
           20,
           50,
           76.66666666666667,
           80,
           100,
           56.666666666666664,
           100,
           23.333333333333332,
           46.666666666666664,
           56.666666666666664,
           60,
           30,
           16.666666666666664,
           66.66666666666666,
           73.33333333333333,
           76.66666666666667,
           80,
           50,
           90,
           16.666666666666664,
           50,
           53.333333333333336,
           80,
           90,
           16.666666666666664,
           43.333333333333336,
           86.66666666666667,
           90,
           30,
           26.666666666666668,
           86.66666666666667,
           53.333333333333336,
           63.33333333333333,
           60,
           93.33333333333333,
           100,
           60,
           33.33333333333333,
           26.666666666666668,
           66.66666666666666,
           70,
           80,
           56.666666666666664,
           60,
           76.66666666666667,
           83.33333333333334,
           73.33333333333333,
           20,
           33.33333333333333,
           23.333333333333332,
           93.33333333333333,
           26.666666666666668,
           76.66666666666667,
           60,
           63.33333333333333,
           46.666666666666664,
           33.33333333333333,
           100,
           50,
           90,
           96.66666666666667,
           46.666666666666664,
           76.66666666666667,
           46.666666666666664,
           36.666666666666664,
           76.66666666666667,
           56.666666666666664,
           96.66666666666667,
           36.666666666666664,
           60,
           83.33333333333334,
           23.333333333333332,
           16.666666666666664
          ],
          "sizemode": "area",
          "sizeref": 0.25,
          "symbol": "circle"
         },
         "mode": "markers",
         "name": "Greater China",
         "orientation": "v",
         "showlegend": true,
         "type": "scatter",
         "x": [
          41404,
          33569,
          42814,
          16489,
          41006,
          33581,
          48973,
          30262,
          47805,
          48747,
          38854,
          19958,
          42942,
          27420,
          46766,
          17746,
          37079,
          33156,
          13232,
          37071,
          42072,
          5713,
          24222,
          11147,
          42901,
          44238,
          37151,
          18610,
          26079,
          8911,
          46488,
          26073,
          10167,
          33222,
          16995,
          21269,
          20301,
          34245,
          30282,
          28660,
          6123,
          31290,
          24125,
          42633,
          41062,
          47580,
          37975,
          39670,
          49992,
          46062,
          49696,
          8970,
          43178,
          6327,
          41568,
          40801,
          42388,
          9846,
          48881,
          7317,
          6153,
          5748,
          33233,
          23761,
          14683,
          10283,
          22363,
          36093,
          38906,
          32321,
          40582,
          19653,
          6574,
          20117,
          33968,
          25365,
          25267,
          47036,
          47675,
          46670,
          37169,
          45530,
          24607,
          42446,
          21015,
          14436,
          32418,
          31688,
          20657,
          41079,
          18106,
          45518,
          9831,
          26433,
          44154,
          40110,
          14684,
          36648,
          25857,
          33638,
          7166,
          5985,
          44234,
          13150,
          18093,
          49105,
          22720,
          8085,
          17534,
          16048,
          28857,
          22736,
          13352,
          33989,
          41665,
          31306,
          20719,
          12456,
          36767,
          37179,
          19589,
          47459,
          46497,
          38015,
          15574,
          48498,
          35570,
          29655,
          34759,
          15141,
          47260,
          31498,
          38295,
          29145,
          30036,
          38457,
          28663,
          16756,
          13384,
          24043,
          28958,
          48818,
          10701,
          15851,
          40981,
          23621,
          43332,
          43220,
          7535,
          6196,
          32471,
          45500,
          8861,
          45686,
          20751,
          6167,
          31506,
          13935,
          8922,
          48062,
          6270
         ],
         "xaxis": "x",
         "y": [
          8694840,
          5371040,
          6422100,
          2473350,
          5330780,
          6716200,
          8815140,
          4539300,
          2390250,
          12186750,
          4662480,
          3792020,
          6441300,
          7403400,
          9820860,
          2839360,
          8528170,
          8289000,
          1852480,
          10009170,
          5890080,
          628430,
          6782160,
          2117930,
          9867230,
          3539040,
          7058690,
          1488800,
          4433430,
          891100,
          13481520,
          6778980,
          2033400,
          3654420,
          2549250,
          6168010,
          3654180,
          9931050,
          3633840,
          2006200,
          1775670,
          1564500,
          1206250,
          5968620,
          2874340,
          5709600,
          2658250,
          3967000,
          13997760,
          9212400,
          12424000,
          627900,
          9499160,
          316350,
          4156800,
          7752190,
          3814920,
          1969200,
          6843340,
          585360,
          676830,
          287400,
          1993980,
          4276980,
          1321470,
          1748110,
          2236300,
          3248370,
          7392140,
          1616050,
          2434920,
          5109780,
          1314800,
          4828080,
          10190400,
          2790150,
          2526700,
          7525760,
          9058250,
          10734100,
          1858450,
          12748400,
          4429260,
          3395680,
          4833450,
          1443600,
          4214340,
          7605120,
          1239420,
          6161850,
          4164380,
          10924320,
          2949300,
          4493610,
          13246200,
          2807700,
          2055760,
          6230160,
          4654260,
          3027420,
          358300,
          1197000,
          9731480,
          3024500,
          4342320,
          7365750,
          6134400,
          404250,
          2630100,
          2567680,
          6925680,
          6138720,
          667600,
          4418570,
          10832900,
          8452620,
          1864710,
          996480,
          9559420,
          5948640,
          3721910,
          8542620,
          13019160,
          11404500,
          2803320,
          4849800,
          2845600,
          5931000,
          7299390,
          3633840,
          8034200,
          5669640,
          8807850,
          7286250,
          6607920,
          2307420,
          2866300,
          1172920,
          3747520,
          1923440,
          6660340,
          8787240,
          2033190,
          2219140,
          4098100,
          7086300,
          6499800,
          11669400,
          2185150,
          867440,
          7468330,
          6370000,
          974710,
          10507780,
          3527670,
          1788430,
          3465660,
          2508300,
          2230500,
          3364340,
          313500
         ],
         "yaxis": "y"
        },
        {
         "customdata": [
          [
           140
          ],
          [
           230
          ],
          [
           210
          ],
          [
           230
          ],
          [
           220
          ],
          [
           110
          ],
          [
           120
          ],
          [
           260
          ],
          [
           150
          ],
          [
           300
          ],
          [
           140
          ],
          [
           200
          ],
          [
           280
          ],
          [
           260
          ],
          [
           190
          ],
          [
           130
          ],
          [
           90
          ],
          [
           230
          ],
          [
           300
          ],
          [
           170
          ],
          [
           120
          ],
          [
           170
          ],
          [
           180
          ],
          [
           200
          ],
          [
           240
          ],
          [
           210
          ],
          [
           60
          ],
          [
           260
          ],
          [
           100
          ],
          [
           220
          ],
          [
           130
          ],
          [
           210
          ],
          [
           100
          ],
          [
           150
          ],
          [
           220
          ],
          [
           60
          ],
          [
           130
          ],
          [
           290
          ],
          [
           230
          ],
          [
           250
          ],
          [
           260
          ],
          [
           210
          ],
          [
           210
          ],
          [
           150
          ],
          [
           150
          ],
          [
           190
          ],
          [
           120
          ],
          [
           180
          ],
          [
           190
          ],
          [
           130
          ],
          [
           240
          ],
          [
           190
          ],
          [
           150
          ],
          [
           140
          ],
          [
           190
          ],
          [
           200
          ],
          [
           290
          ],
          [
           140
          ],
          [
           60
          ],
          [
           210
          ],
          [
           50
          ],
          [
           250
          ],
          [
           290
          ],
          [
           190
          ],
          [
           190
          ],
          [
           230
          ],
          [
           180
          ],
          [
           200
          ],
          [
           80
          ],
          [
           200
          ],
          [
           150
          ],
          [
           280
          ],
          [
           300
          ],
          [
           280
          ],
          [
           160
          ],
          [
           140
          ],
          [
           260
          ],
          [
           180
          ],
          [
           70
          ],
          [
           110
          ],
          [
           80
          ],
          [
           90
          ],
          [
           290
          ],
          [
           250
          ],
          [
           300
          ],
          [
           190
          ],
          [
           120
          ],
          [
           230
          ],
          [
           180
          ],
          [
           120
          ],
          [
           170
          ],
          [
           120
          ],
          [
           290
          ],
          [
           250
          ],
          [
           280
          ],
          [
           220
          ],
          [
           250
          ],
          [
           230
          ],
          [
           240
          ],
          [
           210
          ],
          [
           170
          ],
          [
           290
          ],
          [
           50
          ],
          [
           210
          ],
          [
           180
          ],
          [
           230
          ],
          [
           190
          ],
          [
           90
          ],
          [
           290
          ],
          [
           280
          ],
          [
           260
          ],
          [
           160
          ],
          [
           240
          ],
          [
           240
          ],
          [
           240
          ],
          [
           270
          ],
          [
           50
          ],
          [
           200
          ],
          [
           180
          ],
          [
           260
          ],
          [
           160
          ],
          [
           140
          ],
          [
           80
          ],
          [
           150
          ],
          [
           60
          ],
          [
           240
          ],
          [
           280
          ],
          [
           270
          ],
          [
           260
          ],
          [
           120
          ],
          [
           230
          ],
          [
           230
          ],
          [
           280
          ],
          [
           270
          ],
          [
           120
          ],
          [
           60
          ],
          [
           250
          ],
          [
           50
          ],
          [
           200
          ],
          [
           90
          ],
          [
           180
          ],
          [
           210
          ],
          [
           150
          ],
          [
           280
          ]
         ],
         "hovertemplate": "Country=Japan<br>Units_Sold=%{x}<br>Revenue_USD=%{y}<br>Bubble_Size=%{marker.size}<br>Retail_Price=%{customdata[0]}<extra></extra>",
         "legendgroup": "Japan",
         "marker": {
          "color": "#3357FF",
          "size": [
           46.666666666666664,
           76.66666666666667,
           70,
           76.66666666666667,
           73.33333333333333,
           36.666666666666664,
           40,
           86.66666666666667,
           50,
           100,
           46.666666666666664,
           66.66666666666666,
           93.33333333333333,
           86.66666666666667,
           63.33333333333333,
           43.333333333333336,
           30,
           76.66666666666667,
           100,
           56.666666666666664,
           40,
           56.666666666666664,
           60,
           66.66666666666666,
           80,
           70,
           20,
           86.66666666666667,
           33.33333333333333,
           73.33333333333333,
           43.333333333333336,
           70,
           33.33333333333333,
           50,
           73.33333333333333,
           20,
           43.333333333333336,
           96.66666666666667,
           76.66666666666667,
           83.33333333333334,
           86.66666666666667,
           70,
           70,
           50,
           50,
           63.33333333333333,
           40,
           60,
           63.33333333333333,
           43.333333333333336,
           80,
           63.33333333333333,
           50,
           46.666666666666664,
           63.33333333333333,
           66.66666666666666,
           96.66666666666667,
           46.666666666666664,
           20,
           70,
           16.666666666666664,
           83.33333333333334,
           96.66666666666667,
           63.33333333333333,
           63.33333333333333,
           76.66666666666667,
           60,
           66.66666666666666,
           26.666666666666668,
           66.66666666666666,
           50,
           93.33333333333333,
           100,
           93.33333333333333,
           53.333333333333336,
           46.666666666666664,
           86.66666666666667,
           60,
           23.333333333333332,
           36.666666666666664,
           26.666666666666668,
           30,
           96.66666666666667,
           83.33333333333334,
           100,
           63.33333333333333,
           40,
           76.66666666666667,
           60,
           40,
           56.666666666666664,
           40,
           96.66666666666667,
           83.33333333333334,
           93.33333333333333,
           73.33333333333333,
           83.33333333333334,
           76.66666666666667,
           80,
           70,
           56.666666666666664,
           96.66666666666667,
           16.666666666666664,
           70,
           60,
           76.66666666666667,
           63.33333333333333,
           30,
           96.66666666666667,
           93.33333333333333,
           86.66666666666667,
           53.333333333333336,
           80,
           80,
           80,
           90,
           16.666666666666664,
           66.66666666666666,
           60,
           86.66666666666667,
           53.333333333333336,
           46.666666666666664,
           26.666666666666668,
           50,
           20,
           80,
           93.33333333333333,
           90,
           86.66666666666667,
           40,
           76.66666666666667,
           76.66666666666667,
           93.33333333333333,
           90,
           40,
           20,
           83.33333333333334,
           16.666666666666664,
           66.66666666666666,
           30,
           60,
           70,
           50,
           93.33333333333333
          ],
          "sizemode": "area",
          "sizeref": 0.25,
          "symbol": "circle"
         },
         "mode": "markers",
         "name": "Japan",
         "orientation": "v",
         "showlegend": true,
         "type": "scatter",
         "x": [
          39344,
          30197,
          10853,
          46314,
          31834,
          24432,
          46508,
          21063,
          29308,
          14434,
          6244,
          29193,
          15402,
          34384,
          24860,
          39856,
          24773,
          41336,
          27680,
          30797,
          44272,
          6131,
          37824,
          20585,
          37618,
          14474,
          47176,
          22636,
          25828,
          24267,
          33407,
          18898,
          40020,
          49553,
          41932,
          31387,
          14607,
          5564,
          42937,
          37822,
          26728,
          40890,
          44925,
          30124,
          27736,
          44606,
          42082,
          19496,
          7242,
          45787,
          23375,
          39495,
          32062,
          37977,
          6901,
          46881,
          15518,
          33902,
          32475,
          28314,
          37621,
          16592,
          37697,
          47008,
          20899,
          25606,
          23362,
          46249,
          43439,
          30406,
          37396,
          25907,
          31674,
          13360,
          11050,
          49808,
          36813,
          10699,
          11072,
          38021,
          46727,
          17902,
          32367,
          34648,
          17475,
          42503,
          31557,
          39353,
          11441,
          23265,
          11929,
          18012,
          48239,
          10974,
          12389,
          39447,
          42813,
          43543,
          21319,
          35777,
          19804,
          16912,
          33184,
          14576,
          31758,
          32047,
          23185,
          11159,
          31632,
          17245,
          9210,
          43304,
          12727,
          35894,
          12945,
          44299,
          20109,
          43425,
          30645,
          46000,
          36747,
          18365,
          48785,
          45125,
          42278,
          32822,
          36808,
          35978,
          39321,
          33549,
          24397,
          21383,
          9146,
          43743,
          49214,
          27739,
          31376,
          41202,
          9244,
          23927,
          18952,
          42516,
          15078,
          18133
         ],
         "xaxis": "x",
         "y": [
          5508160,
          6945310,
          2279130,
          10652220,
          7003480,
          2687520,
          5580960,
          5476380,
          4396200,
          4330200,
          874160,
          5838600,
          4312560,
          8939840,
          4723400,
          5181280,
          2229570,
          9507280,
          8304000,
          5235490,
          5312640,
          1042270,
          6808320,
          4117000,
          9028320,
          3039540,
          2830560,
          5885360,
          2582800,
          5338740,
          4342910,
          3968580,
          4002000,
          7432950,
          9225040,
          1883220,
          1898910,
          1613560,
          9875510,
          9455500,
          6949280,
          8586900,
          9434250,
          4518600,
          4160400,
          8475140,
          5049840,
          3509280,
          1375980,
          5952310,
          5610000,
          7504050,
          4809300,
          5316780,
          1311190,
          9376200,
          4500220,
          4746280,
          1948500,
          5945940,
          1881050,
          4148000,
          10932130,
          8931520,
          3970810,
          5889380,
          4205160,
          9249800,
          3475120,
          6081200,
          5609400,
          7253960,
          9502200,
          3740800,
          1768000,
          6973120,
          9571380,
          1925820,
          775040,
          4182310,
          3738160,
          1611180,
          9386430,
          8662000,
          5242500,
          8075570,
          3786840,
          9051190,
          2059380,
          2791800,
          2027930,
          2161440,
          13989310,
          2743500,
          3468920,
          8678340,
          10703250,
          10014890,
          5116560,
          7513170,
          3366680,
          4904480,
          1659200,
          3060960,
          5716440,
          7370810,
          4405150,
          1004310,
          9173280,
          4828600,
          2394600,
          6928640,
          3054480,
          8614560,
          3106800,
          11960730,
          1005450,
          8685000,
          5516100,
          11960000,
          5879520,
          2571100,
          3902800,
          6768750,
          2536680,
          7877280,
          10306240,
          9714060,
          10223460,
          4025880,
          5611310,
          4918090,
          2560880,
          11810610,
          5905680,
          1664340,
          7844000,
          2060100,
          1848800,
          2153430,
          3411360,
          8928360,
          2261700,
          5077240
         ],
         "yaxis": "y"
        },
        {
         "customdata": [
          [
           230
          ],
          [
           180
          ],
          [
           240
          ],
          [
           250
          ],
          [
           280
          ],
          [
           140
          ],
          [
           100
          ],
          [
           160
          ],
          [
           170
          ],
          [
           260
          ],
          [
           90
          ],
          [
           230
          ],
          [
           240
          ],
          [
           130
          ],
          [
           70
          ],
          [
           150
          ],
          [
           190
          ],
          [
           150
          ],
          [
           300
          ],
          [
           110
          ],
          [
           100
          ],
          [
           120
          ],
          [
           160
          ],
          [
           50
          ],
          [
           50
          ],
          [
           90
          ],
          [
           50
          ],
          [
           240
          ],
          [
           190
          ],
          [
           290
          ],
          [
           70
          ],
          [
           270
          ],
          [
           200
          ],
          [
           190
          ],
          [
           120
          ],
          [
           100
          ],
          [
           300
          ],
          [
           230
          ],
          [
           280
          ],
          [
           110
          ],
          [
           270
          ],
          [
           70
          ],
          [
           50
          ],
          [
           180
          ],
          [
           290
          ],
          [
           140
          ],
          [
           230
          ],
          [
           140
          ],
          [
           50
          ],
          [
           110
          ],
          [
           290
          ],
          [
           80
          ],
          [
           90
          ],
          [
           230
          ],
          [
           260
          ],
          [
           250
          ],
          [
           130
          ],
          [
           250
          ],
          [
           240
          ],
          [
           200
          ],
          [
           70
          ],
          [
           300
          ],
          [
           130
          ],
          [
           60
          ],
          [
           200
          ],
          [
           70
          ],
          [
           150
          ],
          [
           280
          ],
          [
           200
          ],
          [
           270
          ],
          [
           100
          ],
          [
           300
          ],
          [
           260
          ],
          [
           290
          ],
          [
           290
          ],
          [
           70
          ],
          [
           210
          ],
          [
           170
          ],
          [
           60
          ],
          [
           250
          ],
          [
           110
          ],
          [
           260
          ],
          [
           190
          ],
          [
           110
          ],
          [
           80
          ],
          [
           150
          ],
          [
           120
          ],
          [
           290
          ],
          [
           290
          ],
          [
           120
          ],
          [
           210
          ],
          [
           300
          ],
          [
           120
          ],
          [
           290
          ],
          [
           110
          ],
          [
           190
          ],
          [
           140
          ],
          [
           110
          ],
          [
           160
          ],
          [
           300
          ],
          [
           200
          ],
          [
           70
          ],
          [
           60
          ],
          [
           90
          ],
          [
           260
          ],
          [
           300
          ],
          [
           100
          ],
          [
           130
          ],
          [
           100
          ],
          [
           100
          ],
          [
           60
          ],
          [
           180
          ],
          [
           60
          ],
          [
           60
          ],
          [
           300
          ],
          [
           270
          ],
          [
           270
          ],
          [
           270
          ],
          [
           90
          ],
          [
           250
          ],
          [
           240
          ],
          [
           60
          ],
          [
           150
          ],
          [
           220
          ],
          [
           100
          ],
          [
           90
          ],
          [
           210
          ],
          [
           220
          ],
          [
           130
          ],
          [
           170
          ],
          [
           260
          ],
          [
           200
          ],
          [
           180
          ]
         ],
         "hovertemplate": "Country=Europe<br>Units_Sold=%{x}<br>Revenue_USD=%{y}<br>Bubble_Size=%{marker.size}<br>Retail_Price=%{customdata[0]}<extra></extra>",
         "legendgroup": "Europe",
         "marker": {
          "color": "#FF33A1",
          "size": [
           76.66666666666667,
           60,
           80,
           83.33333333333334,
           93.33333333333333,
           46.666666666666664,
           33.33333333333333,
           53.333333333333336,
           56.666666666666664,
           86.66666666666667,
           30,
           76.66666666666667,
           80,
           43.333333333333336,
           23.333333333333332,
           50,
           63.33333333333333,
           50,
           100,
           36.666666666666664,
           33.33333333333333,
           40,
           53.333333333333336,
           16.666666666666664,
           16.666666666666664,
           30,
           16.666666666666664,
           80,
           63.33333333333333,
           96.66666666666667,
           23.333333333333332,
           90,
           66.66666666666666,
           63.33333333333333,
           40,
           33.33333333333333,
           100,
           76.66666666666667,
           93.33333333333333,
           36.666666666666664,
           90,
           23.333333333333332,
           16.666666666666664,
           60,
           96.66666666666667,
           46.666666666666664,
           76.66666666666667,
           46.666666666666664,
           16.666666666666664,
           36.666666666666664,
           96.66666666666667,
           26.666666666666668,
           30,
           76.66666666666667,
           86.66666666666667,
           83.33333333333334,
           43.333333333333336,
           83.33333333333334,
           80,
           66.66666666666666,
           23.333333333333332,
           100,
           43.333333333333336,
           20,
           66.66666666666666,
           23.333333333333332,
           50,
           93.33333333333333,
           66.66666666666666,
           90,
           33.33333333333333,
           100,
           86.66666666666667,
           96.66666666666667,
           96.66666666666667,
           23.333333333333332,
           70,
           56.666666666666664,
           20,
           83.33333333333334,
           36.666666666666664,
           86.66666666666667,
           63.33333333333333,
           36.666666666666664,
           26.666666666666668,
           50,
           40,
           96.66666666666667,
           96.66666666666667,
           40,
           70,
           100,
           40,
           96.66666666666667,
           36.666666666666664,
           63.33333333333333,
           46.666666666666664,
           36.666666666666664,
           53.333333333333336,
           100,
           66.66666666666666,
           23.333333333333332,
           20,
           30,
           86.66666666666667,
           100,
           33.33333333333333,
           43.333333333333336,
           33.33333333333333,
           33.33333333333333,
           20,
           60,
           20,
           20,
           100,
           90,
           90,
           90,
           30,
           83.33333333333334,
           80,
           20,
           50,
           73.33333333333333,
           33.33333333333333,
           30,
           70,
           73.33333333333333,
           43.333333333333336,
           56.666666666666664,
           86.66666666666667,
           66.66666666666666,
           60
          ],
          "sizemode": "area",
          "sizeref": 0.25,
          "symbol": "circle"
         },
         "mode": "markers",
         "name": "Europe",
         "orientation": "v",
         "showlegend": true,
         "type": "scatter",
         "x": [
          43626,
          44274,
          44734,
          33895,
          41525,
          21735,
          21473,
          13858,
          6899,
          49804,
          47604,
          15114,
          34848,
          42458,
          40691,
          15114,
          49565,
          27370,
          21835,
          12825,
          19216,
          18456,
          35528,
          30892,
          19555,
          31673,
          40029,
          6063,
          16158,
          16104,
          24322,
          15005,
          39375,
          10259,
          43390,
          48873,
          39623,
          27059,
          37570,
          44025,
          17179,
          28407,
          24247,
          47159,
          42546,
          21220,
          18939,
          29938,
          46945,
          32757,
          32693,
          8847,
          19422,
          13998,
          11602,
          23175,
          43928,
          33205,
          37183,
          39686,
          31264,
          23432,
          7218,
          22460,
          38487,
          19271,
          34475,
          20448,
          40905,
          9045,
          14104,
          32012,
          29472,
          29332,
          32488,
          37325,
          18476,
          14646,
          17357,
          26264,
          46131,
          21644,
          42755,
          47844,
          13770,
          40882,
          46617,
          49189,
          27118,
          25668,
          20702,
          15167,
          13199,
          41984,
          46870,
          9759,
          47887,
          48951,
          18543,
          18869,
          30306,
          44791,
          48598,
          11470,
          36582,
          5248,
          11691,
          6668,
          13131,
          22560,
          13551,
          47752,
          29114,
          35554,
          26797,
          21874,
          30887,
          48710,
          48555,
          10815,
          7360,
          43225,
          32814,
          19807,
          7001,
          16821,
          5204,
          47189,
          23633,
          26136,
          8137,
          9312,
          14668
         ],
         "xaxis": "x",
         "y": [
          10033980,
          7969320,
          10736160,
          8473750,
          11627000,
          3042900,
          2147300,
          2217280,
          1172830,
          12949040,
          4284360,
          3476220,
          8363520,
          5519540,
          2848370,
          2267100,
          9417350,
          4105500,
          6550500,
          1410750,
          1921600,
          2214720,
          5684480,
          1544600,
          977750,
          2850570,
          2001450,
          1455120,
          3070020,
          4670160,
          1702540,
          4051350,
          7875000,
          1949210,
          5206800,
          4887300,
          11886900,
          6223570,
          10519600,
          4842750,
          4638330,
          1988490,
          1212350,
          8488620,
          12338340,
          2970800,
          4355970,
          4191320,
          2347250,
          3603270,
          9480970,
          707760,
          1747980,
          3219540,
          3016520,
          5793750,
          5710640,
          8301250,
          8923920,
          7937200,
          2188480,
          7029600,
          938340,
          1347600,
          7697400,
          1348970,
          5171250,
          5725440,
          8181000,
          2442150,
          1410400,
          9603600,
          7662720,
          8506280,
          9421520,
          2612750,
          3879960,
          2489820,
          1041420,
          6566000,
          5074410,
          5627440,
          8123450,
          5262840,
          1101600,
          6132300,
          5594040,
          14264810,
          7864220,
          3080160,
          4347420,
          4550100,
          1583880,
          12175360,
          5155700,
          1854210,
          6704180,
          5384610,
          2966880,
          5660700,
          6061200,
          3135370,
          2915880,
          1032300,
          9511320,
          1574400,
          1169100,
          866840,
          1313100,
          2256000,
          813060,
          8595360,
          1746840,
          2133240,
          8039100,
          5905980,
          8339490,
          13151700,
          4369950,
          2703750,
          1766400,
          2593500,
          4922100,
          4357540,
          700100,
          1513890,
          1092840,
          10381580,
          3072290,
          4443120,
          2115620,
          1862400,
          2640240
         ],
         "yaxis": "y"
        },
        {
         "customdata": [
          [
           300
          ],
          [
           210
          ],
          [
           240
          ],
          [
           100
          ],
          [
           120
          ],
          [
           120
          ],
          [
           190
          ],
          [
           220
          ],
          [
           160
          ],
          [
           70
          ],
          [
           210
          ],
          [
           210
          ],
          [
           180
          ],
          [
           170
          ],
          [
           290
          ],
          [
           270
          ],
          [
           160
          ],
          [
           300
          ],
          [
           100
          ],
          [
           280
          ],
          [
           110
          ],
          [
           50
          ],
          [
           100
          ],
          [
           220
          ],
          [
           80
          ],
          [
           200
          ],
          [
           50
          ],
          [
           290
          ],
          [
           280
          ],
          [
           50
          ],
          [
           240
          ],
          [
           130
          ],
          [
           120
          ],
          [
           50
          ],
          [
           200
          ],
          [
           70
          ],
          [
           170
          ],
          [
           300
          ],
          [
           140
          ],
          [
           50
          ],
          [
           230
          ],
          [
           280
          ],
          [
           90
          ],
          [
           200
          ],
          [
           90
          ],
          [
           80
          ],
          [
           240
          ],
          [
           180
          ],
          [
           170
          ],
          [
           90
          ],
          [
           160
          ],
          [
           170
          ],
          [
           90
          ],
          [
           300
          ],
          [
           190
          ],
          [
           90
          ],
          [
           160
          ],
          [
           170
          ],
          [
           290
          ],
          [
           290
          ],
          [
           100
          ],
          [
           170
          ],
          [
           70
          ],
          [
           280
          ],
          [
           250
          ],
          [
           160
          ],
          [
           130
          ],
          [
           170
          ],
          [
           150
          ],
          [
           50
          ],
          [
           290
          ],
          [
           70
          ],
          [
           190
          ],
          [
           170
          ],
          [
           140
          ],
          [
           270
          ],
          [
           280
          ],
          [
           50
          ],
          [
           70
          ],
          [
           110
          ],
          [
           260
          ],
          [
           120
          ],
          [
           140
          ],
          [
           110
          ],
          [
           190
          ],
          [
           60
          ],
          [
           170
          ],
          [
           110
          ],
          [
           300
          ],
          [
           280
          ],
          [
           180
          ],
          [
           110
          ],
          [
           210
          ],
          [
           60
          ],
          [
           80
          ],
          [
           240
          ],
          [
           250
          ],
          [
           300
          ],
          [
           100
          ],
          [
           90
          ],
          [
           130
          ],
          [
           240
          ],
          [
           170
          ],
          [
           80
          ],
          [
           110
          ],
          [
           110
          ],
          [
           150
          ],
          [
           260
          ],
          [
           290
          ],
          [
           120
          ],
          [
           280
          ],
          [
           230
          ],
          [
           170
          ],
          [
           50
          ],
          [
           90
          ],
          [
           230
          ],
          [
           280
          ],
          [
           290
          ],
          [
           150
          ],
          [
           130
          ],
          [
           210
          ],
          [
           300
          ],
          [
           190
          ],
          [
           200
          ],
          [
           140
          ],
          [
           300
          ],
          [
           50
          ],
          [
           100
          ],
          [
           220
          ],
          [
           120
          ],
          [
           220
          ],
          [
           150
          ],
          [
           100
          ],
          [
           150
          ],
          [
           140
          ],
          [
           230
          ],
          [
           50
          ],
          [
           130
          ],
          [
           260
          ],
          [
           70
          ],
          [
           50
          ],
          [
           80
          ],
          [
           70
          ],
          [
           70
          ],
          [
           160
          ],
          [
           50
          ]
         ],
         "hovertemplate": "Country=South Korea<br>Units_Sold=%{x}<br>Revenue_USD=%{y}<br>Bubble_Size=%{marker.size}<br>Retail_Price=%{customdata[0]}<extra></extra>",
         "legendgroup": "South Korea",
         "marker": {
          "color": "#A133FF",
          "size": [
           100,
           70,
           80,
           33.33333333333333,
           40,
           40,
           63.33333333333333,
           73.33333333333333,
           53.333333333333336,
           23.333333333333332,
           70,
           70,
           60,
           56.666666666666664,
           96.66666666666667,
           90,
           53.333333333333336,
           100,
           33.33333333333333,
           93.33333333333333,
           36.666666666666664,
           16.666666666666664,
           33.33333333333333,
           73.33333333333333,
           26.666666666666668,
           66.66666666666666,
           16.666666666666664,
           96.66666666666667,
           93.33333333333333,
           16.666666666666664,
           80,
           43.333333333333336,
           40,
           16.666666666666664,
           66.66666666666666,
           23.333333333333332,
           56.666666666666664,
           100,
           46.666666666666664,
           16.666666666666664,
           76.66666666666667,
           93.33333333333333,
           30,
           66.66666666666666,
           30,
           26.666666666666668,
           80,
           60,
           56.666666666666664,
           30,
           53.333333333333336,
           56.666666666666664,
           30,
           100,
           63.33333333333333,
           30,
           53.333333333333336,
           56.666666666666664,
           96.66666666666667,
           96.66666666666667,
           33.33333333333333,
           56.666666666666664,
           23.333333333333332,
           93.33333333333333,
           83.33333333333334,
           53.333333333333336,
           43.333333333333336,
           56.666666666666664,
           50,
           16.666666666666664,
           96.66666666666667,
           23.333333333333332,
           63.33333333333333,
           56.666666666666664,
           46.666666666666664,
           90,
           93.33333333333333,
           16.666666666666664,
           23.333333333333332,
           36.666666666666664,
           86.66666666666667,
           40,
           46.666666666666664,
           36.666666666666664,
           63.33333333333333,
           20,
           56.666666666666664,
           36.666666666666664,
           100,
           93.33333333333333,
           60,
           36.666666666666664,
           70,
           20,
           26.666666666666668,
           80,
           83.33333333333334,
           100,
           33.33333333333333,
           30,
           43.333333333333336,
           80,
           56.666666666666664,
           26.666666666666668,
           36.666666666666664,
           36.666666666666664,
           50,
           86.66666666666667,
           96.66666666666667,
           40,
           93.33333333333333,
           76.66666666666667,
           56.666666666666664,
           16.666666666666664,
           30,
           76.66666666666667,
           93.33333333333333,
           96.66666666666667,
           50,
           43.333333333333336,
           70,
           100,
           63.33333333333333,
           66.66666666666666,
           46.666666666666664,
           100,
           16.666666666666664,
           33.33333333333333,
           73.33333333333333,
           40,
           73.33333333333333,
           50,
           33.33333333333333,
           50,
           46.666666666666664,
           76.66666666666667,
           16.666666666666664,
           43.333333333333336,
           86.66666666666667,
           23.333333333333332,
           16.666666666666664,
           26.666666666666668,
           23.333333333333332,
           23.333333333333332,
           53.333333333333336,
           16.666666666666664
          ],
          "sizemode": "area",
          "sizeref": 0.25,
          "symbol": "circle"
         },
         "mode": "markers",
         "name": "South Korea",
         "orientation": "v",
         "showlegend": true,
         "type": "scatter",
         "x": [
          41901,
          42986,
          16396,
          40762,
          10277,
          36845,
          19956,
          28886,
          43996,
          49926,
          35303,
          9847,
          18692,
          5936,
          23385,
          10225,
          45351,
          9747,
          16375,
          30671,
          24233,
          47626,
          39659,
          38622,
          10605,
          11346,
          19197,
          39676,
          29252,
          27232,
          5580,
          26283,
          29724,
          15325,
          11440,
          32581,
          44343,
          23339,
          23137,
          30270,
          42786,
          32171,
          17561,
          9054,
          30338,
          36239,
          36206,
          21488,
          20261,
          36864,
          37209,
          25161,
          15441,
          31132,
          27507,
          26112,
          49440,
          27540,
          43362,
          37643,
          24849,
          7095,
          49510,
          13052,
          11484,
          45929,
          11286,
          48413,
          39059,
          36286,
          38088,
          15527,
          29212,
          24535,
          49226,
          45392,
          5301,
          9299,
          41555,
          19819,
          22115,
          25935,
          22174,
          7510,
          8582,
          38527,
          45981,
          39481,
          47739,
          49542,
          9218,
          35801,
          38300,
          25822,
          9668,
          20895,
          45608,
          27263,
          6983,
          13667,
          25199,
          49867,
          39351,
          18569,
          7276,
          29270,
          20902,
          37706,
          40620,
          10849,
          34752,
          38275,
          48978,
          26006,
          38877,
          25039,
          26249,
          37890,
          46554,
          45238,
          16435,
          46070,
          28383,
          26534,
          28707,
          16136,
          17385,
          5918,
          19094,
          41855,
          45270,
          19979,
          49035,
          40467,
          26012,
          32930,
          30908,
          42093,
          8166,
          42040,
          20586,
          21072,
          7242,
          27633,
          15989,
          26242
         ],
         "xaxis": "x",
         "y": [
          12570300,
          9027060,
          3935040,
          4076200,
          1233240,
          4421400,
          3791640,
          6354920,
          7039360,
          3494820,
          7413630,
          2067870,
          3364560,
          1009120,
          6781650,
          2760750,
          7256160,
          2924100,
          1637500,
          8587880,
          2665630,
          2381300,
          3965900,
          8496840,
          848400,
          2269200,
          959850,
          11506040,
          8190560,
          1361600,
          1339200,
          3416790,
          3566880,
          766250,
          2288000,
          2280670,
          7538310,
          7001700,
          3239180,
          1513500,
          9840780,
          9007880,
          1580490,
          1810800,
          2730420,
          2899120,
          8689440,
          3867840,
          3444370,
          3317760,
          5953440,
          4277370,
          1389690,
          9339600,
          5226330,
          2350080,
          7910400,
          4681800,
          12574980,
          10916470,
          2484900,
          1206150,
          3465700,
          3654560,
          2871000,
          7348640,
          1467180,
          8230210,
          5858850,
          1814300,
          11045520,
          1086890,
          5550280,
          4170950,
          6891640,
          12255840,
          1484280,
          464950,
          2908850,
          2180090,
          5749900,
          3112200,
          3104360,
          826100,
          1630580,
          2311620,
          7816770,
          4342910,
          14321700,
          13871760,
          1659240,
          3938110,
          8043000,
          1549320,
          773440,
          5014800,
          11402000,
          8178900,
          698300,
          1230030,
          3275870,
          11968080,
          6689670,
          1485520,
          800360,
          3219700,
          3135300,
          9803560,
          11779800,
          1301880,
          9730560,
          8803250,
          8326260,
          1300300,
          3498930,
          5758970,
          7349720,
          10988100,
          6983100,
          5880940,
          3451350,
          13821000,
          5392770,
          5306800,
          4018980,
          4840800,
          869250,
          591800,
          4200680,
          5022600,
          9959400,
          2996850,
          4903500,
          6070050,
          3641680,
          7573900,
          1545400,
          5472090,
          2123160,
          2942800,
          1029300,
          1685760,
          506940,
          1934310,
          2558240,
          1312100
         ],
         "yaxis": "y"
        },
        {
         "customdata": [
          [
           240
          ],
          [
           210
          ],
          [
           200
          ],
          [
           130
          ],
          [
           290
          ],
          [
           200
          ],
          [
           260
          ],
          [
           260
          ],
          [
           260
          ],
          [
           170
          ],
          [
           190
          ],
          [
           90
          ],
          [
           140
          ],
          [
           180
          ],
          [
           210
          ],
          [
           290
          ],
          [
           140
          ],
          [
           250
          ],
          [
           90
          ],
          [
           120
          ],
          [
           110
          ],
          [
           220
          ],
          [
           70
          ],
          [
           60
          ],
          [
           170
          ],
          [
           170
          ],
          [
           220
          ],
          [
           290
          ],
          [
           110
          ],
          [
           300
          ],
          [
           130
          ],
          [
           300
          ],
          [
           70
          ],
          [
           80
          ],
          [
           180
          ],
          [
           60
          ],
          [
           50
          ],
          [
           220
          ],
          [
           220
          ],
          [
           130
          ],
          [
           70
          ],
          [
           300
          ],
          [
           140
          ],
          [
           170
          ],
          [
           230
          ],
          [
           50
          ],
          [
           190
          ],
          [
           250
          ],
          [
           160
          ],
          [
           240
          ],
          [
           290
          ],
          [
           220
          ],
          [
           200
          ],
          [
           90
          ],
          [
           160
          ],
          [
           100
          ],
          [
           220
          ],
          [
           160
          ],
          [
           170
          ],
          [
           230
          ],
          [
           230
          ],
          [
           200
          ],
          [
           280
          ],
          [
           160
          ],
          [
           260
          ],
          [
           180
          ],
          [
           190
          ],
          [
           140
          ],
          [
           190
          ],
          [
           240
          ],
          [
           90
          ],
          [
           180
          ],
          [
           140
          ],
          [
           160
          ],
          [
           80
          ],
          [
           270
          ],
          [
           270
          ],
          [
           150
          ],
          [
           60
          ],
          [
           260
          ],
          [
           290
          ],
          [
           270
          ],
          [
           70
          ],
          [
           300
          ],
          [
           210
          ],
          [
           90
          ],
          [
           120
          ],
          [
           70
          ],
          [
           120
          ],
          [
           230
          ],
          [
           270
          ],
          [
           100
          ],
          [
           280
          ],
          [
           300
          ],
          [
           140
          ],
          [
           190
          ],
          [
           210
          ],
          [
           190
          ],
          [
           80
          ],
          [
           130
          ],
          [
           210
          ],
          [
           80
          ],
          [
           270
          ],
          [
           270
          ],
          [
           170
          ],
          [
           100
          ],
          [
           70
          ],
          [
           260
          ],
          [
           300
          ],
          [
           260
          ],
          [
           220
          ],
          [
           150
          ],
          [
           70
          ],
          [
           50
          ],
          [
           220
          ],
          [
           60
          ],
          [
           150
          ],
          [
           210
          ],
          [
           50
          ],
          [
           190
          ],
          [
           120
          ],
          [
           270
          ],
          [
           150
          ],
          [
           230
          ],
          [
           140
          ],
          [
           60
          ],
          [
           240
          ],
          [
           230
          ],
          [
           140
          ],
          [
           120
          ],
          [
           130
          ],
          [
           100
          ],
          [
           140
          ],
          [
           280
          ],
          [
           90
          ],
          [
           290
          ],
          [
           280
          ],
          [
           260
          ],
          [
           150
          ],
          [
           260
          ],
          [
           50
          ],
          [
           280
          ],
          [
           290
          ],
          [
           220
          ],
          [
           240
          ],
          [
           300
          ],
          [
           50
          ]
         ],
         "hovertemplate": "Country=America<br>Units_Sold=%{x}<br>Revenue_USD=%{y}<br>Bubble_Size=%{marker.size}<br>Retail_Price=%{customdata[0]}<extra></extra>",
         "legendgroup": "America",
         "marker": {
          "color": "#33FFF6",
          "size": [
           80,
           70,
           66.66666666666666,
           43.333333333333336,
           96.66666666666667,
           66.66666666666666,
           86.66666666666667,
           86.66666666666667,
           86.66666666666667,
           56.666666666666664,
           63.33333333333333,
           30,
           46.666666666666664,
           60,
           70,
           96.66666666666667,
           46.666666666666664,
           83.33333333333334,
           30,
           40,
           36.666666666666664,
           73.33333333333333,
           23.333333333333332,
           20,
           56.666666666666664,
           56.666666666666664,
           73.33333333333333,
           96.66666666666667,
           36.666666666666664,
           100,
           43.333333333333336,
           100,
           23.333333333333332,
           26.666666666666668,
           60,
           20,
           16.666666666666664,
           73.33333333333333,
           73.33333333333333,
           43.333333333333336,
           23.333333333333332,
           100,
           46.666666666666664,
           56.666666666666664,
           76.66666666666667,
           16.666666666666664,
           63.33333333333333,
           83.33333333333334,
           53.333333333333336,
           80,
           96.66666666666667,
           73.33333333333333,
           66.66666666666666,
           30,
           53.333333333333336,
           33.33333333333333,
           73.33333333333333,
           53.333333333333336,
           56.666666666666664,
           76.66666666666667,
           76.66666666666667,
           66.66666666666666,
           93.33333333333333,
           53.333333333333336,
           86.66666666666667,
           60,
           63.33333333333333,
           46.666666666666664,
           63.33333333333333,
           80,
           30,
           60,
           46.666666666666664,
           53.333333333333336,
           26.666666666666668,
           90,
           90,
           50,
           20,
           86.66666666666667,
           96.66666666666667,
           90,
           23.333333333333332,
           100,
           70,
           30,
           40,
           23.333333333333332,
           40,
           76.66666666666667,
           90,
           33.33333333333333,
           93.33333333333333,
           100,
           46.666666666666664,
           63.33333333333333,
           70,
           63.33333333333333,
           26.666666666666668,
           43.333333333333336,
           70,
           26.666666666666668,
           90,
           90,
           56.666666666666664,
           33.33333333333333,
           23.333333333333332,
           86.66666666666667,
           100,
           86.66666666666667,
           73.33333333333333,
           50,
           23.333333333333332,
           16.666666666666664,
           73.33333333333333,
           20,
           50,
           70,
           16.666666666666664,
           63.33333333333333,
           40,
           90,
           50,
           76.66666666666667,
           46.666666666666664,
           20,
           80,
           76.66666666666667,
           46.666666666666664,
           40,
           43.333333333333336,
           33.33333333333333,
           46.666666666666664,
           93.33333333333333,
           30,
           96.66666666666667,
           93.33333333333333,
           86.66666666666667,
           50,
           86.66666666666667,
           16.666666666666664,
           93.33333333333333,
           96.66666666666667,
           73.33333333333333,
           80,
           100,
           16.666666666666664
          ],
          "sizemode": "area",
          "sizeref": 0.25,
          "symbol": "circle"
         },
         "mode": "markers",
         "name": "America",
         "orientation": "v",
         "showlegend": true,
         "type": "scatter",
         "x": [
          18843,
          41641,
          39934,
          33059,
          16670,
          41744,
          39919,
          33577,
          26396,
          43122,
          37917,
          31268,
          45961,
          18455,
          43980,
          28721,
          40417,
          45569,
          44415,
          26398,
          13064,
          43953,
          11907,
          39458,
          20285,
          25560,
          40284,
          45591,
          48811,
          16989,
          6954,
          49549,
          45139,
          8291,
          20663,
          23802,
          44384,
          10939,
          22727,
          31559,
          10147,
          40125,
          22851,
          11095,
          35610,
          14492,
          22124,
          49117,
          30682,
          38234,
          14744,
          41786,
          45678,
          9049,
          49607,
          16469,
          45702,
          8524,
          40979,
          30604,
          28395,
          45099,
          14208,
          21955,
          5398,
          13044,
          10066,
          28077,
          19586,
          31869,
          45408,
          26258,
          41534,
          7516,
          29941,
          41476,
          24291,
          12917,
          39080,
          16306,
          22852,
          15693,
          13144,
          21823,
          7886,
          33938,
          36001,
          28418,
          28729,
          11227,
          47868,
          48156,
          26040,
          29642,
          24934,
          20762,
          14998,
          49315,
          34623,
          23576,
          17353,
          21022,
          23527,
          28350,
          11269,
          42409,
          18093,
          20526,
          48177,
          46693,
          21235,
          28331,
          34400,
          46947,
          13249,
          31946,
          24373,
          48966,
          13477,
          39529,
          48698,
          43842,
          46707,
          23160,
          21620,
          40117,
          35933,
          14199,
          37161,
          32897,
          35066,
          38431,
          44300,
          28120,
          8529,
          24032,
          32810,
          14181,
          39209,
          39446,
          13429,
          45111,
          40694,
          23104,
          21248,
          22761,
          28738
         ],
         "xaxis": "x",
         "y": [
          4522320,
          8744610,
          7986800,
          4297670,
          4834300,
          8348800,
          10378940,
          8730020,
          6862960,
          7330740,
          7204230,
          2814120,
          6434540,
          3321900,
          9235800,
          8329090,
          5658380,
          11392250,
          3997350,
          3167760,
          1437040,
          9669660,
          833490,
          2367480,
          3448450,
          4345200,
          8862480,
          13221390,
          5369210,
          5096700,
          904020,
          14864700,
          3159730,
          663280,
          3719340,
          1428120,
          2219200,
          2406580,
          4999940,
          4102670,
          710290,
          12037500,
          3199140,
          1886150,
          8190300,
          724600,
          4203560,
          12279250,
          4909120,
          9176160,
          4275760,
          9192920,
          9135600,
          814410,
          7937120,
          1646900,
          10054440,
          1363840,
          6966430,
          7038920,
          6530850,
          9019800,
          3978240,
          3512800,
          1403480,
          2347920,
          1912540,
          3930780,
          3721340,
          7648560,
          4086720,
          4726440,
          5814760,
          1202560,
          2395280,
          11198520,
          6558570,
          1937550,
          2344800,
          4239560,
          6627080,
          4237110,
          920080,
          6546900,
          1656060,
          3054420,
          4320120,
          1989260,
          3447480,
          2582210,
          12924360,
          4815600,
          7291200,
          8892600,
          3490760,
          3944780,
          3149580,
          9369850,
          2769840,
          3064880,
          3644130,
          1681760,
          6352290,
          7654500,
          1915730,
          4240900,
          1266510,
          5336760,
          14453100,
          12140180,
          4671700,
          4249650,
          2408000,
          2347350,
          2914780,
          1916760,
          3655950,
          10282860,
          673850,
          7510510,
          5843760,
          11837340,
          7006050,
          5326800,
          3026800,
          2407020,
          8623920,
          3265770,
          5202540,
          3947640,
          4558580,
          3843100,
          6202000,
          7873600,
          767610,
          6969280,
          9186800,
          3687060,
          5881350,
          10255960,
          671450,
          12631080,
          11801260,
          5082880,
          5099520,
          6828300,
          1436900
         ],
         "yaxis": "y"
        },
        {
         "customdata": [
          [
           220
          ],
          [
           190
          ],
          [
           60
          ],
          [
           140
          ],
          [
           130
          ],
          [
           140
          ],
          [
           130
          ],
          [
           240
          ],
          [
           130
          ],
          [
           170
          ],
          [
           110
          ],
          [
           260
          ],
          [
           110
          ],
          [
           120
          ],
          [
           230
          ],
          [
           160
          ],
          [
           230
          ],
          [
           110
          ],
          [
           70
          ],
          [
           190
          ],
          [
           290
          ],
          [
           250
          ],
          [
           90
          ],
          [
           60
          ],
          [
           160
          ],
          [
           230
          ],
          [
           220
          ],
          [
           210
          ],
          [
           190
          ],
          [
           170
          ],
          [
           150
          ],
          [
           60
          ],
          [
           170
          ],
          [
           70
          ],
          [
           240
          ],
          [
           280
          ],
          [
           300
          ],
          [
           220
          ],
          [
           100
          ],
          [
           70
          ],
          [
           60
          ],
          [
           140
          ],
          [
           100
          ],
          [
           210
          ],
          [
           110
          ],
          [
           160
          ],
          [
           190
          ],
          [
           210
          ],
          [
           270
          ],
          [
           290
          ],
          [
           300
          ],
          [
           130
          ],
          [
           210
          ],
          [
           140
          ],
          [
           200
          ],
          [
           170
          ],
          [
           290
          ],
          [
           180
          ],
          [
           170
          ],
          [
           230
          ],
          [
           170
          ],
          [
           250
          ],
          [
           110
          ],
          [
           150
          ],
          [
           110
          ],
          [
           270
          ],
          [
           60
          ],
          [
           110
          ],
          [
           80
          ],
          [
           180
          ],
          [
           60
          ],
          [
           210
          ],
          [
           150
          ],
          [
           210
          ],
          [
           300
          ],
          [
           60
          ],
          [
           260
          ],
          [
           290
          ],
          [
           170
          ],
          [
           140
          ],
          [
           200
          ],
          [
           140
          ],
          [
           100
          ],
          [
           160
          ],
          [
           60
          ],
          [
           190
          ],
          [
           220
          ],
          [
           90
          ],
          [
           250
          ],
          [
           200
          ],
          [
           230
          ],
          [
           170
          ],
          [
           250
          ],
          [
           80
          ],
          [
           300
          ],
          [
           300
          ],
          [
           120
          ],
          [
           110
          ],
          [
           200
          ],
          [
           200
          ],
          [
           120
          ],
          [
           290
          ],
          [
           290
          ],
          [
           220
          ],
          [
           230
          ],
          [
           160
          ],
          [
           200
          ],
          [
           250
          ],
          [
           80
          ],
          [
           60
          ],
          [
           170
          ],
          [
           70
          ],
          [
           300
          ],
          [
           210
          ],
          [
           280
          ],
          [
           190
          ],
          [
           140
          ],
          [
           160
          ],
          [
           100
          ],
          [
           210
          ],
          [
           70
          ],
          [
           70
          ],
          [
           120
          ],
          [
           100
          ]
         ],
         "hovertemplate": "Country=Southeast Asia<br>Units_Sold=%{x}<br>Revenue_USD=%{y}<br>Bubble_Size=%{marker.size}<br>Retail_Price=%{customdata[0]}<extra></extra>",
         "legendgroup": "Southeast Asia",
         "marker": {
          "color": "#FF8C33",
          "size": [
           73.33333333333333,
           63.33333333333333,
           20,
           46.666666666666664,
           43.333333333333336,
           46.666666666666664,
           43.333333333333336,
           80,
           43.333333333333336,
           56.666666666666664,
           36.666666666666664,
           86.66666666666667,
           36.666666666666664,
           40,
           76.66666666666667,
           53.333333333333336,
           76.66666666666667,
           36.666666666666664,
           23.333333333333332,
           63.33333333333333,
           96.66666666666667,
           83.33333333333334,
           30,
           20,
           53.333333333333336,
           76.66666666666667,
           73.33333333333333,
           70,
           63.33333333333333,
           56.666666666666664,
           50,
           20,
           56.666666666666664,
           23.333333333333332,
           80,
           93.33333333333333,
           100,
           73.33333333333333,
           33.33333333333333,
           23.333333333333332,
           20,
           46.666666666666664,
           33.33333333333333,
           70,
           36.666666666666664,
           53.333333333333336,
           63.33333333333333,
           70,
           90,
           96.66666666666667,
           100,
           43.333333333333336,
           70,
           46.666666666666664,
           66.66666666666666,
           56.666666666666664,
           96.66666666666667,
           60,
           56.666666666666664,
           76.66666666666667,
           56.666666666666664,
           83.33333333333334,
           36.666666666666664,
           50,
           36.666666666666664,
           90,
           20,
           36.666666666666664,
           26.666666666666668,
           60,
           20,
           70,
           50,
           70,
           100,
           20,
           86.66666666666667,
           96.66666666666667,
           56.666666666666664,
           46.666666666666664,
           66.66666666666666,
           46.666666666666664,
           33.33333333333333,
           53.333333333333336,
           20,
           63.33333333333333,
           73.33333333333333,
           30,
           83.33333333333334,
           66.66666666666666,
           76.66666666666667,
           56.666666666666664,
           83.33333333333334,
           26.666666666666668,
           100,
           100,
           40,
           36.666666666666664,
           66.66666666666666,
           66.66666666666666,
           40,
           96.66666666666667,
           96.66666666666667,
           73.33333333333333,
           76.66666666666667,
           53.333333333333336,
           66.66666666666666,
           83.33333333333334,
           26.666666666666668,
           20,
           56.666666666666664,
           23.333333333333332,
           100,
           70,
           93.33333333333333,
           63.33333333333333,
           46.666666666666664,
           53.333333333333336,
           33.33333333333333,
           70,
           23.333333333333332,
           23.333333333333332,
           40,
           33.33333333333333
          ],
          "sizemode": "area",
          "sizeref": 0.25,
          "symbol": "circle"
         },
         "mode": "markers",
         "name": "Southeast Asia",
         "orientation": "v",
         "showlegend": true,
         "type": "scatter",
         "x": [
          48873,
          23473,
          18279,
          7956,
          44636,
          35377,
          35468,
          10473,
          27448,
          20670,
          38355,
          24769,
          46124,
          26666,
          18808,
          12640,
          42094,
          5250,
          47338,
          42383,
          23146,
          40904,
          9495,
          28850,
          32663,
          26971,
          23653,
          48540,
          39076,
          24321,
          6257,
          5233,
          46991,
          22754,
          26422,
          27108,
          12202,
          45014,
          6052,
          21699,
          41529,
          11069,
          14004,
          42197,
          21784,
          35304,
          42975,
          33515,
          34149,
          5028,
          25467,
          42594,
          33352,
          13843,
          35728,
          8844,
          17306,
          15743,
          26778,
          6354,
          16444,
          35346,
          17571,
          9612,
          12383,
          21146,
          17022,
          31840,
          19861,
          10346,
          20135,
          9556,
          24716,
          41927,
          48694,
          36693,
          40254,
          34976,
          20952,
          13888,
          17951,
          43727,
          36635,
          31434,
          42443,
          24571,
          17105,
          35378,
          37934,
          35535,
          48935,
          17097,
          14871,
          40333,
          14342,
          6685,
          34614,
          20355,
          13242,
          12203,
          34267,
          23709,
          27222,
          25327,
          46989,
          17458,
          40727,
          7882,
          16258,
          47663,
          36096,
          14191,
          36810,
          43906,
          39777,
          34732,
          19823,
          20775,
          11789,
          37241,
          15815,
          47243,
          40542,
          10017
         ],
         "xaxis": "x",
         "y": [
          10752060,
          4459870,
          1096740,
          1113840,
          5802680,
          4952780,
          4610840,
          2513520,
          3568240,
          3513900,
          4219050,
          6439940,
          5073640,
          3199920,
          4325840,
          2022400,
          9681620,
          577500,
          3313660,
          8052770,
          6712340,
          10226000,
          854550,
          1731000,
          5226080,
          6203330,
          5203660,
          10193400,
          7424440,
          4134570,
          938550,
          313980,
          7988470,
          1592780,
          6341280,
          7590240,
          3660600,
          9903080,
          605200,
          1518930,
          2491740,
          1549660,
          1400400,
          8861370,
          2396240,
          5648640,
          8165250,
          7038150,
          9220230,
          1458120,
          7640100,
          5537220,
          7003920,
          1938020,
          7145600,
          1503480,
          5018740,
          2833740,
          4552260,
          1461420,
          2795480,
          8836500,
          1932810,
          1441800,
          1362130,
          5709420,
          1021320,
          3502400,
          1588880,
          1862280,
          1208100,
          2006760,
          3707400,
          8804670,
          14608200,
          2201580,
          10466040,
          10143040,
          3561840,
          1944320,
          3590200,
          6121780,
          3663500,
          5029440,
          2546580,
          4668490,
          3763100,
          3184020,
          9483500,
          7107000,
          11255050,
          2906490,
          3717750,
          3226640,
          4302600,
          2005500,
          4153680,
          2239050,
          2648400,
          2440600,
          4112040,
          6875610,
          7894380,
          5571940,
          10807470,
          2793280,
          8145400,
          1970500,
          1300640,
          2859780,
          6136320,
          993370,
          11043000,
          9220260,
          11137560,
          6599080,
          2775220,
          3324000,
          1178900,
          7820610,
          1107050,
          3307010,
          4865040,
          1001700
         ],
         "yaxis": "y"
        }
       ],
       "layout": {
        "height": 600,
        "legend": {
         "itemsizing": "constant",
         "title": {
          "text": "Country"
         },
         "tracegroupgap": 0
        },
        "template": {
         "data": {
          "candlestick": [
           {
            "decreasing": {
             "line": {
              "color": "#000033"
             }
            },
            "increasing": {
             "line": {
              "color": "#000032"
             }
            },
            "type": "candlestick"
           }
          ],
          "contour": [
           {
            "colorscale": [
             [
              0,
              "#000011"
             ],
             [
              0.1111111111111111,
              "#000012"
             ],
             [
              0.2222222222222222,
              "#000013"
             ],
             [
              0.3333333333333333,
              "#000014"
             ],
             [
              0.4444444444444444,
              "#000015"
             ],
             [
              0.5555555555555556,
              "#000016"
             ],
             [
              0.6666666666666666,
              "#000017"
             ],
             [
              0.7777777777777778,
              "#000018"
             ],
             [
              0.8888888888888888,
              "#000019"
             ],
             [
              1,
              "#000020"
             ]
            ],
            "type": "contour"
           }
          ],
          "contourcarpet": [
           {
            "colorscale": [
             [
              0,
              "#000011"
             ],
             [
              0.1111111111111111,
              "#000012"
             ],
             [
              0.2222222222222222,
              "#000013"
             ],
             [
              0.3333333333333333,
              "#000014"
             ],
             [
              0.4444444444444444,
              "#000015"
             ],
             [
              0.5555555555555556,
              "#000016"
             ],
             [
              0.6666666666666666,
              "#000017"
             ],
             [
              0.7777777777777778,
              "#000018"
             ],
             [
              0.8888888888888888,
              "#000019"
             ],
             [
              1,
              "#000020"
             ]
            ],
            "type": "contourcarpet"
           }
          ],
          "heatmap": [
           {
            "colorscale": [
             [
              0,
              "#000011"
             ],
             [
              0.1111111111111111,
              "#000012"
             ],
             [
              0.2222222222222222,
              "#000013"
             ],
             [
              0.3333333333333333,
              "#000014"
             ],
             [
              0.4444444444444444,
              "#000015"
             ],
             [
              0.5555555555555556,
              "#000016"
             ],
             [
              0.6666666666666666,
              "#000017"
             ],
             [
              0.7777777777777778,
              "#000018"
             ],
             [
              0.8888888888888888,
              "#000019"
             ],
             [
              1,
              "#000020"
             ]
            ],
            "type": "heatmap"
           }
          ],
          "histogram2d": [
           {
            "colorscale": [
             [
              0,
              "#000011"
             ],
             [
              0.1111111111111111,
              "#000012"
             ],
             [
              0.2222222222222222,
              "#000013"
             ],
             [
              0.3333333333333333,
              "#000014"
             ],
             [
              0.4444444444444444,
              "#000015"
             ],
             [
              0.5555555555555556,
              "#000016"
             ],
             [
              0.6666666666666666,
              "#000017"
             ],
             [
              0.7777777777777778,
              "#000018"
             ],
             [
              0.8888888888888888,
              "#000019"
             ],
             [
              1,
              "#000020"
             ]
            ],
            "type": "histogram2d"
           }
          ],
          "icicle": [
           {
            "textfont": {
             "color": "white"
            },
            "type": "icicle"
           }
          ],
          "sankey": [
           {
            "textfont": {
             "color": "#000036"
            },
            "type": "sankey"
           }
          ],
          "scatter": [
           {
            "marker": {
             "line": {
              "width": 0
             }
            },
            "type": "scatter"
           }
          ],
          "table": [
           {
            "cells": {
             "fill": {
              "color": "#000038"
             },
             "font": {
              "color": "#000037"
             },
             "line": {
              "color": "#000039"
             }
            },
            "header": {
             "fill": {
              "color": "#000040"
             },
             "font": {
              "color": "#000036"
             },
             "line": {
              "color": "#000039"
             }
            },
            "type": "table"
           }
          ],
          "waterfall": [
           {
            "connector": {
             "line": {
              "color": "#000036",
              "width": 2
             }
            },
            "decreasing": {
             "marker": {
              "color": "#000033"
             }
            },
            "increasing": {
             "marker": {
              "color": "#000032"
             }
            },
            "totals": {
             "marker": {
              "color": "#000034"
             }
            },
            "type": "waterfall"
           }
          ]
         },
         "layout": {
          "coloraxis": {
           "colorscale": [
            [
             0,
             "#000011"
            ],
            [
             0.1111111111111111,
             "#000012"
            ],
            [
             0.2222222222222222,
             "#000013"
            ],
            [
             0.3333333333333333,
             "#000014"
            ],
            [
             0.4444444444444444,
             "#000015"
            ],
            [
             0.5555555555555556,
             "#000016"
            ],
            [
             0.6666666666666666,
             "#000017"
            ],
            [
             0.7777777777777778,
             "#000018"
            ],
            [
             0.8888888888888888,
             "#000019"
            ],
            [
             1,
             "#000020"
            ]
           ]
          },
          "colorscale": {
           "diverging": [
            [
             0,
             "#000021"
            ],
            [
             0.1,
             "#000022"
            ],
            [
             0.2,
             "#000023"
            ],
            [
             0.3,
             "#000024"
            ],
            [
             0.4,
             "#000025"
            ],
            [
             0.5,
             "#000026"
            ],
            [
             0.6,
             "#000027"
            ],
            [
             0.7,
             "#000028"
            ],
            [
             0.8,
             "#000029"
            ],
            [
             0.9,
             "#000030"
            ],
            [
             1,
             "#000031"
            ]
           ],
           "sequential": [
            [
             0,
             "#000011"
            ],
            [
             0.1111111111111111,
             "#000012"
            ],
            [
             0.2222222222222222,
             "#000013"
            ],
            [
             0.3333333333333333,
             "#000014"
            ],
            [
             0.4444444444444444,
             "#000015"
            ],
            [
             0.5555555555555556,
             "#000016"
            ],
            [
             0.6666666666666666,
             "#000017"
            ],
            [
             0.7777777777777778,
             "#000018"
            ],
            [
             0.8888888888888888,
             "#000019"
            ],
            [
             1,
             "#000020"
            ]
           ],
           "sequentialminus": [
            [
             0,
             "#000011"
            ],
            [
             0.1111111111111111,
             "#000012"
            ],
            [
             0.2222222222222222,
             "#000013"
            ],
            [
             0.3333333333333333,
             "#000014"
            ],
            [
             0.4444444444444444,
             "#000015"
            ],
            [
             0.5555555555555556,
             "#000016"
            ],
            [
             0.6666666666666666,
             "#000017"
            ],
            [
             0.7777777777777778,
             "#000018"
            ],
            [
             0.8888888888888888,
             "#000019"
            ],
            [
             1,
             "#000020"
            ]
           ]
          },
          "colorway": [
           "#000001",
           "#000002",
           "#000003",
           "#000004",
           "#000005",
           "#000006",
           "#000007",
           "#000008",
           "#000009",
           "#000010"
          ]
         }
        },
        "title": {
         "text": "Revenue vs Units Sold (Bubble Size = Retail Price)"
        },
        "width": 1000,
        "xaxis": {
         "anchor": "y",
         "domain": [
          0,
          1
         ],
         "title": {
          "text": "Units Sold"
         }
        },
        "yaxis": {
         "anchor": "x",
         "domain": [
          0,
          1
         ],
         "title": {
          "text": "Revenue (USD)"
         }
        }
       }
      }
     },
     "metadata": {},
     "output_type": "display_data"
    }
   ],
   "source": [
    "# Create a new column for bubble size (Retail Price)\n",
    "df_nike['Bubble_Size'] = df_nike['Retail_Price'] / df_nike['Retail_Price'].max() * 100  # Normalize size\n",
    "\n",
    "# Create Bubble Chart\n",
    "fig = px.scatter(\n",
    "    df_nike,\n",
    "    x=\"Units_Sold\",\n",
    "    y=\"Revenue_USD\",\n",
    "    size=\"Bubble_Size\",  # Retail Price determines bubble size\n",
    "    color=\"Country\",\n",
    "    title=\"Revenue vs Units Sold (Bubble Size = Retail Price)\",\n",
    "    hover_data=[\"Retail_Price\"],  # Show Retail Price on hover\n",
    "    width=1000,\n",
    "    height=600,\n",
    "    color_discrete_map=color_discrete_map\n",
    ")\n",
    "\n",
    "fig.update_layout(xaxis_title=\"Units Sold\", yaxis_title=\"Revenue (USD)\")\n",
    "fig.show()"
   ]
  },
  {
   "cell_type": "code",
   "execution_count": null,
   "metadata": {},
   "outputs": [
    {
     "data": {
      "application/vnd.plotly.v1+json": {
       "config": {
        "plotlyServerURL": "https://plot.ly"
       },
       "data": [
        {
         "marker": {
          "color": "#FF5733",
          "size": [
           70,
           96.66666666666667,
           93.33333333333333,
           73.33333333333333,
           33.33333333333333,
           76.66666666666667,
           43.333333333333336,
           43.333333333333336,
           83.33333333333334
          ],
          "sizemode": "area",
          "sizeref": 0.02
         },
         "mode": "markers",
         "name": "India",
         "text": [
          "India",
          "India",
          "India",
          "India",
          "India",
          "India",
          "India",
          "India",
          "India"
         ],
         "type": "scatter",
         "x": [
          2.06682,
          11.7276,
          2.94756,
          1.99276,
          2.5837,
          8.39109,
          4.3329,
          3.86269,
          11.83575
         ],
         "y": [
          9.842,
          40.44,
          10.527,
          9.058,
          25.837,
          36.483,
          33.33,
          29.713,
          47.343
         ]
        },
        {
         "marker": {
          "color": "#33FF57",
          "size": [
           53.333333333333336,
           56.666666666666664,
           66.66666666666666,
           16.666666666666664,
           23.333333333333332,
           63.33333333333333,
           30,
           80,
           80,
           30,
           100,
           70,
           23.333333333333332,
           26.666666666666668,
           76.66666666666667,
           83.33333333333334
          ],
          "sizemode": "area",
          "sizeref": 0.02
         },
         "mode": "markers",
         "name": "Greater China",
         "text": [
          "Greater China",
          "Greater China",
          "Greater China",
          "Greater China",
          "Greater China",
          "Greater China",
          "Greater China",
          "Greater China",
          "Greater China",
          "Greater China",
          "Greater China",
          "Greater China",
          "Greater China",
          "Greater China",
          "Greater China",
          "Greater China"
         ],
         "type": "scatter",
         "x": [
          2.83936,
          4.43343,
          2.0334,
          1.5645,
          2.65825,
          7.75219,
          3.81492,
          4.82808,
          10.92432,
          3.02742,
          11.4045,
          7.29939,
          1.17292,
          1.92344,
          6.66034,
          2.2305
         ],
         "y": [
          17.746,
          26.079,
          10.167,
          31.29,
          37.975,
          40.801,
          42.388,
          20.117,
          45.518,
          33.638,
          38.015,
          34.759,
          16.756,
          24.043,
          28.958,
          8.922
         ]
        },
        {
         "marker": {
          "color": "#3357FF",
          "size": [
           30,
           20,
           93.33333333333333,
           36.666666666666664,
           80
          ],
          "sizemode": "area",
          "sizeref": 0.02
         },
         "mode": "markers",
         "name": "Japan",
         "text": [
          "Japan",
          "Japan",
          "Japan",
          "Japan",
          "Japan"
         ],
         "type": "scatter",
         "x": [
          2.22957,
          2.83056,
          7.25396,
          4.18231,
          8.61456
         ],
         "y": [
          24.773,
          47.176,
          25.907,
          38.021,
          35.894
         ]
        },
        {
         "marker": {
          "color": "#FF33A1",
          "size": [
           30,
           43.333333333333336,
           23.333333333333332,
           100,
           80,
           96.66666666666667,
           33.33333333333333,
           66.66666666666666,
           30,
           86.66666666666667,
           83.33333333333334
          ],
          "sizemode": "area",
          "sizeref": 0.02
         },
         "mode": "markers",
         "name": "Europe",
         "text": [
          "Europe",
          "Europe",
          "Europe",
          "Europe",
          "Europe",
          "Europe",
          "Europe",
          "Europe",
          "Europe",
          "Europe",
          "Europe"
         ],
         "type": "scatter",
         "x": [
          4.28436,
          5.51954,
          2.84837,
          6.5505,
          1.45512,
          4.67016,
          4.8873,
          7.6974,
          1.0323,
          9.51132,
          2.70375
         ],
         "y": [
          47.604,
          42.458,
          40.691,
          21.835,
          6.063,
          16.104,
          48.873,
          38.487,
          11.47,
          36.582,
          10.815
         ]
        },
        {
         "marker": {
          "color": "#A133FF",
          "size": [
           40,
           53.333333333333336,
           70,
           36.666666666666664,
           73.33333333333333,
           16.666666666666664,
           56.666666666666664,
           60,
           30,
           83.33333333333334,
           23.333333333333332,
           100,
           83.33333333333334,
           56.666666666666664,
           23.333333333333332
          ],
          "sizemode": "area",
          "sizeref": 0.02
         },
         "mode": "markers",
         "name": "South Korea",
         "text": [
          "South Korea",
          "South Korea",
          "South Korea",
          "South Korea",
          "South Korea",
          "South Korea",
          "South Korea",
          "South Korea",
          "South Korea",
          "South Korea",
          "South Korea",
          "South Korea",
          "South Korea",
          "South Korea",
          "South Korea"
         ],
         "type": "scatter",
         "x": [
          1.23324,
          7.03936,
          2.06787,
          2.66563,
          8.49684,
          0.95985,
          7.53831,
          3.86784,
          2.35008,
          2.871,
          1.08689,
          14.3217,
          11.402,
          6.68967,
          2.9428
         ],
         "y": [
          10.277,
          43.996,
          9.847,
          24.233,
          38.622,
          19.197,
          44.343,
          21.488,
          26.112,
          11.484,
          15.527,
          47.739,
          45.608,
          39.351,
          42.04
         ]
        },
        {
         "marker": {
          "color": "#33FFF6",
          "size": [
           86.66666666666667,
           46.666666666666664,
           56.666666666666664,
           46.666666666666664,
           76.66666666666667,
           70,
           90
          ],
          "sizemode": "area",
          "sizeref": 0.02
         },
         "mode": "markers",
         "name": "America",
         "text": [
          "America",
          "America",
          "America",
          "America",
          "America",
          "America",
          "America"
         ],
         "type": "scatter",
         "x": [
          10.37894,
          5.65838,
          6.96643,
          3.93078,
          2.58221,
          3.64413,
          11.83734
         ],
         "y": [
          39.919,
          40.417,
          40.979,
          28.077,
          11.227,
          17.353,
          43.842
         ]
        },
        {
         "marker": {
          "color": "#FF8C33",
          "size": [
           46.666666666666664,
           43.333333333333336,
           40,
           76.66666666666667,
           96.66666666666667,
           53.333333333333336,
           73.33333333333333,
           80,
           70,
           96.66666666666667,
           46.666666666666664,
           20,
           20,
           53.333333333333336,
           66.66666666666666
          ],
          "sizemode": "area",
          "sizeref": 0.02
         },
         "mode": "markers",
         "name": "Southeast Asia",
         "text": [
          "Southeast Asia",
          "Southeast Asia",
          "Southeast Asia",
          "Southeast Asia",
          "Southeast Asia",
          "Southeast Asia",
          "Southeast Asia",
          "Southeast Asia",
          "Southeast Asia",
          "Southeast Asia",
          "Southeast Asia",
          "Southeast Asia",
          "Southeast Asia",
          "Southeast Asia",
          "Southeast Asia"
         ],
         "type": "scatter",
         "x": [
          4.95278,
          4.61084,
          3.19992,
          9.68162,
          6.71234,
          5.22608,
          5.20366,
          6.34128,
          7.03815,
          1.45812,
          1.93802,
          1.02132,
          2.20158,
          2.79328,
          8.1454
         ],
         "y": [
          35.377,
          35.468,
          26.666,
          42.094,
          23.146,
          32.663,
          23.653,
          26.422,
          33.515,
          5.028,
          13.843,
          17.022,
          36.693,
          17.458,
          40.727
         ]
        }
       ],
       "frames": [
        {
         "data": [
          {
           "marker": {
            "color": "#FF5733",
            "size": [
             70,
             96.66666666666667,
             93.33333333333333,
             73.33333333333333,
             33.33333333333333,
             76.66666666666667,
             43.333333333333336,
             43.333333333333336,
             83.33333333333334
            ],
            "sizemode": "area",
            "sizeref": 0.02
           },
           "mode": "markers",
           "name": "India",
           "text": [
            "India",
            "India",
            "India",
            "India",
            "India",
            "India",
            "India",
            "India",
            "India"
           ],
           "type": "scatter",
           "x": [
            2.06682,
            11.7276,
            2.94756,
            1.99276,
            2.5837,
            8.39109,
            4.3329,
            3.86269,
            11.83575
           ],
           "y": [
            9.842,
            40.44,
            10.527,
            9.058,
            25.837,
            36.483,
            33.33,
            29.713,
            47.343
           ]
          },
          {
           "marker": {
            "color": "#33FF57",
            "size": [
             53.333333333333336,
             56.666666666666664,
             66.66666666666666,
             16.666666666666664,
             23.333333333333332,
             63.33333333333333,
             30,
             80,
             80,
             30,
             100,
             70,
             23.333333333333332,
             26.666666666666668,
             76.66666666666667,
             83.33333333333334
            ],
            "sizemode": "area",
            "sizeref": 0.02
           },
           "mode": "markers",
           "name": "Greater China",
           "text": [
            "Greater China",
            "Greater China",
            "Greater China",
            "Greater China",
            "Greater China",
            "Greater China",
            "Greater China",
            "Greater China",
            "Greater China",
            "Greater China",
            "Greater China",
            "Greater China",
            "Greater China",
            "Greater China",
            "Greater China",
            "Greater China"
           ],
           "type": "scatter",
           "x": [
            2.83936,
            4.43343,
            2.0334,
            1.5645,
            2.65825,
            7.75219,
            3.81492,
            4.82808,
            10.92432,
            3.02742,
            11.4045,
            7.29939,
            1.17292,
            1.92344,
            6.66034,
            2.2305
           ],
           "y": [
            17.746,
            26.079,
            10.167,
            31.29,
            37.975,
            40.801,
            42.388,
            20.117,
            45.518,
            33.638,
            38.015,
            34.759,
            16.756,
            24.043,
            28.958,
            8.922
           ]
          },
          {
           "marker": {
            "color": "#3357FF",
            "size": [
             30,
             20,
             93.33333333333333,
             36.666666666666664,
             80
            ],
            "sizemode": "area",
            "sizeref": 0.02
           },
           "mode": "markers",
           "name": "Japan",
           "text": [
            "Japan",
            "Japan",
            "Japan",
            "Japan",
            "Japan"
           ],
           "type": "scatter",
           "x": [
            2.22957,
            2.83056,
            7.25396,
            4.18231,
            8.61456
           ],
           "y": [
            24.773,
            47.176,
            25.907,
            38.021,
            35.894
           ]
          },
          {
           "marker": {
            "color": "#FF33A1",
            "size": [
             30,
             43.333333333333336,
             23.333333333333332,
             100,
             80,
             96.66666666666667,
             33.33333333333333,
             66.66666666666666,
             30,
             86.66666666666667,
             83.33333333333334
            ],
            "sizemode": "area",
            "sizeref": 0.02
           },
           "mode": "markers",
           "name": "Europe",
           "text": [
            "Europe",
            "Europe",
            "Europe",
            "Europe",
            "Europe",
            "Europe",
            "Europe",
            "Europe",
            "Europe",
            "Europe",
            "Europe"
           ],
           "type": "scatter",
           "x": [
            4.28436,
            5.51954,
            2.84837,
            6.5505,
            1.45512,
            4.67016,
            4.8873,
            7.6974,
            1.0323,
            9.51132,
            2.70375
           ],
           "y": [
            47.604,
            42.458,
            40.691,
            21.835,
            6.063,
            16.104,
            48.873,
            38.487,
            11.47,
            36.582,
            10.815
           ]
          },
          {
           "marker": {
            "color": "#A133FF",
            "size": [
             40,
             53.333333333333336,
             70,
             36.666666666666664,
             73.33333333333333,
             16.666666666666664,
             56.666666666666664,
             60,
             30,
             83.33333333333334,
             23.333333333333332,
             100,
             83.33333333333334,
             56.666666666666664,
             23.333333333333332
            ],
            "sizemode": "area",
            "sizeref": 0.02
           },
           "mode": "markers",
           "name": "South Korea",
           "text": [
            "South Korea",
            "South Korea",
            "South Korea",
            "South Korea",
            "South Korea",
            "South Korea",
            "South Korea",
            "South Korea",
            "South Korea",
            "South Korea",
            "South Korea",
            "South Korea",
            "South Korea",
            "South Korea",
            "South Korea"
           ],
           "type": "scatter",
           "x": [
            1.23324,
            7.03936,
            2.06787,
            2.66563,
            8.49684,
            0.95985,
            7.53831,
            3.86784,
            2.35008,
            2.871,
            1.08689,
            14.3217,
            11.402,
            6.68967,
            2.9428
           ],
           "y": [
            10.277,
            43.996,
            9.847,
            24.233,
            38.622,
            19.197,
            44.343,
            21.488,
            26.112,
            11.484,
            15.527,
            47.739,
            45.608,
            39.351,
            42.04
           ]
          },
          {
           "marker": {
            "color": "#33FFF6",
            "size": [
             86.66666666666667,
             46.666666666666664,
             56.666666666666664,
             46.666666666666664,
             76.66666666666667,
             70,
             90
            ],
            "sizemode": "area",
            "sizeref": 0.02
           },
           "mode": "markers",
           "name": "America",
           "text": [
            "America",
            "America",
            "America",
            "America",
            "America",
            "America",
            "America"
           ],
           "type": "scatter",
           "x": [
            10.37894,
            5.65838,
            6.96643,
            3.93078,
            2.58221,
            3.64413,
            11.83734
           ],
           "y": [
            39.919,
            40.417,
            40.979,
            28.077,
            11.227,
            17.353,
            43.842
           ]
          },
          {
           "marker": {
            "color": "#FF8C33",
            "size": [
             46.666666666666664,
             43.333333333333336,
             40,
             76.66666666666667,
             96.66666666666667,
             53.333333333333336,
             73.33333333333333,
             80,
             70,
             96.66666666666667,
             46.666666666666664,
             20,
             20,
             53.333333333333336,
             66.66666666666666
            ],
            "sizemode": "area",
            "sizeref": 0.02
           },
           "mode": "markers",
           "name": "Southeast Asia",
           "text": [
            "Southeast Asia",
            "Southeast Asia",
            "Southeast Asia",
            "Southeast Asia",
            "Southeast Asia",
            "Southeast Asia",
            "Southeast Asia",
            "Southeast Asia",
            "Southeast Asia",
            "Southeast Asia",
            "Southeast Asia",
            "Southeast Asia",
            "Southeast Asia",
            "Southeast Asia",
            "Southeast Asia"
           ],
           "type": "scatter",
           "x": [
            4.95278,
            4.61084,
            3.19992,
            9.68162,
            6.71234,
            5.22608,
            5.20366,
            6.34128,
            7.03815,
            1.45812,
            1.93802,
            1.02132,
            2.20158,
            2.79328,
            8.1454
           ],
           "y": [
            35.377,
            35.468,
            26.666,
            42.094,
            23.146,
            32.663,
            23.653,
            26.422,
            33.515,
            5.028,
            13.843,
            17.022,
            36.693,
            17.458,
            40.727
           ]
          }
         ],
         "name": "January"
        },
        {
         "data": [
          {
           "marker": {
            "color": "#FF5733",
            "size": [
             80,
             26.666666666666668,
             40,
             20,
             90,
             93.33333333333333,
             86.66666666666667,
             83.33333333333334,
             80,
             43.333333333333336,
             56.666666666666664,
             26.666666666666668
            ],
            "sizemode": "area",
            "sizeref": 0.02
           },
           "mode": "markers",
           "name": "India",
           "text": [
            "India",
            "India",
            "India",
            "India",
            "India",
            "India",
            "India",
            "India",
            "India",
            "India",
            "India",
            "India"
           ],
           "type": "scatter",
           "x": [
            7.2108,
            1.81408,
            2.47932,
            2.59014,
            10.61316,
            5.80272,
            7.39284,
            7.409,
            9.34128,
            3.25624,
            5.66508,
            3.71968
           ],
           "y": [
            30.045,
            22.676,
            20.661,
            43.169,
            39.308,
            20.724,
            28.434,
            29.636,
            38.922,
            25.048,
            33.324,
            46.496
           ]
          },
          {
           "marker": {
            "color": "#33FF57",
            "size": [
             76.66666666666667,
             96.66666666666667,
             60,
             66.66666666666666,
             20,
             86.66666666666667,
             76.66666666666667,
             80,
             23.333333333333332,
             16.666666666666664,
             66.66666666666666,
             80,
             73.33333333333333,
             23.333333333333332
            ],
            "sizemode": "area",
            "sizeref": 0.02
           },
           "mode": "markers",
           "name": "Greater China",
           "text": [
            "Greater China",
            "Greater China",
            "Greater China",
            "Greater China",
            "Greater China",
            "Greater China",
            "Greater China",
            "Greater China",
            "Greater China",
            "Greater China",
            "Greater China",
            "Greater China",
            "Greater China",
            "Greater China"
           ],
           "type": "scatter",
           "x": [
            8.52817,
            13.48152,
            3.65418,
            1.9692,
            2.43492,
            5.10978,
            4.83345,
            7.60512,
            2.8077,
            0.40425,
            5.931,
            3.63384,
            6.60792,
            3.36434
           ],
           "y": [
            37.079,
            46.488,
            20.301,
            9.846,
            40.582,
            19.653,
            21.015,
            31.688,
            40.11,
            8.085,
            29.655,
            15.141,
            30.036,
            48.062
           ]
          },
          {
           "marker": {
            "color": "#3357FF",
            "size": [
             40,
             56.666666666666664,
             50,
             20,
             70,
             63.33333333333333,
             63.33333333333333,
             60,
             83.33333333333334,
             76.66666666666667,
             96.66666666666667,
             86.66666666666667,
             80
            ],
            "sizemode": "area",
            "sizeref": 0.02
           },
           "mode": "markers",
           "name": "Japan",
           "text": [
            "Japan",
            "Japan",
            "Japan",
            "Japan",
            "Japan",
            "Japan",
            "Japan",
            "Japan",
            "Japan",
            "Japan",
            "Japan",
            "Japan",
            "Japan"
           ],
           "type": "scatter",
           "x": [
            5.58096,
            1.04227,
            7.43295,
            1.88322,
            8.5869,
            1.37598,
            7.50405,
            4.20516,
            8.662,
            10.01489,
            4.90448,
            2.3946,
            7.87728
           ],
           "y": [
            46.508,
            6.131,
            49.553,
            31.387,
            40.89,
            7.242,
            39.495,
            23.362,
            34.648,
            43.543,
            16.912,
            9.21,
            32.822
           ]
          },
          {
           "marker": {
            "color": "#FF33A1",
            "size": [
             76.66666666666667,
             56.666666666666664,
             80,
             30,
             63.33333333333333,
             63.33333333333333,
             16.666666666666664,
             43.333333333333336,
             33.33333333333333,
             83.33333333333334,
             40,
             40,
             46.666666666666664,
             33.33333333333333,
             56.666666666666664,
             86.66666666666667
            ],
            "sizemode": "area",
            "sizeref": 0.02
           },
           "mode": "markers",
           "name": "Europe",
           "text": [
            "Europe",
            "Europe",
            "Europe",
            "Europe",
            "Europe",
            "Europe",
            "Europe",
            "Europe",
            "Europe",
            "Europe",
            "Europe",
            "Europe",
            "Europe",
            "Europe",
            "Europe",
            "Europe"
           ],
           "type": "scatter",
           "x": [
            10.03398,
            1.17283,
            8.36352,
            2.85057,
            3.07002,
            1.94921,
            2.34725,
            5.71064,
            1.4104,
            6.566,
            3.08016,
            1.58388,
            6.70418,
            1.1691,
            4.44312,
            2.11562
           ],
           "y": [
            43.626,
            6.899,
            34.848,
            31.673,
            16.158,
            10.259,
            46.945,
            43.928,
            14.104,
            26.264,
            25.668,
            13.199,
            47.887,
            11.691,
            26.136,
            8.137
           ]
          },
          {
           "marker": {
            "color": "#A133FF",
            "size": [
             33.33333333333333,
             23.333333333333332,
             56.666666666666664,
             100,
             96.66666666666667,
             26.666666666666668,
             93.33333333333333,
             56.666666666666664,
             16.666666666666664,
             90,
             100,
             33.33333333333333,
             30,
             50,
             70,
             63.33333333333333,
             16.666666666666664
            ],
            "sizemode": "area",
            "sizeref": 0.02
           },
           "mode": "markers",
           "name": "South Korea",
           "text": [
            "South Korea",
            "South Korea",
            "South Korea",
            "South Korea",
            "South Korea",
            "South Korea",
            "South Korea",
            "South Korea",
            "South Korea",
            "South Korea",
            "South Korea",
            "South Korea",
            "South Korea",
            "South Korea",
            "South Korea",
            "South Korea",
            "South Korea"
           ],
           "type": "scatter",
           "x": [
            4.0762,
            3.49482,
            1.00912,
            2.9241,
            11.50604,
            2.89912,
            3.65456,
            8.23021,
            1.8143,
            12.25584,
            8.1789,
            0.6983,
            3.49893,
            6.9831,
            3.45135,
            5.39277,
            1.5454
           ],
           "y": [
            40.762,
            49.926,
            5.936,
            9.747,
            39.676,
            36.239,
            13.052,
            48.413,
            36.286,
            45.392,
            27.263,
            6.983,
            38.877,
            46.554,
            16.435,
            28.383,
            30.908
           ]
          },
          {
           "marker": {
            "color": "#33FFF6",
            "size": [
             60,
             36.666666666666664,
             73.33333333333333,
             36.666666666666664,
             43.333333333333336,
             100,
             83.33333333333334,
             53.333333333333336,
             53.333333333333336,
             63.33333333333333,
             93.33333333333333,
             20,
             46.666666666666664,
             46.666666666666664
            ],
            "sizemode": "area",
            "sizeref": 0.02
           },
           "mode": "markers",
           "name": "America",
           "text": [
            "America",
            "America",
            "America",
            "America",
            "America",
            "America",
            "America",
            "America",
            "America",
            "America",
            "America",
            "America",
            "America",
            "America"
           ],
           "type": "scatter",
           "x": [
            3.3219,
            1.43704,
            9.66966,
            5.36921,
            0.90402,
            14.8647,
            12.27925,
            4.90912,
            3.5128,
            3.72134,
            7.2912,
            1.91676,
            3.0268,
            5.20254
           ],
           "y": [
            18.455,
            13.064,
            43.953,
            48.811,
            6.954,
            49.549,
            49.117,
            30.682,
            21.955,
            19.586,
            26.04,
            31.946,
            21.62,
            37.161
           ]
          },
          {
           "marker": {
            "color": "#FF8C33",
            "size": [
             86.66666666666667,
             63.33333333333333,
             100,
             66.66666666666666,
             36.666666666666664,
             20,
             83.33333333333334,
             100,
             93.33333333333333,
             53.333333333333336
            ],
            "sizemode": "area",
            "sizeref": 0.02
           },
           "mode": "markers",
           "name": "Southeast Asia",
           "text": [
            "Southeast Asia",
            "Southeast Asia",
            "Southeast Asia",
            "Southeast Asia",
            "Southeast Asia",
            "Southeast Asia",
            "Southeast Asia",
            "Southeast Asia",
            "Southeast Asia",
            "Southeast Asia"
           ],
           "type": "scatter",
           "x": [
            6.43994,
            7.42444,
            3.6606,
            7.1456,
            1.93281,
            2.54658,
            9.4835,
            4.3026,
            11.13756,
            3.324
           ],
           "y": [
            24.769,
            39.076,
            12.202,
            35.728,
            17.571,
            42.443,
            37.934,
            14.342,
            39.777,
            20.775
           ]
          }
         ],
         "name": "February"
        },
        {
         "data": [
          {
           "marker": {
            "color": "#FF5733",
            "size": [
             96.66666666666667,
             43.333333333333336,
             50,
             20,
             76.66666666666667,
             43.333333333333336,
             70,
             63.33333333333333,
             60
            ],
            "sizemode": "area",
            "sizeref": 0.02
           },
           "mode": "markers",
           "name": "India",
           "text": [
            "India",
            "India",
            "India",
            "India",
            "India",
            "India",
            "India",
            "India",
            "India"
           ],
           "type": "scatter",
           "x": [
            6.84632,
            1.66348,
            3.7182,
            0.40386,
            4.73777,
            4.57899,
            9.40926,
            6.49515,
            5.33718
           ],
           "y": [
            23.608,
            12.796,
            24.788,
            6.731,
            20.599,
            35.223,
            44.806,
            34.185,
            29.651
           ]
          },
          {
           "marker": {
            "color": "#33FF57",
            "size": [
             60,
             90,
             46.666666666666664,
             50,
             66.66666666666666,
             33.33333333333333,
             93.33333333333333,
             60,
             56.666666666666664
            ],
            "sizemode": "area",
            "sizeref": 0.02
           },
           "mode": "markers",
           "name": "Greater China",
           "text": [
            "Greater China",
            "Greater China",
            "Greater China",
            "Greater China",
            "Greater China",
            "Greater China",
            "Greater China",
            "Greater China",
            "Greater China"
           ],
           "type": "scatter",
           "x": [
            8.81514,
            10.00917,
            5.89008,
            2.54925,
            1.197,
            2.8663,
            3.74752,
            8.78724,
            3.52767
           ],
           "y": [
            48.973,
            37.071,
            42.072,
            16.995,
            5.985,
            28.663,
            13.384,
            48.818,
            20.751
           ]
          },
          {
           "marker": {
            "color": "#3357FF",
            "size": [
             70,
             46.666666666666664,
             63.33333333333333,
             46.666666666666664,
             53.333333333333336,
             96.66666666666667,
             76.66666666666667,
             16.666666666666664,
             63.33333333333333
            ],
            "sizemode": "area",
            "sizeref": 0.02
           },
           "mode": "markers",
           "name": "Japan",
           "text": [
            "Japan",
            "Japan",
            "Japan",
            "Japan",
            "Japan",
            "Japan",
            "Japan",
            "Japan",
            "Japan"
           ],
           "type": "scatter",
           "x": [
            2.27913,
            0.87416,
            4.7234,
            5.31678,
            1.768,
            9.38643,
            9.05119,
            1.6592,
            4.40515
           ],
           "y": [
            10.853,
            6.244,
            24.86,
            37.977,
            11.05,
            32.367,
            39.353,
            33.184,
            23.185
           ]
          },
          {
           "marker": {
            "color": "#FF33A1",
            "size": [
             90,
             100,
             90,
             66.66666666666666,
             36.666666666666664,
             100,
             90,
             50
            ],
            "sizemode": "area",
            "sizeref": 0.02
           },
           "mode": "markers",
           "name": "Europe",
           "text": [
            "Europe",
            "Europe",
            "Europe",
            "Europe",
            "Europe",
            "Europe",
            "Europe",
            "Europe"
           ],
           "type": "scatter",
           "x": [
            4.05135,
            11.8869,
            4.63833,
            7.9372,
            5.07441,
            5.6607,
            8.33949,
            4.9221
           ],
           "y": [
            15.005,
            39.623,
            17.179,
            39.686,
            46.131,
            18.869,
            30.887,
            32.814
           ]
          },
          {
           "marker": {
            "color": "#A133FF",
            "size": [
             70,
             76.66666666666667,
             56.666666666666664,
             53.333333333333336,
             63.33333333333333,
             36.666666666666664,
             30,
             50,
             93.33333333333333,
             100,
             40,
             33.33333333333333,
             46.666666666666664,
             23.333333333333332
            ],
            "sizemode": "area",
            "sizeref": 0.02
           },
           "mode": "markers",
           "name": "South Korea",
           "text": [
            "South Korea",
            "South Korea",
            "South Korea",
            "South Korea",
            "South Korea",
            "South Korea",
            "South Korea",
            "South Korea",
            "South Korea",
            "South Korea",
            "South Korea",
            "South Korea",
            "South Korea",
            "South Korea"
           ],
           "type": "scatter",
           "x": [
            9.02706,
            9.84078,
            3.44437,
            7.34864,
            5.55028,
            2.18009,
            1.23003,
            3.1353,
            7.34972,
            13.821,
            5.0226,
            4.9035,
            3.64168,
            0.50694
           ],
           "y": [
            42.986,
            42.786,
            20.261,
            45.929,
            29.212,
            19.819,
            13.667,
            20.902,
            26.249,
            46.07,
            41.855,
            49.035,
            26.012,
            7.242
           ]
          },
          {
           "marker": {
            "color": "#33FFF6",
            "size": [
             63.33333333333333,
             30,
             16.666666666666664,
             66.66666666666666,
             76.66666666666667,
             93.33333333333333,
             30,
             46.666666666666664,
             23.333333333333332,
             46.666666666666664,
             43.333333333333336,
             73.33333333333333,
             23.333333333333332
            ],
            "sizemode": "area",
            "sizeref": 0.02
           },
           "mode": "markers",
           "name": "America",
           "text": [
            "America",
            "America",
            "America",
            "America",
            "America",
            "America",
            "America",
            "America",
            "America",
            "America",
            "America",
            "America",
            "America"
           ],
           "type": "scatter",
           "x": [
            7.20423,
            3.99735,
            0.7246,
            9.1356,
            7.03892,
            3.97824,
            4.08672,
            5.81476,
            1.98926,
            3.49076,
            3.06488,
            4.6717,
            2.408
           ],
           "y": [
            37.917,
            44.415,
            14.492,
            45.678,
            30.604,
            14.208,
            45.408,
            41.534,
            28.418,
            24.934,
            23.576,
            21.235,
            34.4
           ]
          },
          {
           "marker": {
            "color": "#FF8C33",
            "size": [
             36.666666666666664,
             36.666666666666664,
             43.333333333333336,
             96.66666666666667,
             56.666666666666664,
             83.33333333333334,
             100,
             96.66666666666667,
             66.66666666666666,
             56.666666666666664,
             83.33333333333334
            ],
            "sizemode": "area",
            "sizeref": 0.02
           },
           "mode": "markers",
           "name": "Southeast Asia",
           "text": [
            "Southeast Asia",
            "Southeast Asia",
            "Southeast Asia",
            "Southeast Asia",
            "Southeast Asia",
            "Southeast Asia",
            "Southeast Asia",
            "Southeast Asia",
            "Southeast Asia",
            "Southeast Asia",
            "Southeast Asia"
           ],
           "type": "scatter",
           "x": [
            0.5775,
            2.39624,
            5.53722,
            5.01874,
            2.79548,
            8.8365,
            14.6082,
            10.14304,
            3.5902,
            2.90649,
            1.9705
           ],
           "y": [
            5.25,
            21.784,
            42.594,
            17.306,
            16.444,
            35.346,
            48.694,
            34.976,
            17.951,
            17.097,
            7.882
           ]
          }
         ],
         "name": "March"
        },
        {
         "data": [
          {
           "marker": {
            "color": "#FF5733",
            "size": [
             53.333333333333336,
             26.666666666666668,
             43.333333333333336,
             23.333333333333332,
             53.333333333333336,
             53.333333333333336,
             90
            ],
            "sizemode": "area",
            "sizeref": 0.02
           },
           "mode": "markers",
           "name": "India",
           "text": [
            "India",
            "India",
            "India",
            "India",
            "India",
            "India",
            "India"
           ],
           "type": "scatter",
           "x": [
            5.08032,
            3.01776,
            1.02934,
            3.30008,
            5.08224,
            6.74864,
            9.32769
           ],
           "y": [
            31.752,
            37.722,
            7.918,
            47.144,
            31.764,
            42.179,
            34.547
           ]
          },
          {
           "marker": {
            "color": "#33FF57",
            "size": [
             50,
             23.333333333333332,
             73.33333333333333,
             60,
             93.33333333333333,
             100,
             16.666666666666664,
             90,
             53.333333333333336,
             76.66666666666667
            ],
            "sizemode": "area",
            "sizeref": 0.02
           },
           "mode": "markers",
           "name": "Greater China",
           "text": [
            "Greater China",
            "Greater China",
            "Greater China",
            "Greater China",
            "Greater China",
            "Greater China",
            "Greater China",
            "Greater China",
            "Greater China",
            "Greater China"
           ],
           "type": "scatter",
           "x": [
            2.47335,
            2.87434,
            9.49916,
            4.27698,
            12.7484,
            13.2462,
            0.3583,
            8.45262,
            5.94864,
            10.50778
           ],
           "y": [
            16.489,
            41.062,
            43.178,
            23.761,
            45.53,
            44.154,
            7.166,
            31.306,
            37.179,
            45.686
           ]
          },
          {
           "marker": {
            "color": "#3357FF",
            "size": [
             100,
             40,
             66.66666666666666,
             80,
             50,
             43.333333333333336,
             70,
             60,
             63.33333333333333,
             60,
             56.666666666666664,
             60,
             53.333333333333336,
             66.66666666666666,
             60
            ],
            "sizemode": "area",
            "sizeref": 0.02
           },
           "mode": "markers",
           "name": "Japan",
           "text": [
            "Japan",
            "Japan",
            "Japan",
            "Japan",
            "Japan",
            "Japan",
            "Japan",
            "Japan",
            "Japan",
            "Japan",
            "Japan",
            "Japan",
            "Japan",
            "Japan",
            "Japan"
           ],
           "type": "scatter",
           "x": [
            4.3302,
            5.31264,
            4.117,
            9.02832,
            4.1604,
            5.95231,
            5.94594,
            1.92582,
            8.07557,
            2.05938,
            2.02793,
            5.71644,
            5.87952,
            1.8488,
            3.41136
           ],
           "y": [
            14.434,
            44.272,
            20.585,
            37.618,
            27.736,
            45.787,
            28.314,
            10.699,
            42.503,
            11.441,
            11.929,
            31.758,
            36.747,
            9.244,
            18.952
           ]
          },
          {
           "marker": {
            "color": "#FF33A1",
            "size": [
             53.333333333333336,
             93.33333333333333,
             83.33333333333334,
             90,
             86.66666666666667,
             53.333333333333336,
             33.33333333333333,
             43.333333333333336
            ],
            "sizemode": "area",
            "sizeref": 0.02
           },
           "mode": "markers",
           "name": "Europe",
           "text": [
            "Europe",
            "Europe",
            "Europe",
            "Europe",
            "Europe",
            "Europe",
            "Europe",
            "Europe"
           ],
           "type": "scatter",
           "x": [
            2.21728,
            10.5196,
            5.79375,
            2.44215,
            5.62744,
            2.96688,
            2.256,
            3.07229
           ],
           "y": [
            13.858,
            37.57,
            23.175,
            9.045,
            21.644,
            18.543,
            22.56,
            23.633
           ]
          },
          {
           "marker": {
            "color": "#A133FF",
            "size": [
             73.33333333333333,
             53.333333333333336,
             40,
             23.333333333333332,
             40,
             36.666666666666664,
             36.666666666666664,
             50
            ],
            "sizemode": "area",
            "sizeref": 0.02
           },
           "mode": "markers",
           "name": "South Korea",
           "text": [
            "South Korea",
            "South Korea",
            "South Korea",
            "South Korea",
            "South Korea",
            "South Korea",
            "South Korea",
            "South Korea"
           ],
           "type": "scatter",
           "x": [
            6.35492,
            7.25616,
            3.56688,
            3.4657,
            3.1122,
            0.80036,
            3.2197,
            2.99685
           ],
           "y": [
            28.886,
            45.351,
            29.724,
            49.51,
            25.935,
            7.276,
            29.27,
            19.979
           ]
          },
          {
           "marker": {
            "color": "#33FFF6",
            "size": [
             66.66666666666666,
             30,
             73.33333333333333,
             66.66666666666666,
             60,
             100,
             76.66666666666667,
             80,
             73.33333333333333
            ],
            "sizemode": "area",
            "sizeref": 0.02
           },
           "mode": "markers",
           "name": "America",
           "text": [
            "America",
            "America",
            "America",
            "America",
            "America",
            "America",
            "America",
            "America",
            "America"
           ],
           "type": "scatter",
           "x": [
            7.9868,
            2.81412,
            2.40658,
            9.0198,
            2.34792,
            8.8926,
            5.3268,
            8.62392,
            5.08288
           ],
           "y": [
            39.934,
            31.268,
            10.939,
            45.099,
            13.044,
            29.642,
            23.16,
            35.933,
            23.104
           ]
          },
          {
           "marker": {
            "color": "#FF8C33",
            "size": [
             73.33333333333333,
             43.333333333333336,
             36.666666666666664,
             93.33333333333333,
             46.666666666666664,
             33.33333333333333,
             90,
             36.666666666666664,
             86.66666666666667,
             100,
             40
            ],
            "sizemode": "area",
            "sizeref": 0.02
           },
           "mode": "markers",
           "name": "Southeast Asia",
           "text": [
            "Southeast Asia",
            "Southeast Asia",
            "Southeast Asia",
            "Southeast Asia",
            "Southeast Asia",
            "Southeast Asia",
            "Southeast Asia",
            "Southeast Asia",
            "Southeast Asia",
            "Southeast Asia",
            "Southeast Asia"
           ],
           "type": "scatter",
           "x": [
            10.75206,
            5.80268,
            5.07364,
            7.59024,
            1.54966,
            1.4004,
            9.22023,
            3.5024,
            10.46604,
            11.043,
            4.86504
           ],
           "y": [
            48.873,
            44.636,
            46.124,
            27.108,
            11.069,
            14.004,
            34.149,
            31.84,
            40.254,
            36.81,
            40.542
           ]
          }
         ],
         "name": "April"
        },
        {
         "data": [
          {
           "marker": {
            "color": "#FF5733",
            "size": [
             70,
             30,
             96.66666666666667,
             66.66666666666666,
             33.33333333333333,
             93.33333333333333,
             36.666666666666664,
             66.66666666666666,
             86.66666666666667,
             23.333333333333332,
             83.33333333333334
            ],
            "sizemode": "area",
            "sizeref": 0.02
           },
           "mode": "markers",
           "name": "India",
           "text": [
            "India",
            "India",
            "India",
            "India",
            "India",
            "India",
            "India",
            "India",
            "India",
            "India",
            "India"
           ],
           "type": "scatter",
           "x": [
            2.49753,
            4.08006,
            8.28356,
            6.0028,
            0.642,
            5.77696,
            4.40253,
            6.3816,
            6.91132,
            1.71465,
            3.7615
           ],
           "y": [
            11.893,
            45.334,
            28.564,
            30.014,
            6.42,
            20.632,
            40.023,
            31.908,
            26.582,
            24.495,
            15.046
           ]
          },
          {
           "marker": {
            "color": "#33FF57",
            "size": [
             53.333333333333336,
             46.666666666666664,
             33.33333333333333,
             96.66666666666667,
             46.666666666666664,
             40,
             16.666666666666664,
             33.33333333333333,
             36.666666666666664,
             63.33333333333333,
             50,
             90,
             30,
             86.66666666666667,
             50,
             36.666666666666664
            ],
            "sizemode": "area",
            "sizeref": 0.02
           },
           "mode": "markers",
           "name": "Greater China",
           "text": [
            "Greater China",
            "Greater China",
            "Greater China",
            "Greater China",
            "Greater China",
            "Greater China",
            "Greater China",
            "Greater China",
            "Greater China",
            "Greater China",
            "Greater China",
            "Greater China",
            "Greater China",
            "Greater China",
            "Greater China",
            "Greater China"
           ],
           "type": "scatter",
           "x": [
            5.37104,
            1.85248,
            0.8911,
            1.77567,
            5.96862,
            5.7096,
            0.31635,
            4.1568,
            0.67683,
            7.39214,
            6.16185,
            6.13872,
            1.86471,
            9.55942,
            6.4998,
            0.97471
           ],
           "y": [
            33.569,
            13.232,
            8.911,
            6.123,
            42.633,
            47.58,
            6.327,
            41.568,
            6.153,
            38.906,
            41.079,
            22.736,
            20.719,
            36.767,
            43.332,
            8.861
           ]
          },
          {
           "marker": {
            "color": "#3357FF",
            "size": [
             70,
             96.66666666666667,
             83.33333333333334,
             93.33333333333333,
             90,
             20
            ],
            "sizemode": "area",
            "sizeref": 0.02
           },
           "mode": "markers",
           "name": "Japan",
           "text": [
            "Japan",
            "Japan",
            "Japan",
            "Japan",
            "Japan",
            "Japan"
           ],
           "type": "scatter",
           "x": [
            3.03954,
            4.50022,
            2.7435,
            3.46892,
            11.96073,
            2.53668
           ],
           "y": [
            14.474,
            15.518,
            10.974,
            12.389,
            44.299,
            42.278
           ]
          },
          {
           "marker": {
            "color": "#FF33A1",
            "size": [
             93.33333333333333,
             76.66666666666667,
             50,
             40,
             66.66666666666666,
             96.66666666666667,
             76.66666666666667,
             66.66666666666666,
             20,
             96.66666666666667,
             66.66666666666666,
             60,
             73.33333333333333
            ],
            "sizemode": "area",
            "sizeref": 0.02
           },
           "mode": "markers",
           "name": "Europe",
           "text": [
            "Europe",
            "Europe",
            "Europe",
            "Europe",
            "Europe",
            "Europe",
            "Europe",
            "Europe",
            "Europe",
            "Europe",
            "Europe",
            "Europe",
            "Europe"
           ],
           "type": "scatter",
           "x": [
            11.627,
            3.47622,
            4.1055,
            2.21472,
            7.875,
            12.33834,
            4.35597,
            8.181,
            1.04142,
            12.17536,
            6.0612,
            8.59536,
            10.38158
           ],
           "y": [
            41.525,
            15.114,
            27.37,
            18.456,
            39.375,
            42.546,
            18.939,
            40.905,
            17.357,
            41.984,
            30.306,
            47.752,
            47.189
           ]
          },
          {
           "marker": {
            "color": "#A133FF",
            "size": [
             60,
             16.666666666666664,
             93.33333333333333,
             56.666666666666664,
             46.666666666666664,
             23.333333333333332,
             86.66666666666667,
             86.66666666666667,
             40,
             73.33333333333333,
             73.33333333333333,
             16.666666666666664
            ],
            "sizemode": "area",
            "sizeref": 0.02
           },
           "mode": "markers",
           "name": "South Korea",
           "text": [
            "South Korea",
            "South Korea",
            "South Korea",
            "South Korea",
            "South Korea",
            "South Korea",
            "South Korea",
            "South Korea",
            "South Korea",
            "South Korea",
            "South Korea",
            "South Korea"
           ],
           "type": "scatter",
           "x": [
            3.36456,
            2.3813,
            9.00788,
            4.17095,
            6.89164,
            2.90885,
            5.7499,
            9.80356,
            1.30188,
            4.20068,
            9.9594,
            1.3121
           ],
           "y": [
            18.692,
            47.626,
            32.171,
            24.535,
            49.226,
            41.555,
            22.115,
            37.706,
            10.849,
            19.094,
            45.27,
            26.242
           ]
          },
          {
           "marker": {
            "color": "#33FFF6",
            "size": [
             80,
             40,
             20,
             100,
             53.333333333333336,
             20,
             96.66666666666667,
             90,
             56.666666666666664,
             23.333333333333332,
             100,
             50,
             16.666666666666664,
             20,
             43.333333333333336,
             93.33333333333333,
             50
            ],
            "sizemode": "area",
            "sizeref": 0.02
           },
           "mode": "markers",
           "name": "America",
           "text": [
            "America",
            "America",
            "America",
            "America",
            "America",
            "America",
            "America",
            "America",
            "America",
            "America",
            "America",
            "America",
            "America",
            "America",
            "America",
            "America",
            "America"
           ],
           "type": "scatter",
           "x": [
            4.52232,
            3.16776,
            2.36748,
            12.0375,
            1.20256,
            2.3448,
            6.62708,
            12.92436,
            1.91573,
            1.26651,
            14.4531,
            4.24965,
            2.34735,
            2.40702,
            4.55858,
            9.1868,
            5.88135
           ],
           "y": [
            18.843,
            26.398,
            39.458,
            40.125,
            7.516,
            39.08,
            22.852,
            47.868,
            11.269,
            18.093,
            48.177,
            28.331,
            46.947,
            40.117,
            35.066,
            32.81,
            39.209
           ]
          },
          {
           "marker": {
            "color": "#FF8C33",
            "size": [
             20,
             56.666666666666664,
             33.33333333333333,
             70,
             36.666666666666664,
             26.666666666666668,
             26.666666666666668,
             66.66666666666666,
             40,
             76.66666666666667
            ],
            "sizemode": "area",
            "sizeref": 0.02
           },
           "mode": "markers",
           "name": "Southeast Asia",
           "text": [
            "Southeast Asia",
            "Southeast Asia",
            "Southeast Asia",
            "Southeast Asia",
            "Southeast Asia",
            "Southeast Asia",
            "Southeast Asia",
            "Southeast Asia",
            "Southeast Asia",
            "Southeast Asia"
           ],
           "type": "scatter",
           "x": [
            1.731,
            4.13457,
            0.6052,
            8.86137,
            1.36213,
            1.58888,
            3.22664,
            2.6484,
            4.11204,
            10.80747
           ],
           "y": [
            28.85,
            24.321,
            6.052,
            42.197,
            12.383,
            19.861,
            40.333,
            13.242,
            34.267,
            46.989
           ]
          }
         ],
         "name": "May"
        },
        {
         "data": [
          {
           "marker": {
            "color": "#FF5733",
            "size": [
             30,
             43.333333333333336,
             86.66666666666667,
             66.66666666666666,
             80,
             70,
             93.33333333333333,
             80,
             50,
             96.66666666666667,
             23.333333333333332,
             33.33333333333333,
             30,
             66.66666666666666,
             66.66666666666666
            ],
            "sizemode": "area",
            "sizeref": 0.02
           },
           "mode": "markers",
           "name": "India",
           "text": [
            "India",
            "India",
            "India",
            "India",
            "India",
            "India",
            "India",
            "India",
            "India",
            "India",
            "India",
            "India",
            "India",
            "India",
            "India"
           ],
           "type": "scatter",
           "x": [
            1.98666,
            2.52824,
            5.642,
            2.9878,
            7.25784,
            1.67286,
            12.85424,
            4.42104,
            2.08515,
            8.24702,
            2.3443,
            1.4102,
            2.97018,
            2.4112,
            3.8288
           ],
           "y": [
            22.074,
            19.448,
            21.7,
            14.939,
            30.241,
            7.966,
            45.908,
            18.421,
            13.901,
            28.438,
            33.49,
            14.102,
            33.002,
            12.056,
            19.144
           ]
          },
          {
           "marker": {
            "color": "#33FF57",
            "size": [
             83.33333333333334,
             93.33333333333333,
             86.66666666666667,
             30,
             60,
             26.666666666666668,
             60,
             56.666666666666664,
             76.66666666666667,
             33.33333333333333,
             100,
             96.66666666666667
            ],
            "sizemode": "area",
            "sizeref": 0.02
           },
           "mode": "markers",
           "name": "Greater China",
           "text": [
            "Greater China",
            "Greater China",
            "Greater China",
            "Greater China",
            "Greater China",
            "Greater China",
            "Greater China",
            "Greater China",
            "Greater China",
            "Greater China",
            "Greater China",
            "Greater China"
           ],
           "type": "scatter",
           "x": [
            8.289,
            6.78216,
            6.77898,
            1.32147,
            4.42926,
            3.39568,
            2.80332,
            8.0342,
            8.80785,
            4.0981,
            7.0863,
            2.18515
           ],
           "y": [
            33.156,
            24.222,
            26.073,
            14.683,
            24.607,
            42.446,
            15.574,
            47.26,
            38.295,
            40.981,
            23.621,
            7.535
           ]
          },
          {
           "marker": {
            "color": "#3357FF",
            "size": [
             86.66666666666667,
             86.66666666666667,
             43.333333333333336,
             33.33333333333333,
             43.333333333333336,
             86.66666666666667,
             60,
             66.66666666666666,
             16.666666666666664,
             63.33333333333333,
             93.33333333333333,
             96.66666666666667,
             53.333333333333336,
             76.66666666666667,
             83.33333333333334,
             30
            ],
            "sizemode": "area",
            "sizeref": 0.02
           },
           "mode": "markers",
           "name": "Japan",
           "text": [
            "Japan",
            "Japan",
            "Japan",
            "Japan",
            "Japan",
            "Japan",
            "Japan",
            "Japan",
            "Japan",
            "Japan",
            "Japan",
            "Japan",
            "Japan",
            "Japan",
            "Japan",
            "Japan"
           ],
           "type": "scatter",
           "x": [
            5.47638,
            5.88536,
            4.34291,
            4.002,
            1.89891,
            6.94928,
            3.50928,
            9.3762,
            1.88105,
            8.93152,
            3.7408,
            9.17328,
            6.92864,
            4.91809,
            7.844,
            2.15343
           ],
           "y": [
            21.063,
            22.636,
            33.407,
            40.02,
            14.607,
            26.728,
            19.496,
            46.881,
            37.621,
            47.008,
            13.36,
            31.632,
            43.304,
            21.383,
            31.376,
            23.927
           ]
          },
          {
           "marker": {
            "color": "#FF33A1",
            "size": [
             46.666666666666664,
             50,
             23.333333333333332,
             26.666666666666668,
             40,
             70,
             63.33333333333333,
             90,
             73.33333333333333,
             70
            ],
            "sizemode": "area",
            "sizeref": 0.02
           },
           "mode": "markers",
           "name": "Europe",
           "text": [
            "Europe",
            "Europe",
            "Europe",
            "Europe",
            "Europe",
            "Europe",
            "Europe",
            "Europe",
            "Europe",
            "Europe"
           ],
           "type": "scatter",
           "x": [
            3.0429,
            2.2671,
            1.98849,
            0.70776,
            5.59404,
            4.34742,
            1.85421,
            13.1517,
            4.35754,
            1.09284
           ],
           "y": [
            21.735,
            15.114,
            28.407,
            8.847,
            46.617,
            20.702,
            9.759,
            48.71,
            19.807,
            5.204
           ]
          },
          {
           "marker": {
            "color": "#A133FF",
            "size": [
             100,
             80,
             33.33333333333333,
             66.66666666666666,
             43.333333333333336,
             23.333333333333332,
             80,
             30,
             30,
             96.66666666666667,
             46.666666666666664,
             100,
             50
            ],
            "sizemode": "area",
            "sizeref": 0.02
           },
           "mode": "markers",
           "name": "South Korea",
           "text": [
            "South Korea",
            "South Korea",
            "South Korea",
            "South Korea",
            "South Korea",
            "South Korea",
            "South Korea",
            "South Korea",
            "South Korea",
            "South Korea",
            "South Korea",
            "South Korea",
            "South Korea"
           ],
           "type": "scatter",
           "x": [
            12.5703,
            3.93504,
            3.9659,
            2.2692,
            3.41679,
            2.28067,
            8.68944,
            3.31776,
            1.38969,
            10.91647,
            4.01898,
            4.8408,
            6.07005
           ],
           "y": [
            41.901,
            16.396,
            39.659,
            11.346,
            26.283,
            32.581,
            36.206,
            36.864,
            15.441,
            37.643,
            28.707,
            16.136,
            40.467
           ]
          },
          {
           "marker": {
            "color": "#33FFF6",
            "size": [
             70,
             56.666666666666664,
             73.33333333333333,
             96.66666666666667,
             23.333333333333332,
             56.666666666666664,
             63.33333333333333,
             80,
             40,
             63.33333333333333,
             50,
             33.33333333333333,
             93.33333333333333
            ],
            "sizemode": "area",
            "sizeref": 0.02
           },
           "mode": "markers",
           "name": "America",
           "text": [
            "America",
            "America",
            "America",
            "America",
            "America",
            "America",
            "America",
            "America",
            "America",
            "America",
            "America",
            "America",
            "America"
           ],
           "type": "scatter",
           "x": [
            8.74461,
            3.44845,
            8.86248,
            13.22139,
            3.15973,
            1.88615,
            1.91254,
            7.64856,
            3.44748,
            7.51051,
            7.00605,
            3.8431,
            7.8736
           ],
           "y": [
            41.641,
            20.285,
            40.284,
            45.591,
            45.139,
            11.095,
            10.066,
            31.869,
            28.729,
            39.529,
            46.707,
            38.431,
            28.12
           ]
          },
          {
           "marker": {
            "color": "#FF8C33",
            "size": [
             20,
             20,
             56.666666666666664,
             46.666666666666664,
             73.33333333333333,
             30,
             83.33333333333334,
             100,
             20,
             46.666666666666664,
             23.333333333333332,
             23.333333333333332
            ],
            "sizemode": "area",
            "sizeref": 0.02
           },
           "mode": "markers",
           "name": "Southeast Asia",
           "text": [
            "Southeast Asia",
            "Southeast Asia",
            "Southeast Asia",
            "Southeast Asia",
            "Southeast Asia",
            "Southeast Asia",
            "Southeast Asia",
            "Southeast Asia",
            "Southeast Asia",
            "Southeast Asia",
            "Southeast Asia",
            "Southeast Asia"
           ],
           "type": "scatter",
           "x": [
            1.09674,
            1.2081,
            3.56184,
            1.94432,
            3.7631,
            3.18402,
            3.71775,
            2.0055,
            2.85978,
            2.77522,
            1.10705,
            3.30701
           ],
           "y": [
            18.279,
            20.135,
            20.952,
            13.888,
            17.105,
            35.378,
            14.871,
            6.685,
            47.663,
            19.823,
            15.815,
            47.243
           ]
          }
         ],
         "name": "June"
        },
        {
         "data": [
          {
           "marker": {
            "color": "#FF5733",
            "size": [
             76.66666666666667,
             16.666666666666664,
             56.666666666666664,
             96.66666666666667,
             26.666666666666668,
             66.66666666666666,
             76.66666666666667,
             70,
             90,
             33.33333333333333,
             40,
             73.33333333333333,
             40,
             90,
             70,
             53.333333333333336,
             70,
             93.33333333333333
            ],
            "sizemode": "area",
            "sizeref": 0.02
           },
           "mode": "markers",
           "name": "India",
           "text": [
            "India",
            "India",
            "India",
            "India",
            "India",
            "India",
            "India",
            "India",
            "India",
            "India",
            "India",
            "India",
            "India",
            "India",
            "India",
            "India",
            "India",
            "India"
           ],
           "type": "scatter",
           "x": [
            10.72306,
            0.4239,
            2.15764,
            12.15042,
            3.69352,
            4.7006,
            2.04493,
            6.58497,
            12.54231,
            1.2534,
            2.21856,
            4.92162,
            1.13616,
            6.69357,
            6.54423,
            5.20928,
            3.55341,
            10.94324
           ],
           "y": [
            46.622,
            8.478,
            12.692,
            41.898,
            46.169,
            23.503,
            8.891,
            31.357,
            46.453,
            12.534,
            18.488,
            22.371,
            9.468,
            24.791,
            31.163,
            32.558,
            16.921,
            39.083
           ]
          },
          {
           "marker": {
            "color": "#33FF57",
            "size": [
             50,
             16.666666666666664,
             63.33333333333333,
             23.333333333333332,
             23.333333333333332,
             46.666666666666664,
             100,
             33.33333333333333,
             90,
             26.666666666666668
            ],
            "sizemode": "area",
            "sizeref": 0.02
           },
           "mode": "markers",
           "name": "Greater China",
           "text": [
            "Greater China",
            "Greater China",
            "Greater China",
            "Greater China",
            "Greater China",
            "Greater China",
            "Greater China",
            "Greater China",
            "Greater China",
            "Greater China"
           ],
           "type": "scatter",
           "x": [
            6.4221,
            2.39025,
            3.79202,
            2.0062,
            0.6279,
            6.84334,
            10.1904,
            1.4436,
            6.1344,
            2.8456
           ],
           "y": [
            42.814,
            47.805,
            19.958,
            28.66,
            8.97,
            48.881,
            33.968,
            14.436,
            22.72,
            35.57
           ]
          },
          {
           "marker": {
            "color": "#3357FF",
            "size": [
             93.33333333333333,
             70,
             80,
             50,
             83.33333333333334,
             66.66666666666666,
             86.66666666666667,
             56.666666666666664,
             93.33333333333333,
             80,
             60,
             93.33333333333333,
             40
            ],
            "sizemode": "area",
            "sizeref": 0.02
           },
           "mode": "markers",
           "name": "Japan",
           "text": [
            "Japan",
            "Japan",
            "Japan",
            "Japan",
            "Japan",
            "Japan",
            "Japan",
            "Japan",
            "Japan",
            "Japan",
            "Japan",
            "Japan",
            "Japan"
           ],
           "type": "scatter",
           "x": [
            4.31256,
            9.43425,
            5.61,
            4.8093,
            4.148,
            6.0812,
            9.57138,
            3.36668,
            4.8286,
            3.1068,
            5.5161,
            10.30624,
            5.90568
           ],
           "y": [
            15.402,
            44.925,
            23.375,
            32.062,
            16.592,
            30.406,
            36.813,
            19.804,
            17.245,
            12.945,
            30.645,
            36.808,
            49.214
           ]
          },
          {
           "marker": {
            "color": "#FF33A1",
            "size": [
             36.666666666666664,
             23.333333333333332,
             43.333333333333336,
             23.333333333333332,
             86.66666666666667,
             20,
             43.333333333333336,
             90,
             33.33333333333333,
             60
            ],
            "sizemode": "area",
            "sizeref": 0.02
           },
           "mode": "markers",
           "name": "Europe",
           "text": [
            "Europe",
            "Europe",
            "Europe",
            "Europe",
            "Europe",
            "Europe",
            "Europe",
            "Europe",
            "Europe",
            "Europe"
           ],
           "type": "scatter",
           "x": [
            4.84275,
            2.18848,
            0.93834,
            1.34897,
            7.66272,
            2.91588,
            0.86684,
            5.90598,
            0.7001,
            2.64024
           ],
           "y": [
            44.025,
            31.264,
            7.218,
            19.271,
            29.472,
            48.598,
            6.668,
            21.874,
            7.001,
            14.668
           ]
          },
          {
           "marker": {
            "color": "#A133FF",
            "size": [
             63.33333333333333,
             96.66666666666667,
             93.33333333333333,
             100,
             30,
             63.33333333333333,
             50,
             63.33333333333333,
             60,
             43.333333333333336,
             23.333333333333332,
             53.333333333333336
            ],
            "sizemode": "area",
            "sizeref": 0.02
           },
           "mode": "markers",
           "name": "South Korea",
           "text": [
            "South Korea",
            "South Korea",
            "South Korea",
            "South Korea",
            "South Korea",
            "South Korea",
            "South Korea",
            "South Korea",
            "South Korea",
            "South Korea",
            "South Korea",
            "South Korea"
           ],
           "type": "scatter",
           "x": [
            3.79164,
            6.78165,
            8.58788,
            7.0017,
            1.58049,
            5.22633,
            5.85885,
            1.63058,
            1.65924,
            5.47209,
            1.93431,
            2.55824
           ],
           "y": [
            19.956,
            23.385,
            30.671,
            23.339,
            17.561,
            27.507,
            39.059,
            8.582,
            9.218,
            42.093,
            27.633,
            15.989
           ]
          },
          {
           "marker": {
            "color": "#33FFF6",
            "size": [
             96.66666666666667,
             23.333333333333332,
             100,
             26.666666666666668,
             43.333333333333336,
             76.66666666666667,
             73.33333333333333,
             53.333333333333336,
             70,
             63.33333333333333,
             26.666666666666668,
             50,
             70,
             86.66666666666667
            ],
            "sizemode": "area",
            "sizeref": 0.02
           },
           "mode": "markers",
           "name": "America",
           "text": [
            "America",
            "America",
            "America",
            "America",
            "America",
            "America",
            "America",
            "America",
            "America",
            "America",
            "America",
            "America",
            "America",
            "America"
           ],
           "type": "scatter",
           "x": [
            4.8343,
            0.83349,
            5.0967,
            0.66328,
            4.10267,
            8.1903,
            10.05444,
            1.36384,
            1.65606,
            9.36985,
            2.76984,
            3.65595,
            10.28286,
            10.25596
           ],
           "y": [
            16.67,
            11.907,
            16.989,
            8.291,
            31.559,
            35.61,
            45.702,
            8.524,
            7.886,
            49.315,
            34.623,
            24.373,
            48.966,
            39.446
           ]
          },
          {
           "marker": {
            "color": "#FF8C33",
            "size": [
             56.666666666666664,
             63.33333333333333,
             83.33333333333334,
             30,
             20,
             23.333333333333332,
             53.333333333333336,
             63.33333333333333,
             56.666666666666664,
             50,
             63.33333333333333,
             76.66666666666667,
             56.666666666666664
            ],
            "sizemode": "area",
            "sizeref": 0.02
           },
           "mode": "markers",
           "name": "Southeast Asia",
           "text": [
            "Southeast Asia",
            "Southeast Asia",
            "Southeast Asia",
            "Southeast Asia",
            "Southeast Asia",
            "Southeast Asia",
            "Southeast Asia",
            "Southeast Asia",
            "Southeast Asia",
            "Southeast Asia",
            "Southeast Asia",
            "Southeast Asia",
            "Southeast Asia"
           ],
           "type": "scatter",
           "x": [
            3.5139,
            8.05277,
            10.226,
            0.85455,
            0.31398,
            1.51893,
            5.64864,
            8.16525,
            1.50348,
            1.4418,
            4.66849,
            11.25505,
            6.13632
           ],
           "y": [
            20.67,
            42.383,
            40.904,
            9.495,
            5.233,
            21.699,
            35.304,
            42.975,
            8.844,
            9.612,
            24.571,
            48.935,
            36.096
           ]
          }
         ],
         "name": "July"
        },
        {
         "data": [
          {
           "marker": {
            "color": "#FF5733",
            "size": [
             16.666666666666664,
             83.33333333333334,
             50,
             93.33333333333333,
             90,
             96.66666666666667,
             90,
             56.666666666666664,
             50,
             53.333333333333336,
             20,
             66.66666666666666,
             93.33333333333333
            ],
            "sizemode": "area",
            "sizeref": 0.02
           },
           "mode": "markers",
           "name": "India",
           "text": [
            "India",
            "India",
            "India",
            "India",
            "India",
            "India",
            "India",
            "India",
            "India",
            "India",
            "India",
            "India",
            "India"
           ],
           "type": "scatter",
           "x": [
            1.49135,
            2.6365,
            2.42865,
            5.09376,
            3.89691,
            9.67933,
            8.02521,
            3.20535,
            6.9507,
            7.79216,
            2.68818,
            5.4148,
            5.42332
           ],
           "y": [
            29.827,
            10.546,
            16.191,
            18.192,
            14.433,
            33.377,
            29.723,
            18.855,
            46.338,
            48.701,
            44.803,
            27.074,
            19.369
           ]
          },
          {
           "marker": {
            "color": "#33FF57",
            "size": [
             50,
             83.33333333333334,
             63.33333333333333,
             26.666666666666668,
             20,
             46.666666666666664,
             76.66666666666667
            ],
            "sizemode": "area",
            "sizeref": 0.02
           },
           "mode": "markers",
           "name": "Greater China",
           "text": [
            "Greater China",
            "Greater China",
            "Greater China",
            "Greater China",
            "Greater China",
            "Greater China",
            "Greater China"
           ],
           "type": "scatter",
           "x": [
            4.5393,
            12.18675,
            7.05869,
            0.58536,
            1.99398,
            2.05576,
            3.0245
           ],
           "y": [
            30.262,
            48.747,
            37.151,
            7.317,
            33.233,
            14.684,
            13.15
           ]
          },
          {
           "marker": {
            "color": "#3357FF",
            "size": [
             43.333333333333336,
             63.33333333333333,
             66.66666666666666,
             100,
             46.666666666666664,
             26.666666666666668,
             73.33333333333333,
             80,
             80,
             20,
             50
            ],
            "sizemode": "area",
            "sizeref": 0.02
           },
           "mode": "markers",
           "name": "Japan",
           "text": [
            "Japan",
            "Japan",
            "Japan",
            "Japan",
            "Japan",
            "Japan",
            "Japan",
            "Japan",
            "Japan",
            "Japan",
            "Japan"
           ],
           "type": "scatter",
           "x": [
            5.18128,
            3.97081,
            9.2498,
            9.5022,
            6.97312,
            3.73816,
            8.67834,
            5.11656,
            3.05448,
            1.66434,
            2.2617
           ],
           "y": [
            39.856,
            20.899,
            46.249,
            31.674,
            49.808,
            46.727,
            39.447,
            21.319,
            12.727,
            27.739,
            15.078
           ]
          },
          {
           "marker": {
            "color": "#FF33A1",
            "size": [
             60,
             33.33333333333333,
             33.33333333333333,
             23.333333333333332,
             46.666666666666664,
             76.66666666666667,
             83.33333333333334,
             100,
             36.666666666666664,
             20,
             80
            ],
            "sizemode": "area",
            "sizeref": 0.02
           },
           "mode": "markers",
           "name": "Europe",
           "text": [
            "Europe",
            "Europe",
            "Europe",
            "Europe",
            "Europe",
            "Europe",
            "Europe",
            "Europe",
            "Europe",
            "Europe",
            "Europe"
           ],
           "type": "scatter",
           "x": [
            7.96932,
            2.1473,
            1.9216,
            1.70254,
            2.9708,
            3.21954,
            8.30125,
            7.0296,
            5.38461,
            2.13324,
            1.7664
           ],
           "y": [
            44.274,
            21.473,
            19.216,
            24.322,
            21.22,
            13.998,
            33.205,
            23.432,
            48.951,
            35.554,
            7.36
           ]
          },
          {
           "marker": {
            "color": "#A133FF",
            "size": [
             70,
             90,
             80,
             100,
             56.666666666666664,
             56.666666666666664,
             36.666666666666664,
             70,
             20,
             16.666666666666664,
             96.66666666666667,
             43.333333333333336,
             16.666666666666664,
             76.66666666666667
            ],
            "sizemode": "area",
            "sizeref": 0.02
           },
           "mode": "markers",
           "name": "South Korea",
           "text": [
            "South Korea",
            "South Korea",
            "South Korea",
            "South Korea",
            "South Korea",
            "South Korea",
            "South Korea",
            "South Korea",
            "South Korea",
            "South Korea",
            "South Korea",
            "South Korea",
            "South Korea",
            "South Korea"
           ],
           "type": "scatter",
           "x": [
            7.41363,
            2.76075,
            1.3392,
            9.3396,
            4.6818,
            1.20615,
            4.34291,
            8.043,
            1.54932,
            1.3003,
            10.9881,
            5.88094,
            0.86925,
            7.5739
           ],
           "y": [
            35.303,
            10.225,
            5.58,
            31.132,
            27.54,
            7.095,
            39.481,
            38.3,
            25.822,
            26.006,
            37.89,
            45.238,
            17.385,
            32.93
           ]
          },
          {
           "marker": {
            "color": "#33FFF6",
            "size": [
             56.666666666666664,
             73.33333333333333,
             46.666666666666664,
             33.33333333333333,
             76.66666666666667,
             60,
             90,
             23.333333333333332,
             63.33333333333333,
             86.66666666666667,
             16.666666666666664,
             40,
             93.33333333333333,
             80
            ],
            "sizemode": "area",
            "sizeref": 0.02
           },
           "mode": "markers",
           "name": "America",
           "text": [
            "America",
            "America",
            "America",
            "America",
            "America",
            "America",
            "America",
            "America",
            "America",
            "America",
            "America",
            "America",
            "America",
            "America"
           ],
           "type": "scatter",
           "x": [
            4.3452,
            4.99994,
            3.19914,
            1.6469,
            6.53085,
            4.72644,
            11.19852,
            0.92008,
            3.94478,
            12.14018,
            0.67385,
            3.94764,
            12.63108,
            5.09952
           ],
           "y": [
            25.56,
            22.727,
            22.851,
            16.469,
            28.395,
            26.258,
            41.476,
            13.144,
            20.762,
            46.693,
            13.477,
            32.897,
            45.111,
            21.248
           ]
          },
          {
           "marker": {
            "color": "#FF8C33",
            "size": [
             23.333333333333332,
             73.33333333333333,
             70,
             50,
             66.66666666666666
            ],
            "sizemode": "area",
            "sizeref": 0.02
           },
           "mode": "markers",
           "name": "Southeast Asia",
           "text": [
            "Southeast Asia",
            "Southeast Asia",
            "Southeast Asia",
            "Southeast Asia",
            "Southeast Asia"
           ],
           "type": "scatter",
           "x": [
            1.59278,
            9.90308,
            7.00392,
            3.7074,
            2.4406
           ],
           "y": [
            22.754,
            45.014,
            33.352,
            24.716,
            12.203
           ]
          }
         ],
         "name": "August"
        },
        {
         "data": [
          {
           "marker": {
            "color": "#FF5733",
            "size": [
             30,
             60,
             33.33333333333333,
             46.666666666666664,
             60,
             73.33333333333333,
             93.33333333333333,
             50,
             80,
             86.66666666666667,
             100
            ],
            "sizemode": "area",
            "sizeref": 0.02
           },
           "mode": "markers",
           "name": "India",
           "text": [
            "India",
            "India",
            "India",
            "India",
            "India",
            "India",
            "India",
            "India",
            "India",
            "India",
            "India"
           ],
           "type": "scatter",
           "x": [
            2.85912,
            2.11086,
            2.2409,
            6.96808,
            4.55526,
            9.42524,
            12.8506,
            0.9723,
            2.2344,
            8.3252,
            6.1257
           ],
           "y": [
            31.768,
            11.727,
            22.409,
            49.772,
            25.307,
            42.842,
            45.895,
            6.482,
            9.31,
            32.02,
            20.419
           ]
          },
          {
           "marker": {
            "color": "#33FF57",
            "size": [
             43.333333333333336,
             26.666666666666668,
             33.33333333333333,
             33.33333333333333,
             36.666666666666664,
             33.33333333333333,
             63.33333333333333,
             20,
             56.666666666666664,
             53.333333333333336,
             16.666666666666664,
             43.333333333333336,
             86.66666666666667,
             26.666666666666668,
             63.33333333333333,
             93.33333333333333,
             33.33333333333333,
             60,
             83.33333333333334,
             46.666666666666664,
             36.666666666666664
            ],
            "sizemode": "area",
            "sizeref": 0.02
           },
           "mode": "markers",
           "name": "Greater China",
           "text": [
            "Greater China",
            "Greater China",
            "Greater China",
            "Greater China",
            "Greater China",
            "Greater China",
            "Greater China",
            "Greater China",
            "Greater China",
            "Greater China",
            "Greater China",
            "Greater China",
            "Greater China",
            "Greater China",
            "Greater China",
            "Greater China",
            "Greater China",
            "Greater China",
            "Greater China",
            "Greater China",
            "Greater China"
           ],
           "type": "scatter",
           "x": [
            5.33078,
            1.4888,
            3.967,
            2.2363,
            2.79015,
            2.5267,
            9.05825,
            1.23942,
            4.49361,
            2.56768,
            0.6676,
            4.41857,
            10.8329,
            0.99648,
            3.72191,
            13.01916,
            4.8498,
            5.66964,
            7.28625,
            6.37,
            3.46566
           ],
           "y": [
            41.006,
            18.61,
            39.67,
            22.363,
            25.365,
            25.267,
            47.675,
            20.657,
            26.433,
            16.048,
            13.352,
            33.989,
            41.665,
            12.456,
            19.589,
            46.497,
            48.498,
            31.498,
            29.145,
            45.5,
            31.506
           ]
          },
          {
           "marker": {
            "color": "#3357FF",
            "size": [
             76.66666666666667,
             76.66666666666667,
             60,
             73.33333333333333,
             83.33333333333334,
             76.66666666666667,
             30,
             100,
             40,
             40,
             70,
             30,
             16.666666666666664,
             50,
             93.33333333333333,
             90,
             70
            ],
            "sizemode": "area",
            "sizeref": 0.02
           },
           "mode": "markers",
           "name": "Japan",
           "text": [
            "Japan",
            "Japan",
            "Japan",
            "Japan",
            "Japan",
            "Japan",
            "Japan",
            "Japan",
            "Japan",
            "Japan",
            "Japan",
            "Japan",
            "Japan",
            "Japan",
            "Japan",
            "Japan",
            "Japan"
           ],
           "type": "scatter",
           "x": [
            10.65222,
            9.50728,
            6.80832,
            9.22504,
            9.4555,
            5.88938,
            1.61118,
            5.2425,
            3.78684,
            2.16144,
            7.51317,
            1.00431,
            1.00545,
            6.76875,
            2.56088,
            11.81061,
            8.92836
           ],
           "y": [
            46.314,
            41.336,
            37.824,
            41.932,
            37.822,
            25.606,
            17.902,
            17.475,
            31.557,
            18.012,
            35.777,
            11.159,
            20.109,
            45.125,
            9.146,
            43.743,
            42.516
           ]
          },
          {
           "marker": {
            "color": "#FF33A1",
            "size": [
             83.33333333333334,
             16.666666666666664,
             16.666666666666664,
             16.666666666666664,
             30,
             80,
             50,
             96.66666666666667,
             23.333333333333332,
             70,
             36.666666666666664,
             20
            ],
            "sizemode": "area",
            "sizeref": 0.02
           },
           "mode": "markers",
           "name": "Europe",
           "text": [
            "Europe",
            "Europe",
            "Europe",
            "Europe",
            "Europe",
            "Europe",
            "Europe",
            "Europe",
            "Europe",
            "Europe",
            "Europe",
            "Europe"
           ],
           "type": "scatter",
           "x": [
            8.47375,
            1.5446,
            2.00145,
            1.21235,
            1.74798,
            8.92392,
            5.17125,
            8.50628,
            2.61275,
            3.87996,
            5.26284,
            2.5935
           ],
           "y": [
            33.895,
            30.892,
            40.029,
            24.247,
            19.422,
            37.183,
            34.475,
            29.332,
            37.325,
            18.476,
            47.844,
            43.225
           ]
          },
          {
           "marker": {
            "color": "#A133FF",
            "size": [
             33.33333333333333,
             93.33333333333333,
             46.666666666666664,
             56.666666666666664,
             96.66666666666667,
             43.333333333333336,
             36.666666666666664,
             56.666666666666664,
             26.666666666666668,
             86.66666666666667
            ],
            "sizemode": "area",
            "sizeref": 0.02
           },
           "mode": "markers",
           "name": "South Korea",
           "text": [
            "South Korea",
            "South Korea",
            "South Korea",
            "South Korea",
            "South Korea",
            "South Korea",
            "South Korea",
            "South Korea",
            "South Korea",
            "South Korea"
           ],
           "type": "scatter",
           "x": [
            1.6375,
            8.19056,
            3.23918,
            4.27737,
            12.57498,
            1.46718,
            0.8261,
            7.81677,
            1.48552,
            2.12316
           ],
           "y": [
            16.375,
            29.252,
            23.137,
            25.161,
            43.362,
            11.286,
            7.51,
            45.981,
            18.569,
            8.166
           ]
          },
          {
           "marker": {
            "color": "#33FFF6",
            "size": [
             86.66666666666667,
             86.66666666666667,
             60,
             86.66666666666667,
             30,
             40,
             73.33333333333333,
             46.666666666666664,
             96.66666666666667,
             16.666666666666664
            ],
            "sizemode": "area",
            "sizeref": 0.02
           },
           "mode": "markers",
           "name": "America",
           "text": [
            "America",
            "America",
            "America",
            "America",
            "America",
            "America",
            "America",
            "America",
            "America",
            "America"
           ],
           "type": "scatter",
           "x": [
            8.73002,
            6.86296,
            3.71934,
            4.23956,
            3.05442,
            4.32012,
            2.91478,
            6.202,
            6.96928,
            0.67145
           ],
           "y": [
            33.577,
            26.396,
            20.663,
            16.306,
            33.938,
            36.001,
            13.249,
            44.3,
            24.032,
            13.429
           ]
          },
          {
           "marker": {
            "color": "#FF8C33",
            "size": [
             46.666666666666664,
             43.333333333333336,
             23.333333333333332,
             76.66666666666667,
             60,
             70,
             46.666666666666664,
             53.333333333333336,
             26.666666666666668,
             23.333333333333332
            ],
            "sizemode": "area",
            "sizeref": 0.02
           },
           "mode": "markers",
           "name": "Southeast Asia",
           "text": [
            "Southeast Asia",
            "Southeast Asia",
            "Southeast Asia",
            "Southeast Asia",
            "Southeast Asia",
            "Southeast Asia",
            "Southeast Asia",
            "Southeast Asia",
            "Southeast Asia",
            "Southeast Asia"
           ],
           "type": "scatter",
           "x": [
            1.11384,
            3.56824,
            3.31366,
            6.20333,
            2.83374,
            2.00676,
            6.12178,
            5.02944,
            1.30064,
            0.99337
           ],
           "y": [
            7.956,
            27.448,
            47.338,
            26.971,
            15.743,
            9.556,
            43.727,
            31.434,
            16.258,
            14.191
           ]
          }
         ],
         "name": "September"
        },
        {
         "data": [
          {
           "marker": {
            "color": "#FF5733",
            "size": [
             23.333333333333332,
             30,
             76.66666666666667,
             66.66666666666666,
             46.666666666666664,
             30,
             73.33333333333333,
             33.33333333333333
            ],
            "sizemode": "area",
            "sizeref": 0.02
           },
           "mode": "markers",
           "name": "India",
           "text": [
            "India",
            "India",
            "India",
            "India",
            "India",
            "India",
            "India",
            "India"
           ],
           "type": "scatter",
           "x": [
            1.75553,
            3.7899,
            1.43704,
            6.459,
            6.82654,
            3.84381,
            5.61968,
            0.987
           ],
           "y": [
            25.079,
            42.11,
            6.248,
            32.295,
            48.761,
            42.709,
            25.544,
            9.87
           ]
          },
          {
           "marker": {
            "color": "#33FF57",
            "size": [
             70,
             63.33333333333333,
             96.66666666666667,
             16.666666666666664,
             56.666666666666664,
             30,
             66.66666666666666,
             76.66666666666667,
             16.666666666666664,
             76.66666666666667,
             100,
             56.666666666666664,
             50,
             60,
             20,
             63.33333333333333,
             46.666666666666664,
             76.66666666666667
            ],
            "sizemode": "area",
            "sizeref": 0.02
           },
           "mode": "markers",
           "name": "Greater China",
           "text": [
            "Greater China",
            "Greater China",
            "Greater China",
            "Greater China",
            "Greater China",
            "Greater China",
            "Greater China",
            "Greater China",
            "Greater China",
            "Greater China",
            "Greater China",
            "Greater China",
            "Greater China",
            "Greater China",
            "Greater China",
            "Greater China",
            "Greater China",
            "Greater China"
           ],
           "type": "scatter",
           "x": [
            9.82086,
            2.11793,
            6.16801,
            1.20625,
            1.74811,
            3.24837,
            1.3148,
            10.7341,
            1.85845,
            4.16438,
            2.9493,
            6.23016,
            7.36575,
            8.54262,
            2.30742,
            2.03319,
            2.21914,
            7.46833
           ],
           "y": [
            46.766,
            11.147,
            21.269,
            24.125,
            10.283,
            36.093,
            6.574,
            46.67,
            37.169,
            18.106,
            9.831,
            36.648,
            49.105,
            47.459,
            38.457,
            10.701,
            15.851,
            32.471
           ]
          },
          {
           "marker": {
            "color": "#3357FF",
            "size": [
             46.666666666666664,
             73.33333333333333,
             36.666666666666664,
             50,
             33.33333333333333,
             76.66666666666667,
             50,
             46.666666666666664,
             26.666666666666668,
             40,
             66.66666666666666,
             86.66666666666667,
             46.666666666666664
            ],
            "sizemode": "area",
            "sizeref": 0.02
           },
           "mode": "markers",
           "name": "Japan",
           "text": [
            "Japan",
            "Japan",
            "Japan",
            "Japan",
            "Japan",
            "Japan",
            "Japan",
            "Japan",
            "Japan",
            "Japan",
            "Japan",
            "Japan",
            "Japan"
           ],
           "type": "scatter",
           "x": [
            5.50816,
            7.00348,
            2.68752,
            4.3962,
            2.5828,
            9.87551,
            4.5186,
            4.74628,
            3.47512,
            2.7918,
            8.685,
            11.96,
            2.5711
           ],
           "y": [
            39.344,
            31.834,
            24.432,
            29.308,
            25.828,
            42.937,
            30.124,
            33.902,
            43.439,
            23.265,
            43.425,
            46,
            18.365
           ]
          },
          {
           "marker": {
            "color": "#FF33A1",
            "size": [
             86.66666666666667,
             36.666666666666664,
             40,
             96.66666666666667,
             20,
             56.666666666666664,
             50,
             96.66666666666667,
             100,
             100,
             20,
             30,
             66.66666666666666
            ],
            "sizemode": "area",
            "sizeref": 0.02
           },
           "mode": "markers",
           "name": "Europe",
           "text": [
            "Europe",
            "Europe",
            "Europe",
            "Europe",
            "Europe",
            "Europe",
            "Europe",
            "Europe",
            "Europe",
            "Europe",
            "Europe",
            "Europe",
            "Europe"
           ],
           "type": "scatter",
           "x": [
            12.94904,
            1.41075,
            5.2068,
            9.48097,
            1.3476,
            2.48982,
            6.1323,
            7.86422,
            4.5501,
            1.5744,
            1.74684,
            4.36995,
            1.8624
           ],
           "y": [
            49.804,
            12.825,
            43.39,
            32.693,
            22.46,
            14.646,
            40.882,
            27.118,
            15.167,
            5.248,
            29.114,
            48.555,
            9.312
           ]
          },
          {
           "marker": {
            "color": "#A133FF",
            "size": [
             40,
             16.666666666666664,
             16.666666666666664,
             66.66666666666666,
             30,
             96.66666666666667,
             16.666666666666664,
             46.666666666666664,
             36.666666666666664,
             43.333333333333336,
             96.66666666666667,
             56.666666666666664,
             33.33333333333333
            ],
            "sizemode": "area",
            "sizeref": 0.02
           },
           "mode": "markers",
           "name": "South Korea",
           "text": [
            "South Korea",
            "South Korea",
            "South Korea",
            "South Korea",
            "South Korea",
            "South Korea",
            "South Korea",
            "South Korea",
            "South Korea",
            "South Korea",
            "South Korea",
            "South Korea",
            "South Korea"
           ],
           "type": "scatter",
           "x": [
            4.4214,
            1.3616,
            1.5135,
            1.8108,
            2.73042,
            11.04552,
            0.46495,
            3.10436,
            3.93811,
            3.27587,
            11.7798,
            8.32626,
            0.5918
           ],
           "y": [
            36.845,
            27.232,
            30.27,
            9.054,
            30.338,
            38.088,
            9.299,
            22.174,
            35.801,
            25.199,
            40.62,
            48.978,
            5.918
           ]
          },
          {
           "marker": {
            "color": "#33FFF6",
            "size": [
             43.333333333333336,
             56.666666666666664,
             70,
             16.666666666666664,
             63.33333333333333,
             96.66666666666667,
             30,
             50,
             90,
             90,
             33.33333333333333,
             40
            ],
            "sizemode": "area",
            "sizeref": 0.02
           },
           "mode": "markers",
           "name": "America",
           "text": [
            "America",
            "America",
            "America",
            "America",
            "America",
            "America",
            "America",
            "America",
            "America",
            "America",
            "America",
            "America"
           ],
           "type": "scatter",
           "x": [
            4.29767,
            7.33074,
            9.2358,
            2.2192,
            4.20356,
            4.27576,
            0.81441,
            1.93755,
            4.23711,
            6.35229,
            4.2409,
            5.84376
           ],
           "y": [
            33.059,
            43.122,
            43.98,
            44.384,
            22.124,
            14.744,
            9.049,
            12.917,
            15.693,
            23.527,
            42.409,
            48.698
           ]
          },
          {
           "marker": {
            "color": "#FF8C33",
            "size": [
             63.33333333333333,
             76.66666666666667,
             53.333333333333336,
             56.666666666666664,
             90,
             96.66666666666667,
             33.33333333333333,
             33.33333333333333
            ],
            "sizemode": "area",
            "sizeref": 0.02
           },
           "mode": "markers",
           "name": "Southeast Asia",
           "text": [
            "Southeast Asia",
            "Southeast Asia",
            "Southeast Asia",
            "Southeast Asia",
            "Southeast Asia",
            "Southeast Asia",
            "Southeast Asia",
            "Southeast Asia"
           ],
           "type": "scatter",
           "x": [
            4.45987,
            4.32584,
            2.0224,
            4.55226,
            5.70942,
            6.87561,
            1.1789,
            1.0017
           ],
           "y": [
            23.473,
            18.808,
            12.64,
            26.778,
            21.146,
            23.709,
            11.789,
            10.017
           ]
          }
         ],
         "name": "October"
        },
        {
         "data": [
          {
           "marker": {
            "color": "#FF5733",
            "size": [
             100,
             66.66666666666666,
             93.33333333333333,
             93.33333333333333,
             30,
             63.33333333333333,
             90,
             96.66666666666667,
             63.33333333333333,
             16.666666666666664,
             26.666666666666668,
             63.33333333333333
            ],
            "sizemode": "area",
            "sizeref": 0.02
           },
           "mode": "markers",
           "name": "India",
           "text": [
            "India",
            "India",
            "India",
            "India",
            "India",
            "India",
            "India",
            "India",
            "India",
            "India",
            "India",
            "India"
           ],
           "type": "scatter",
           "x": [
            14.5068,
            7.032,
            13.50412,
            4.96412,
            2.53827,
            7.62774,
            9.45027,
            11.56839,
            9.36985,
            1.53035,
            1.5924,
            7.91445
           ],
           "y": [
            48.356,
            35.16,
            48.229,
            17.729,
            28.203,
            40.146,
            35.001,
            39.891,
            49.315,
            30.607,
            19.905,
            41.655
           ]
          },
          {
           "marker": {
            "color": "#33FF57",
            "size": [
             50,
             90,
             76.66666666666667,
             40,
             93.33333333333333,
             83.33333333333334,
             53.333333333333336,
             43.333333333333336,
             80,
             96.66666666666667
            ],
            "sizemode": "area",
            "sizeref": 0.02
           },
           "mode": "markers",
           "name": "Greater China",
           "text": [
            "Greater China",
            "Greater China",
            "Greater China",
            "Greater China",
            "Greater China",
            "Greater China",
            "Greater China",
            "Greater China",
            "Greater China",
            "Greater China"
           ],
           "type": "scatter",
           "x": [
            6.4413,
            7.4034,
            9.86723,
            3.63384,
            13.99776,
            12.424,
            7.52576,
            4.21434,
            6.92568,
            1.78843
           ],
           "y": [
            42.942,
            27.42,
            42.901,
            30.282,
            49.992,
            49.696,
            47.036,
            32.418,
            28.857,
            6.167
           ]
          },
          {
           "marker": {
            "color": "#3357FF",
            "size": [
             66.66666666666666,
             86.66666666666667,
             56.666666666666664,
             73.33333333333333,
             63.33333333333333,
             96.66666666666667,
             23.333333333333332,
             83.33333333333334,
             70,
             76.66666666666667,
             76.66666666666667
            ],
            "sizemode": "area",
            "sizeref": 0.02
           },
           "mode": "markers",
           "name": "Japan",
           "text": [
            "Japan",
            "Japan",
            "Japan",
            "Japan",
            "Japan",
            "Japan",
            "Japan",
            "Japan",
            "Japan",
            "Japan",
            "Japan"
           ],
           "type": "scatter",
           "x": [
            5.8386,
            8.93984,
            5.23549,
            5.33874,
            8.47514,
            10.93213,
            0.77504,
            10.70325,
            3.06096,
            7.37081,
            5.61131
           ],
           "y": [
            29.193,
            34.384,
            30.797,
            24.267,
            44.606,
            37.697,
            11.072,
            42.813,
            14.576,
            32.047,
            24.397
           ]
          },
          {
           "marker": {
            "color": "#FF33A1",
            "size": [
             80,
             53.333333333333336,
             16.666666666666664,
             86.66666666666667,
             63.33333333333333,
             33.33333333333333,
             20,
             30
            ],
            "sizemode": "area",
            "sizeref": 0.02
           },
           "mode": "markers",
           "name": "Europe",
           "text": [
            "Europe",
            "Europe",
            "Europe",
            "Europe",
            "Europe",
            "Europe",
            "Europe",
            "Europe"
           ],
           "type": "scatter",
           "x": [
            10.73616,
            5.68448,
            0.97775,
            3.01652,
            8.12345,
            1.3131,
            0.81306,
            1.51389
           ],
           "y": [
            44.734,
            35.528,
            19.555,
            11.602,
            42.755,
            13.131,
            13.551,
            16.821
           ]
          },
          {
           "marker": {
            "color": "#A133FF",
            "size": [
             26.666666666666668,
             66.66666666666666,
             53.333333333333336,
             33.33333333333333,
             26.666666666666668,
             80,
             80,
             93.33333333333333,
             26.666666666666668
            ],
            "sizemode": "area",
            "sizeref": 0.02
           },
           "mode": "markers",
           "name": "South Korea",
           "text": [
            "South Korea",
            "South Korea",
            "South Korea",
            "South Korea",
            "South Korea",
            "South Korea",
            "South Korea",
            "South Korea",
            "South Korea"
           ],
           "type": "scatter",
           "x": [
            0.8484,
            2.288,
            5.95344,
            2.4849,
            0.77344,
            5.0148,
            11.96808,
            9.73056,
            1.68576
           ],
           "y": [
            10.605,
            11.44,
            37.209,
            24.849,
            9.668,
            20.895,
            49.867,
            34.752,
            21.072
           ]
          },
          {
           "marker": {
            "color": "#33FFF6",
            "size": [
             96.66666666666667,
             23.333333333333332,
             80,
             73.33333333333333,
             53.333333333333336,
             86.66666666666667,
             26.666666666666668,
             26.666666666666668,
             86.66666666666667,
             76.66666666666667,
             86.66666666666667,
             100
            ],
            "sizemode": "area",
            "sizeref": 0.02
           },
           "mode": "markers",
           "name": "America",
           "text": [
            "America",
            "America",
            "America",
            "America",
            "America",
            "America",
            "America",
            "America",
            "America",
            "America",
            "America",
            "America"
           ],
           "type": "scatter",
           "x": [
            8.32909,
            0.71029,
            9.17616,
            9.19292,
            7.93712,
            1.40348,
            2.39528,
            1.68176,
            5.33676,
            3.26577,
            3.68706,
            6.8283
           ],
           "y": [
            28.721,
            10.147,
            38.234,
            41.786,
            49.607,
            5.398,
            29.941,
            21.022,
            20.526,
            14.199,
            14.181,
            22.761
           ]
          },
          {
           "marker": {
            "color": "#FF8C33",
            "size": [
             80,
             36.666666666666664,
             20,
             60,
             33.33333333333333,
             40,
             36.666666666666664,
             96.66666666666667,
             73.33333333333333,
             70
            ],
            "sizemode": "area",
            "sizeref": 0.02
           },
           "mode": "markers",
           "name": "Southeast Asia",
           "text": [
            "Southeast Asia",
            "Southeast Asia",
            "Southeast Asia",
            "Southeast Asia",
            "Southeast Asia",
            "Southeast Asia",
            "Southeast Asia",
            "Southeast Asia",
            "Southeast Asia",
            "Southeast Asia"
           ],
           "type": "scatter",
           "x": [
            2.51352,
            4.21905,
            2.49174,
            1.86228,
            3.6635,
            4.15368,
            2.23905,
            7.89438,
            5.57194,
            7.82061
           ],
           "y": [
            10.473,
            38.355,
            41.529,
            10.346,
            36.635,
            34.614,
            20.355,
            27.222,
            25.327,
            37.241
           ]
          }
         ],
         "name": "November"
        },
        {
         "data": [
          {
           "marker": {
            "color": "#FF5733",
            "size": [
             40,
             90,
             16.666666666666664,
             70,
             76.66666666666667,
             40,
             43.333333333333336,
             46.666666666666664,
             36.666666666666664,
             60,
             30,
             23.333333333333332,
             50,
             30,
             80,
             93.33333333333333,
             53.333333333333336,
             40,
             33.33333333333333,
             63.33333333333333
            ],
            "sizemode": "area",
            "sizeref": 0.02
           },
           "mode": "markers",
           "name": "India",
           "text": [
            "India",
            "India",
            "India",
            "India",
            "India",
            "India",
            "India",
            "India",
            "India",
            "India",
            "India",
            "India",
            "India",
            "India",
            "India",
            "India",
            "India",
            "India",
            "India",
            "India"
           ],
           "type": "scatter",
           "x": [
            5.8488,
            12.60414,
            1.4019,
            2.84529,
            5.69733,
            3.55236,
            1.94597,
            6.19528,
            4.40275,
            4.97124,
            1.87812,
            0.82873,
            5.3706,
            3.69855,
            10.3716,
            7.58436,
            4.54544,
            5.43804,
            1.1499,
            2.57944
           ],
           "y": [
            48.74,
            46.682,
            28.038,
            13.549,
            24.771,
            29.603,
            14.969,
            44.252,
            40.025,
            27.618,
            20.868,
            11.839,
            35.804,
            41.095,
            43.215,
            27.087,
            28.409,
            45.317,
            11.499,
            13.576
           ]
          },
          {
           "marker": {
            "color": "#33FF57",
            "size": [
             70,
             66.66666666666666,
             40,
             36.666666666666664,
             26.666666666666668,
             36.666666666666664,
             96.66666666666667,
             66.66666666666666,
             16.666666666666664,
             16.666666666666664,
             60,
             73.33333333333333,
             80,
             50,
             90,
             46.666666666666664,
             60,
             16.666666666666664
            ],
            "sizemode": "area",
            "sizeref": 0.02
           },
           "mode": "markers",
           "name": "Greater China",
           "text": [
            "Greater China",
            "Greater China",
            "Greater China",
            "Greater China",
            "Greater China",
            "Greater China",
            "Greater China",
            "Greater China",
            "Greater China",
            "Greater China",
            "Greater China",
            "Greater China",
            "Greater China",
            "Greater China",
            "Greater China",
            "Greater China",
            "Greater China",
            "Greater China"
           ],
           "type": "scatter",
           "x": [
            8.69484,
            6.7162,
            4.66248,
            0.62843,
            3.53904,
            3.65442,
            9.93105,
            9.2124,
            0.2874,
            1.61605,
            4.65426,
            9.73148,
            4.34232,
            2.6301,
            11.6694,
            0.86744,
            2.5083,
            0.3135
           ],
           "y": [
            41.404,
            33.581,
            38.854,
            5.713,
            44.238,
            33.222,
            34.245,
            46.062,
            5.748,
            32.321,
            25.857,
            44.234,
            18.093,
            17.534,
            43.22,
            6.196,
            13.935,
            6.27
           ]
          },
          {
           "marker": {
            "color": "#3357FF",
            "size": [
             76.66666666666667,
             100,
             70,
             96.66666666666667,
             40,
             63.33333333333333,
             20,
             50,
             96.66666666666667,
             26.666666666666668,
             90,
             86.66666666666667,
             40,
             16.666666666666664,
             93.33333333333333
            ],
            "sizemode": "area",
            "sizeref": 0.02
           },
           "mode": "markers",
           "name": "Japan",
           "text": [
            "Japan",
            "Japan",
            "Japan",
            "Japan",
            "Japan",
            "Japan",
            "Japan",
            "Japan",
            "Japan",
            "Japan",
            "Japan",
            "Japan",
            "Japan",
            "Japan",
            "Japan"
           ],
           "type": "scatter",
           "x": [
            6.94531,
            8.304,
            3.96858,
            1.61356,
            5.04984,
            1.31119,
            1.9485,
            5.6094,
            13.98931,
            3.9028,
            9.71406,
            10.22346,
            4.02588,
            2.0601,
            5.07724
           ],
           "y": [
            30.197,
            27.68,
            18.898,
            5.564,
            42.082,
            6.901,
            32.475,
            37.396,
            48.239,
            48.785,
            35.978,
            39.321,
            33.549,
            41.202,
            18.133
           ]
          },
          {
           "marker": {
            "color": "#FF33A1",
            "size": [
             63.33333333333333,
             76.66666666666667,
             60,
             46.666666666666664,
             36.666666666666664,
             93.33333333333333,
             100,
             96.66666666666667,
             26.666666666666668,
             96.66666666666667,
             36.666666666666664,
             23.333333333333332,
             100
            ],
            "sizemode": "area",
            "sizeref": 0.02
           },
           "mode": "markers",
           "name": "Europe",
           "text": [
            "Europe",
            "Europe",
            "Europe",
            "Europe",
            "Europe",
            "Europe",
            "Europe",
            "Europe",
            "Europe",
            "Europe",
            "Europe",
            "Europe",
            "Europe"
           ],
           "type": "scatter",
           "x": [
            9.41735,
            6.22357,
            8.48862,
            4.19132,
            3.60327,
            5.72544,
            9.6036,
            9.42152,
            1.1016,
            14.26481,
            5.1557,
            3.13537,
            8.0391
           ],
           "y": [
            49.565,
            27.059,
            47.159,
            29.938,
            32.757,
            20.448,
            32.012,
            32.488,
            13.77,
            49.189,
            46.87,
            44.791,
            26.797
           ]
          },
          {
           "marker": {
            "color": "#A133FF",
            "size": [
             16.666666666666664,
             53.333333333333336,
             93.33333333333333,
             20,
             93.33333333333333,
             76.66666666666667,
             76.66666666666667,
             66.66666666666666,
             16.666666666666664
            ],
            "sizemode": "area",
            "sizeref": 0.02
           },
           "mode": "markers",
           "name": "South Korea",
           "text": [
            "South Korea",
            "South Korea",
            "South Korea",
            "South Korea",
            "South Korea",
            "South Korea",
            "South Korea",
            "South Korea",
            "South Korea"
           ],
           "type": "scatter",
           "x": [
            0.76625,
            7.9104,
            1.48428,
            2.31162,
            13.87176,
            8.80325,
            5.75897,
            5.3068,
            1.0293
           ],
           "y": [
            15.325,
            49.44,
            5.301,
            38.527,
            49.542,
            38.275,
            25.039,
            26.534,
            20.586
           ]
          },
          {
           "marker": {
            "color": "#33FFF6",
            "size": [
             66.66666666666666,
             46.666666666666664,
             83.33333333333334,
             20,
             90,
             100,
             33.33333333333333,
             70,
             90,
             30,
             96.66666666666667,
             16.666666666666664
            ],
            "sizemode": "area",
            "sizeref": 0.02
           },
           "mode": "markers",
           "name": "America",
           "text": [
            "America",
            "America",
            "America",
            "America",
            "America",
            "America",
            "America",
            "America",
            "America",
            "America",
            "America",
            "America"
           ],
           "type": "scatter",
           "x": [
            8.3488,
            6.43454,
            11.39225,
            1.42812,
            6.55857,
            6.5469,
            4.8156,
            3.14958,
            7.6545,
            0.76761,
            11.80126,
            1.4369
           ],
           "y": [
            41.744,
            45.961,
            45.569,
            23.802,
            24.291,
            21.823,
            48.156,
            14.998,
            28.35,
            8.529,
            40.694,
            28.738
           ]
          },
          {
           "marker": {
            "color": "#FF8C33",
            "size": [
             70,
             50,
             56.666666666666664,
             100,
             76.66666666666667,
             70,
             66.66666666666666,
             70,
             63.33333333333333
            ],
            "sizemode": "area",
            "sizeref": 0.02
           },
           "mode": "markers",
           "name": "Southeast Asia",
           "text": [
            "Southeast Asia",
            "Southeast Asia",
            "Southeast Asia",
            "Southeast Asia",
            "Southeast Asia",
            "Southeast Asia",
            "Southeast Asia",
            "Southeast Asia",
            "Southeast Asia"
           ],
           "type": "scatter",
           "x": [
            10.1934,
            0.93855,
            7.98847,
            7.6401,
            1.46142,
            8.80467,
            7.107,
            9.22026,
            6.59908
           ],
           "y": [
            48.54,
            6.257,
            46.991,
            25.467,
            6.354,
            41.927,
            35.535,
            43.906,
            34.732
           ]
          }
         ],
         "name": "December"
        }
       ],
       "layout": {
        "height": 600,
        "hovermode": "closest",
        "sliders": [
         {
          "active": 0,
          "currentvalue": {
           "font": {
            "size": 20
           },
           "prefix": "Month: ",
           "visible": true,
           "xanchor": "right"
          },
          "len": 0.9,
          "pad": {
           "b": 10,
           "t": 50
          },
          "steps": [
           {
            "args": [
             [
              "January"
             ],
             {
              "frame": {
               "duration": 300,
               "redraw": false
              },
              "mode": "immediate",
              "transition": {
               "duration": 300
              }
             }
            ],
            "label": "January",
            "method": "animate"
           },
           {
            "args": [
             [
              "February"
             ],
             {
              "frame": {
               "duration": 300,
               "redraw": false
              },
              "mode": "immediate",
              "transition": {
               "duration": 300
              }
             }
            ],
            "label": "February",
            "method": "animate"
           },
           {
            "args": [
             [
              "March"
             ],
             {
              "frame": {
               "duration": 300,
               "redraw": false
              },
              "mode": "immediate",
              "transition": {
               "duration": 300
              }
             }
            ],
            "label": "March",
            "method": "animate"
           },
           {
            "args": [
             [
              "April"
             ],
             {
              "frame": {
               "duration": 300,
               "redraw": false
              },
              "mode": "immediate",
              "transition": {
               "duration": 300
              }
             }
            ],
            "label": "April",
            "method": "animate"
           },
           {
            "args": [
             [
              "May"
             ],
             {
              "frame": {
               "duration": 300,
               "redraw": false
              },
              "mode": "immediate",
              "transition": {
               "duration": 300
              }
             }
            ],
            "label": "May",
            "method": "animate"
           },
           {
            "args": [
             [
              "June"
             ],
             {
              "frame": {
               "duration": 300,
               "redraw": false
              },
              "mode": "immediate",
              "transition": {
               "duration": 300
              }
             }
            ],
            "label": "June",
            "method": "animate"
           },
           {
            "args": [
             [
              "July"
             ],
             {
              "frame": {
               "duration": 300,
               "redraw": false
              },
              "mode": "immediate",
              "transition": {
               "duration": 300
              }
             }
            ],
            "label": "July",
            "method": "animate"
           },
           {
            "args": [
             [
              "August"
             ],
             {
              "frame": {
               "duration": 300,
               "redraw": false
              },
              "mode": "immediate",
              "transition": {
               "duration": 300
              }
             }
            ],
            "label": "August",
            "method": "animate"
           },
           {
            "args": [
             [
              "September"
             ],
             {
              "frame": {
               "duration": 300,
               "redraw": false
              },
              "mode": "immediate",
              "transition": {
               "duration": 300
              }
             }
            ],
            "label": "September",
            "method": "animate"
           },
           {
            "args": [
             [
              "October"
             ],
             {
              "frame": {
               "duration": 300,
               "redraw": false
              },
              "mode": "immediate",
              "transition": {
               "duration": 300
              }
             }
            ],
            "label": "October",
            "method": "animate"
           },
           {
            "args": [
             [
              "November"
             ],
             {
              "frame": {
               "duration": 300,
               "redraw": false
              },
              "mode": "immediate",
              "transition": {
               "duration": 300
              }
             }
            ],
            "label": "November",
            "method": "animate"
           },
           {
            "args": [
             [
              "December"
             ],
             {
              "frame": {
               "duration": 300,
               "redraw": false
              },
              "mode": "immediate",
              "transition": {
               "duration": 300
              }
             }
            ],
            "label": "December",
            "method": "animate"
           }
          ],
          "transition": {
           "duration": 300,
           "easing": "cubic-in-out"
          },
          "x": 0.1,
          "xanchor": "left",
          "y": 0,
          "yanchor": "top"
         }
        ],
        "template": {
         "data": {
          "candlestick": [
           {
            "decreasing": {
             "line": {
              "color": "#000033"
             }
            },
            "increasing": {
             "line": {
              "color": "#000032"
             }
            },
            "type": "candlestick"
           }
          ],
          "contour": [
           {
            "colorscale": [
             [
              0,
              "#000011"
             ],
             [
              0.1111111111111111,
              "#000012"
             ],
             [
              0.2222222222222222,
              "#000013"
             ],
             [
              0.3333333333333333,
              "#000014"
             ],
             [
              0.4444444444444444,
              "#000015"
             ],
             [
              0.5555555555555556,
              "#000016"
             ],
             [
              0.6666666666666666,
              "#000017"
             ],
             [
              0.7777777777777778,
              "#000018"
             ],
             [
              0.8888888888888888,
              "#000019"
             ],
             [
              1,
              "#000020"
             ]
            ],
            "type": "contour"
           }
          ],
          "contourcarpet": [
           {
            "colorscale": [
             [
              0,
              "#000011"
             ],
             [
              0.1111111111111111,
              "#000012"
             ],
             [
              0.2222222222222222,
              "#000013"
             ],
             [
              0.3333333333333333,
              "#000014"
             ],
             [
              0.4444444444444444,
              "#000015"
             ],
             [
              0.5555555555555556,
              "#000016"
             ],
             [
              0.6666666666666666,
              "#000017"
             ],
             [
              0.7777777777777778,
              "#000018"
             ],
             [
              0.8888888888888888,
              "#000019"
             ],
             [
              1,
              "#000020"
             ]
            ],
            "type": "contourcarpet"
           }
          ],
          "heatmap": [
           {
            "colorscale": [
             [
              0,
              "#000011"
             ],
             [
              0.1111111111111111,
              "#000012"
             ],
             [
              0.2222222222222222,
              "#000013"
             ],
             [
              0.3333333333333333,
              "#000014"
             ],
             [
              0.4444444444444444,
              "#000015"
             ],
             [
              0.5555555555555556,
              "#000016"
             ],
             [
              0.6666666666666666,
              "#000017"
             ],
             [
              0.7777777777777778,
              "#000018"
             ],
             [
              0.8888888888888888,
              "#000019"
             ],
             [
              1,
              "#000020"
             ]
            ],
            "type": "heatmap"
           }
          ],
          "histogram2d": [
           {
            "colorscale": [
             [
              0,
              "#000011"
             ],
             [
              0.1111111111111111,
              "#000012"
             ],
             [
              0.2222222222222222,
              "#000013"
             ],
             [
              0.3333333333333333,
              "#000014"
             ],
             [
              0.4444444444444444,
              "#000015"
             ],
             [
              0.5555555555555556,
              "#000016"
             ],
             [
              0.6666666666666666,
              "#000017"
             ],
             [
              0.7777777777777778,
              "#000018"
             ],
             [
              0.8888888888888888,
              "#000019"
             ],
             [
              1,
              "#000020"
             ]
            ],
            "type": "histogram2d"
           }
          ],
          "icicle": [
           {
            "textfont": {
             "color": "white"
            },
            "type": "icicle"
           }
          ],
          "sankey": [
           {
            "textfont": {
             "color": "#000036"
            },
            "type": "sankey"
           }
          ],
          "scatter": [
           {
            "marker": {
             "line": {
              "width": 0
             }
            },
            "type": "scatter"
           }
          ],
          "table": [
           {
            "cells": {
             "fill": {
              "color": "#000038"
             },
             "font": {
              "color": "#000037"
             },
             "line": {
              "color": "#000039"
             }
            },
            "header": {
             "fill": {
              "color": "#000040"
             },
             "font": {
              "color": "#000036"
             },
             "line": {
              "color": "#000039"
             }
            },
            "type": "table"
           }
          ],
          "waterfall": [
           {
            "connector": {
             "line": {
              "color": "#000036",
              "width": 2
             }
            },
            "decreasing": {
             "marker": {
              "color": "#000033"
             }
            },
            "increasing": {
             "marker": {
              "color": "#000032"
             }
            },
            "totals": {
             "marker": {
              "color": "#000034"
             }
            },
            "type": "waterfall"
           }
          ]
         },
         "layout": {
          "coloraxis": {
           "colorscale": [
            [
             0,
             "#000011"
            ],
            [
             0.1111111111111111,
             "#000012"
            ],
            [
             0.2222222222222222,
             "#000013"
            ],
            [
             0.3333333333333333,
             "#000014"
            ],
            [
             0.4444444444444444,
             "#000015"
            ],
            [
             0.5555555555555556,
             "#000016"
            ],
            [
             0.6666666666666666,
             "#000017"
            ],
            [
             0.7777777777777778,
             "#000018"
            ],
            [
             0.8888888888888888,
             "#000019"
            ],
            [
             1,
             "#000020"
            ]
           ]
          },
          "colorscale": {
           "diverging": [
            [
             0,
             "#000021"
            ],
            [
             0.1,
             "#000022"
            ],
            [
             0.2,
             "#000023"
            ],
            [
             0.3,
             "#000024"
            ],
            [
             0.4,
             "#000025"
            ],
            [
             0.5,
             "#000026"
            ],
            [
             0.6,
             "#000027"
            ],
            [
             0.7,
             "#000028"
            ],
            [
             0.8,
             "#000029"
            ],
            [
             0.9,
             "#000030"
            ],
            [
             1,
             "#000031"
            ]
           ],
           "sequential": [
            [
             0,
             "#000011"
            ],
            [
             0.1111111111111111,
             "#000012"
            ],
            [
             0.2222222222222222,
             "#000013"
            ],
            [
             0.3333333333333333,
             "#000014"
            ],
            [
             0.4444444444444444,
             "#000015"
            ],
            [
             0.5555555555555556,
             "#000016"
            ],
            [
             0.6666666666666666,
             "#000017"
            ],
            [
             0.7777777777777778,
             "#000018"
            ],
            [
             0.8888888888888888,
             "#000019"
            ],
            [
             1,
             "#000020"
            ]
           ],
           "sequentialminus": [
            [
             0,
             "#000011"
            ],
            [
             0.1111111111111111,
             "#000012"
            ],
            [
             0.2222222222222222,
             "#000013"
            ],
            [
             0.3333333333333333,
             "#000014"
            ],
            [
             0.4444444444444444,
             "#000015"
            ],
            [
             0.5555555555555556,
             "#000016"
            ],
            [
             0.6666666666666666,
             "#000017"
            ],
            [
             0.7777777777777778,
             "#000018"
            ],
            [
             0.8888888888888888,
             "#000019"
            ],
            [
             1,
             "#000020"
            ]
           ]
          },
          "colorway": [
           "#000001",
           "#000002",
           "#000003",
           "#000004",
           "#000005",
           "#000006",
           "#000007",
           "#000008",
           "#000009",
           "#000010"
          ]
         }
        },
        "updatemenus": [
         {
          "buttons": [
           {
            "args": [
             null,
             {
              "frame": {
               "duration": 500,
               "redraw": false
              },
              "fromcurrent": true,
              "transition": {
               "duration": 300,
               "easing": "quadratic-in-out"
              }
             }
            ],
            "label": "Play",
            "method": "animate"
           },
           {
            "args": [
             [
              null
             ],
             {
              "frame": {
               "duration": 0,
               "redraw": false
              },
              "mode": "immediate",
              "transition": {
               "duration": 0
              }
             }
            ],
            "label": "Pause",
            "method": "animate"
           }
          ],
          "direction": "left",
          "pad": {
           "r": 10,
           "t": 87
          },
          "showactive": false,
          "type": "buttons",
          "x": 0.1,
          "xanchor": "right",
          "y": 0,
          "yanchor": "top"
         }
        ],
        "width": 1400,
        "xaxis": {
         "tickmode": "array",
         "ticktext": [
          "0M",
          "2M",
          "4M",
          "6M",
          "8M",
          "10M",
          "12M",
          "14M"
         ],
         "tickvals": [
          0,
          2,
          4,
          6,
          8,
          10,
          12,
          14
         ],
         "title": {
          "text": "Revenue (Million USD)"
         },
         "type": "linear"
        },
        "yaxis": {
         "title": {
          "text": "Units Sold (K)"
         }
        }
       }
      }
     },
     "metadata": {},
     "output_type": "display_data"
    }
   ],
   "source": [
    "\n",
    "\n",
    "# set the month order\n",
    "sort_month = [\"January\", \"February\", \"March\", \"April\", \"May\", \"June\", \n",
    "              \"July\", \"August\", \"September\", \"October\", \"November\", \"December\"]\n",
    "df_nike[\"Month\"] = pd.Categorical(df_nike[\"Month\"], categories=sort_month, ordered=True)\n",
    "\n",
    "df_nike = df_nike[['Month', 'Country', 'Units_Sold', 'Revenue_USD', 'Retail_Price']]\n",
    "# convert Revenue_USD and Units_Sold to more human_readable format\n",
    "df_nike[\"Revenue_USD_temp\"] = df_nike[\"Revenue_USD\"] / 1_000_000  # Convert to Millions (M)\n",
    "df_nike[\"Units_Sold_temp\"] = df_nike[\"Units_Sold\"] / 1_000  # Convert to Thousands (K)\n",
    "\n",
    "# normalize bubble size\n",
    "df_nike[\"Bubble_Size\"] = df_nike[\"Retail_Price\"] / df_nike[\"Retail_Price\"].max() * 100\n",
    "\n",
    "# ensure months are ordered correctly\n",
    "df_nike[\"Month\"] = pd.Categorical(df_nike[\"Month\"], categories=sort_month, ordered=True)\n",
    "\n",
    "# extract unique months and countries\n",
    "months = sort_month\n",
    "countries = df_nike[\"Country\"].unique()\n",
    "\n",
    "# define color mapping for countries\n",
    "color_discrete_map = {\n",
    "    'India': \"#FF5733\",  \n",
    "    'Greater China': \"#33FF57\",  \n",
    "    'Japan': \"#3357FF\",  \n",
    "    'Europe': \"#FF33A1\",  \n",
    "    'South Korea': \"#A133FF\",  \n",
    "    'America': \"#33FFF6\", \n",
    "    'Southeast Asia': \"#FF8C33\"\n",
    "}\n",
    "\n",
    "# Initialize figure dictionary\n",
    "fig_dict = {\n",
    "    \"data\": [],\n",
    "    \"layout\": {},\n",
    "    \"frames\": []\n",
    "}\n",
    "\n",
    "# layout settings\n",
    "fig_dict[\"layout\"][\"width\"] = 1400\n",
    "fig_dict[\"layout\"][\"height\"] = 600 \n",
    "fig_dict[\"layout\"][\"xaxis\"] = {\n",
    "    \"title\": \"Revenue (Million USD)\",\n",
    "    \"type\": \"linear\",\n",
    "    \"tickmode\": \"array\",\n",
    "    \"tickvals\": list(range(0, 16, 2)),  # show label as 0M 2M 4M ... \n",
    "    \"ticktext\": [f\"{i}M\" for i in range(0, 16, 2)]\n",
    "}\n",
    "fig_dict[\"layout\"][\"yaxis\"] = {\"title\": \"Units Sold (K)\"}\n",
    "fig_dict[\"layout\"][\"hovermode\"] = \"closest\"\n",
    "fig_dict[\"layout\"][\"updatemenus\"] = [\n",
    "    {\n",
    "        \"buttons\": [\n",
    "            {\n",
    "                \"args\": [None, {\"frame\": {\"duration\": 500, \"redraw\": False},\n",
    "                                \"fromcurrent\": True, \"transition\": {\"duration\": 300,\n",
    "                                                                    \"easing\": \"quadratic-in-out\"}}],\n",
    "                \"label\": \"Play\",\n",
    "                \"method\": \"animate\"\n",
    "            },\n",
    "            {\n",
    "                \"args\": [[None], {\"frame\": {\"duration\": 0, \"redraw\": False},\n",
    "                                  \"mode\": \"immediate\",\n",
    "                                  \"transition\": {\"duration\": 0}}],\n",
    "                \"label\": \"Pause\",\n",
    "                \"method\": \"animate\"\n",
    "            }\n",
    "        ],\n",
    "        \"direction\": \"left\",\n",
    "        \"pad\": {\"r\": 10, \"t\": 87},\n",
    "        \"showactive\": False,\n",
    "        \"type\": \"buttons\",\n",
    "        \"x\": 0.1,\n",
    "        \"xanchor\": \"right\",\n",
    "        \"y\": 0,\n",
    "        \"yanchor\": \"top\"\n",
    "    }\n",
    "]\n",
    "\n",
    "# timeline slider \n",
    "sliders_dict = {\n",
    "    \"active\": 0,\n",
    "    \"yanchor\": \"top\",\n",
    "    \"xanchor\": \"left\",\n",
    "    \"currentvalue\": {\n",
    "        \"font\": {\"size\": 20},\n",
    "        \"prefix\": \"Month: \",\n",
    "        \"visible\": True,\n",
    "        \"xanchor\": \"right\"\n",
    "    },\n",
    "    \"transition\": {\"duration\": 300, \"easing\": \"cubic-in-out\"},\n",
    "    \"pad\": {\"b\": 10, \"t\": 50},\n",
    "    \"len\": 0.9,\n",
    "    \"x\": 0.1,\n",
    "    \"y\": 0,\n",
    "    \"steps\": []\n",
    "}\n",
    "\n",
    "# 🔹 Create Initial Data (First Month)\n",
    "first_month = months[0]\n",
    "for country in countries:\n",
    "    dataset_by_month = df_nike[df_nike[\"Month\"] == first_month]\n",
    "    dataset_by_country = dataset_by_month[\n",
    "        dataset_by_month[\"Country\"] == country]\n",
    "\n",
    "    data_dict = {\n",
    "        \"x\": list(dataset_by_country[\"Revenue_USD_temp\"]),\n",
    "        \"y\": list(dataset_by_country[\"Units_Sold_temp\"]),\n",
    "        \"mode\": \"markers\",\n",
    "        \"text\": list(dataset_by_country[\"Country\"]),\n",
    "        \"marker\": {\n",
    "            \"sizemode\": \"area\",\n",
    "            \"sizeref\": 2.0 * max(df_nike[\"Bubble_Size\"]) / (100**2),\n",
    "            \"size\": list(dataset_by_country[\"Bubble_Size\"]),\n",
    "            \"color\": color_discrete_map.get(country, \"#000000\")\n",
    "        },\n",
    "        \"name\": country\n",
    "    }\n",
    "    fig_dict[\"data\"].append(data_dict)\n",
    "\n",
    "# for frame\n",
    "for month in months:\n",
    "    frame = {\"data\": [], \"name\": str(month)}\n",
    "    for country in countries:\n",
    "        dataset_by_month = df_nike[df_nike[\"Month\"] == month]\n",
    "        dataset_by_country = dataset_by_month[\n",
    "            dataset_by_month[\"Country\"] == country]\n",
    "\n",
    "        data_dict = {\n",
    "            \"x\": list(dataset_by_country[\"Revenue_USD_temp\"]),\n",
    "            \"y\": list(dataset_by_country[\"Units_Sold_temp\"]),\n",
    "            \"mode\": \"markers\",\n",
    "            \"text\": list(dataset_by_country[\"Country\"]),\n",
    "            \"marker\": {\n",
    "                \"sizemode\": \"area\",\n",
    "                \"sizeref\": 2.0 * max(df_nike[\"Bubble_Size\"]) / (100**2),\n",
    "                \"size\": list(dataset_by_country[\"Bubble_Size\"]),\n",
    "                \"color\": color_discrete_map.get(country, \"#000000\")\n",
    "            },\n",
    "            \"name\": country\n",
    "        }\n",
    "        frame[\"data\"].append(data_dict)\n",
    "\n",
    "\n",
    "    fig_dict[\"frames\"].append(frame)\n",
    "    slider_step = {\"args\": [\n",
    "        [month],\n",
    "        {\"frame\": {\"duration\": 300, \"redraw\": False},\n",
    "         \"mode\": \"immediate\",\n",
    "         \"transition\": {\"duration\": 300}}\n",
    "    ],\n",
    "        \"label\": str(month),\n",
    "        \"method\": \"animate\"}\n",
    "    sliders_dict[\"steps\"].append(slider_step)\n",
    "\n",
    "fig_dict[\"layout\"][\"sliders\"] = [sliders_dict]\n",
    "\n",
    "# create the fig\n",
    "fig = go.Figure(fig_dict)\n",
    "fig.show()\n"
   ]
  },
  {
   "cell_type": "code",
   "execution_count": null,
   "metadata": {},
   "outputs": [
    {
     "data": {
      "application/vnd.plotly.v1+json": {
       "config": {
        "plotlyServerURL": "https://plot.ly"
       },
       "data": [
        {
         "hovertemplate": "Country=India<br>Revenue_USD_formatted=%{x}<br>Units_Sold=%{y}<extra></extra>",
         "legendgroup": "India",
         "marker": {
          "color": "#000001",
          "symbol": "circle"
         },
         "mode": "markers",
         "name": "India",
         "orientation": "v",
         "showlegend": true,
         "type": "scatter",
         "x": [
          "14507K",
          "2067K",
          "1756K",
          "7032K",
          "10723K",
          "424K",
          "1491K",
          "2636K",
          "5849K",
          "6846K",
          "1663K",
          "7211K",
          "3790K",
          "1814K",
          "11728K",
          "12604K",
          "2158K",
          "2429K",
          "2498K",
          "1402K",
          "12150K",
          "3694K",
          "2859K",
          "2845K",
          "4080K",
          "5697K",
          "4701K",
          "3718K",
          "13504K",
          "2045K",
          "5094K",
          "8284K",
          "2479K",
          "1437K",
          "4964K",
          "2111K",
          "2948K",
          "6585K",
          "6003K",
          "2590K",
          "404K",
          "10613K",
          "2241K",
          "1993K",
          "3552K",
          "2538K",
          "1987K",
          "3897K",
          "1946K",
          "12542K",
          "6195K",
          "4403K",
          "9679K",
          "4971K",
          "7628K",
          "1253K",
          "9450K",
          "5803K",
          "1878K",
          "2584K",
          "642K",
          "5777K",
          "7393K",
          "2528K",
          "829K",
          "11568K",
          "2219K",
          "9370K",
          "5371K",
          "7409K",
          "6968K",
          "9341K",
          "5642K",
          "1530K",
          "3699K",
          "2988K",
          "10372K",
          "5080K",
          "4555K",
          "7584K",
          "7258K",
          "4922K",
          "4738K",
          "9425K",
          "3018K",
          "12851K",
          "6459K",
          "972K",
          "8025K",
          "1136K",
          "3256K",
          "4579K",
          "1673K",
          "1029K",
          "3300K",
          "8391K",
          "2234K",
          "1592K",
          "6694K",
          "7914K",
          "12854K",
          "4421K",
          "4545K",
          "6544K",
          "3205K",
          "6827K",
          "4333K",
          "3863K",
          "5665K",
          "4403K",
          "2085K",
          "8247K",
          "3844K",
          "6382K",
          "6911K",
          "6951K",
          "11836K",
          "9409K",
          "5209K",
          "3720K",
          "2344K",
          "3553K",
          "5082K",
          "1715K",
          "1410K",
          "8325K",
          "7792K",
          "2970K",
          "6749K",
          "5620K",
          "2688K",
          "5438K",
          "6126K",
          "1150K",
          "9328K",
          "2579K",
          "2411K",
          "6495K",
          "10943K",
          "5415K",
          "3829K",
          "3762K",
          "5423K",
          "5337K",
          "987K"
         ],
         "xaxis": "x",
         "y": [
          48356,
          9842,
          25079,
          35160,
          46622,
          8478,
          29827,
          10546,
          48740,
          23608,
          12796,
          30045,
          42110,
          22676,
          40440,
          46682,
          12692,
          16191,
          11893,
          28038,
          41898,
          46169,
          31768,
          13549,
          45334,
          24771,
          23503,
          24788,
          48229,
          8891,
          18192,
          28564,
          20661,
          6248,
          17729,
          11727,
          10527,
          31357,
          30014,
          43169,
          6731,
          39308,
          22409,
          9058,
          29603,
          28203,
          22074,
          14433,
          14969,
          46453,
          44252,
          40025,
          33377,
          27618,
          40146,
          12534,
          35001,
          20724,
          20868,
          25837,
          6420,
          20632,
          28434,
          19448,
          11839,
          39891,
          18488,
          49315,
          35804,
          29636,
          49772,
          38922,
          21700,
          30607,
          41095,
          14939,
          43215,
          31752,
          25307,
          27087,
          30241,
          22371,
          20599,
          42842,
          37722,
          45895,
          32295,
          6482,
          29723,
          9468,
          25048,
          35223,
          7966,
          7918,
          47144,
          36483,
          9310,
          19905,
          24791,
          41655,
          45908,
          18421,
          28409,
          31163,
          18855,
          48761,
          33330,
          29713,
          33324,
          40023,
          13901,
          28438,
          42709,
          31908,
          26582,
          46338,
          47343,
          44806,
          32558,
          46496,
          33490,
          16921,
          31764,
          24495,
          14102,
          32020,
          48701,
          33002,
          42179,
          25544,
          44803,
          45317,
          20419,
          11499,
          34547,
          13576,
          12056,
          34185,
          39083,
          27074,
          19144,
          15046,
          19369,
          29651,
          9870
         ],
         "yaxis": "y"
        },
        {
         "hovertemplate": "Country=Greater China<br>Revenue_USD_formatted=%{x}<br>Units_Sold=%{y}<extra></extra>",
         "legendgroup": "Greater China",
         "marker": {
          "color": "#000002",
          "symbol": "circle"
         },
         "mode": "markers",
         "name": "Greater China",
         "orientation": "v",
         "showlegend": true,
         "type": "scatter",
         "x": [
          "8695K",
          "5371K",
          "6422K",
          "2473K",
          "5331K",
          "6716K",
          "8815K",
          "4539K",
          "2390K",
          "12187K",
          "4662K",
          "3792K",
          "6441K",
          "7403K",
          "9821K",
          "2839K",
          "8528K",
          "8289K",
          "1852K",
          "10009K",
          "5890K",
          "628K",
          "6782K",
          "2118K",
          "9867K",
          "3539K",
          "7059K",
          "1489K",
          "4433K",
          "891K",
          "13482K",
          "6779K",
          "2033K",
          "3654K",
          "2549K",
          "6168K",
          "3654K",
          "9931K",
          "3634K",
          "2006K",
          "1776K",
          "1564K",
          "1206K",
          "5969K",
          "2874K",
          "5710K",
          "2658K",
          "3967K",
          "13998K",
          "9212K",
          "12424K",
          "628K",
          "9499K",
          "316K",
          "4157K",
          "7752K",
          "3815K",
          "1969K",
          "6843K",
          "585K",
          "677K",
          "287K",
          "1994K",
          "4277K",
          "1321K",
          "1748K",
          "2236K",
          "3248K",
          "7392K",
          "1616K",
          "2435K",
          "5110K",
          "1315K",
          "4828K",
          "10190K",
          "2790K",
          "2527K",
          "7526K",
          "9058K",
          "10734K",
          "1858K",
          "12748K",
          "4429K",
          "3396K",
          "4833K",
          "1444K",
          "4214K",
          "7605K",
          "1239K",
          "6162K",
          "4164K",
          "10924K",
          "2949K",
          "4494K",
          "13246K",
          "2808K",
          "2056K",
          "6230K",
          "4654K",
          "3027K",
          "358K",
          "1197K",
          "9731K",
          "3024K",
          "4342K",
          "7366K",
          "6134K",
          "404K",
          "2630K",
          "2568K",
          "6926K",
          "6139K",
          "668K",
          "4419K",
          "10833K",
          "8453K",
          "1865K",
          "996K",
          "9559K",
          "5949K",
          "3722K",
          "8543K",
          "13019K",
          "11404K",
          "2803K",
          "4850K",
          "2846K",
          "5931K",
          "7299K",
          "3634K",
          "8034K",
          "5670K",
          "8808K",
          "7286K",
          "6608K",
          "2307K",
          "2866K",
          "1173K",
          "3748K",
          "1923K",
          "6660K",
          "8787K",
          "2033K",
          "2219K",
          "4098K",
          "7086K",
          "6500K",
          "11669K",
          "2185K",
          "867K",
          "7468K",
          "6370K",
          "975K",
          "10508K",
          "3528K",
          "1788K",
          "3466K",
          "2508K",
          "2230K",
          "3364K",
          "314K"
         ],
         "xaxis": "x",
         "y": [
          41404,
          33569,
          42814,
          16489,
          41006,
          33581,
          48973,
          30262,
          47805,
          48747,
          38854,
          19958,
          42942,
          27420,
          46766,
          17746,
          37079,
          33156,
          13232,
          37071,
          42072,
          5713,
          24222,
          11147,
          42901,
          44238,
          37151,
          18610,
          26079,
          8911,
          46488,
          26073,
          10167,
          33222,
          16995,
          21269,
          20301,
          34245,
          30282,
          28660,
          6123,
          31290,
          24125,
          42633,
          41062,
          47580,
          37975,
          39670,
          49992,
          46062,
          49696,
          8970,
          43178,
          6327,
          41568,
          40801,
          42388,
          9846,
          48881,
          7317,
          6153,
          5748,
          33233,
          23761,
          14683,
          10283,
          22363,
          36093,
          38906,
          32321,
          40582,
          19653,
          6574,
          20117,
          33968,
          25365,
          25267,
          47036,
          47675,
          46670,
          37169,
          45530,
          24607,
          42446,
          21015,
          14436,
          32418,
          31688,
          20657,
          41079,
          18106,
          45518,
          9831,
          26433,
          44154,
          40110,
          14684,
          36648,
          25857,
          33638,
          7166,
          5985,
          44234,
          13150,
          18093,
          49105,
          22720,
          8085,
          17534,
          16048,
          28857,
          22736,
          13352,
          33989,
          41665,
          31306,
          20719,
          12456,
          36767,
          37179,
          19589,
          47459,
          46497,
          38015,
          15574,
          48498,
          35570,
          29655,
          34759,
          15141,
          47260,
          31498,
          38295,
          29145,
          30036,
          38457,
          28663,
          16756,
          13384,
          24043,
          28958,
          48818,
          10701,
          15851,
          40981,
          23621,
          43332,
          43220,
          7535,
          6196,
          32471,
          45500,
          8861,
          45686,
          20751,
          6167,
          31506,
          13935,
          8922,
          48062,
          6270
         ],
         "yaxis": "y"
        },
        {
         "hovertemplate": "Country=Japan<br>Revenue_USD_formatted=%{x}<br>Units_Sold=%{y}<extra></extra>",
         "legendgroup": "Japan",
         "marker": {
          "color": "#000003",
          "symbol": "circle"
         },
         "mode": "markers",
         "name": "Japan",
         "orientation": "v",
         "showlegend": true,
         "type": "scatter",
         "x": [
          "5508K",
          "6945K",
          "2279K",
          "10652K",
          "7003K",
          "2688K",
          "5581K",
          "5476K",
          "4396K",
          "4330K",
          "874K",
          "5839K",
          "4313K",
          "8940K",
          "4723K",
          "5181K",
          "2230K",
          "9507K",
          "8304K",
          "5235K",
          "5313K",
          "1042K",
          "6808K",
          "4117K",
          "9028K",
          "3040K",
          "2831K",
          "5885K",
          "2583K",
          "5339K",
          "4343K",
          "3969K",
          "4002K",
          "7433K",
          "9225K",
          "1883K",
          "1899K",
          "1614K",
          "9876K",
          "9456K",
          "6949K",
          "8587K",
          "9434K",
          "4519K",
          "4160K",
          "8475K",
          "5050K",
          "3509K",
          "1376K",
          "5952K",
          "5610K",
          "7504K",
          "4809K",
          "5317K",
          "1311K",
          "9376K",
          "4500K",
          "4746K",
          "1948K",
          "5946K",
          "1881K",
          "4148K",
          "10932K",
          "8932K",
          "3971K",
          "5889K",
          "4205K",
          "9250K",
          "3475K",
          "6081K",
          "5609K",
          "7254K",
          "9502K",
          "3741K",
          "1768K",
          "6973K",
          "9571K",
          "1926K",
          "775K",
          "4182K",
          "3738K",
          "1611K",
          "9386K",
          "8662K",
          "5242K",
          "8076K",
          "3787K",
          "9051K",
          "2059K",
          "2792K",
          "2028K",
          "2161K",
          "13989K",
          "2744K",
          "3469K",
          "8678K",
          "10703K",
          "10015K",
          "5117K",
          "7513K",
          "3367K",
          "4904K",
          "1659K",
          "3061K",
          "5716K",
          "7371K",
          "4405K",
          "1004K",
          "9173K",
          "4829K",
          "2395K",
          "6929K",
          "3054K",
          "8615K",
          "3107K",
          "11961K",
          "1005K",
          "8685K",
          "5516K",
          "11960K",
          "5880K",
          "2571K",
          "3903K",
          "6769K",
          "2537K",
          "7877K",
          "10306K",
          "9714K",
          "10223K",
          "4026K",
          "5611K",
          "4918K",
          "2561K",
          "11811K",
          "5906K",
          "1664K",
          "7844K",
          "2060K",
          "1849K",
          "2153K",
          "3411K",
          "8928K",
          "2262K",
          "5077K"
         ],
         "xaxis": "x",
         "y": [
          39344,
          30197,
          10853,
          46314,
          31834,
          24432,
          46508,
          21063,
          29308,
          14434,
          6244,
          29193,
          15402,
          34384,
          24860,
          39856,
          24773,
          41336,
          27680,
          30797,
          44272,
          6131,
          37824,
          20585,
          37618,
          14474,
          47176,
          22636,
          25828,
          24267,
          33407,
          18898,
          40020,
          49553,
          41932,
          31387,
          14607,
          5564,
          42937,
          37822,
          26728,
          40890,
          44925,
          30124,
          27736,
          44606,
          42082,
          19496,
          7242,
          45787,
          23375,
          39495,
          32062,
          37977,
          6901,
          46881,
          15518,
          33902,
          32475,
          28314,
          37621,
          16592,
          37697,
          47008,
          20899,
          25606,
          23362,
          46249,
          43439,
          30406,
          37396,
          25907,
          31674,
          13360,
          11050,
          49808,
          36813,
          10699,
          11072,
          38021,
          46727,
          17902,
          32367,
          34648,
          17475,
          42503,
          31557,
          39353,
          11441,
          23265,
          11929,
          18012,
          48239,
          10974,
          12389,
          39447,
          42813,
          43543,
          21319,
          35777,
          19804,
          16912,
          33184,
          14576,
          31758,
          32047,
          23185,
          11159,
          31632,
          17245,
          9210,
          43304,
          12727,
          35894,
          12945,
          44299,
          20109,
          43425,
          30645,
          46000,
          36747,
          18365,
          48785,
          45125,
          42278,
          32822,
          36808,
          35978,
          39321,
          33549,
          24397,
          21383,
          9146,
          43743,
          49214,
          27739,
          31376,
          41202,
          9244,
          23927,
          18952,
          42516,
          15078,
          18133
         ],
         "yaxis": "y"
        },
        {
         "hovertemplate": "Country=Europe<br>Revenue_USD_formatted=%{x}<br>Units_Sold=%{y}<extra></extra>",
         "legendgroup": "Europe",
         "marker": {
          "color": "#000004",
          "symbol": "circle"
         },
         "mode": "markers",
         "name": "Europe",
         "orientation": "v",
         "showlegend": true,
         "type": "scatter",
         "x": [
          "10034K",
          "7969K",
          "10736K",
          "8474K",
          "11627K",
          "3043K",
          "2147K",
          "2217K",
          "1173K",
          "12949K",
          "4284K",
          "3476K",
          "8364K",
          "5520K",
          "2848K",
          "2267K",
          "9417K",
          "4106K",
          "6550K",
          "1411K",
          "1922K",
          "2215K",
          "5684K",
          "1545K",
          "978K",
          "2851K",
          "2001K",
          "1455K",
          "3070K",
          "4670K",
          "1703K",
          "4051K",
          "7875K",
          "1949K",
          "5207K",
          "4887K",
          "11887K",
          "6224K",
          "10520K",
          "4843K",
          "4638K",
          "1988K",
          "1212K",
          "8489K",
          "12338K",
          "2971K",
          "4356K",
          "4191K",
          "2347K",
          "3603K",
          "9481K",
          "708K",
          "1748K",
          "3220K",
          "3017K",
          "5794K",
          "5711K",
          "8301K",
          "8924K",
          "7937K",
          "2188K",
          "7030K",
          "938K",
          "1348K",
          "7697K",
          "1349K",
          "5171K",
          "5725K",
          "8181K",
          "2442K",
          "1410K",
          "9604K",
          "7663K",
          "8506K",
          "9422K",
          "2613K",
          "3880K",
          "2490K",
          "1041K",
          "6566K",
          "5074K",
          "5627K",
          "8123K",
          "5263K",
          "1102K",
          "6132K",
          "5594K",
          "14265K",
          "7864K",
          "3080K",
          "4347K",
          "4550K",
          "1584K",
          "12175K",
          "5156K",
          "1854K",
          "6704K",
          "5385K",
          "2967K",
          "5661K",
          "6061K",
          "3135K",
          "2916K",
          "1032K",
          "9511K",
          "1574K",
          "1169K",
          "867K",
          "1313K",
          "2256K",
          "813K",
          "8595K",
          "1747K",
          "2133K",
          "8039K",
          "5906K",
          "8339K",
          "13152K",
          "4370K",
          "2704K",
          "1766K",
          "2594K",
          "4922K",
          "4358K",
          "700K",
          "1514K",
          "1093K",
          "10382K",
          "3072K",
          "4443K",
          "2116K",
          "1862K",
          "2640K"
         ],
         "xaxis": "x",
         "y": [
          43626,
          44274,
          44734,
          33895,
          41525,
          21735,
          21473,
          13858,
          6899,
          49804,
          47604,
          15114,
          34848,
          42458,
          40691,
          15114,
          49565,
          27370,
          21835,
          12825,
          19216,
          18456,
          35528,
          30892,
          19555,
          31673,
          40029,
          6063,
          16158,
          16104,
          24322,
          15005,
          39375,
          10259,
          43390,
          48873,
          39623,
          27059,
          37570,
          44025,
          17179,
          28407,
          24247,
          47159,
          42546,
          21220,
          18939,
          29938,
          46945,
          32757,
          32693,
          8847,
          19422,
          13998,
          11602,
          23175,
          43928,
          33205,
          37183,
          39686,
          31264,
          23432,
          7218,
          22460,
          38487,
          19271,
          34475,
          20448,
          40905,
          9045,
          14104,
          32012,
          29472,
          29332,
          32488,
          37325,
          18476,
          14646,
          17357,
          26264,
          46131,
          21644,
          42755,
          47844,
          13770,
          40882,
          46617,
          49189,
          27118,
          25668,
          20702,
          15167,
          13199,
          41984,
          46870,
          9759,
          47887,
          48951,
          18543,
          18869,
          30306,
          44791,
          48598,
          11470,
          36582,
          5248,
          11691,
          6668,
          13131,
          22560,
          13551,
          47752,
          29114,
          35554,
          26797,
          21874,
          30887,
          48710,
          48555,
          10815,
          7360,
          43225,
          32814,
          19807,
          7001,
          16821,
          5204,
          47189,
          23633,
          26136,
          8137,
          9312,
          14668
         ],
         "yaxis": "y"
        },
        {
         "hovertemplate": "Country=South Korea<br>Revenue_USD_formatted=%{x}<br>Units_Sold=%{y}<extra></extra>",
         "legendgroup": "South Korea",
         "marker": {
          "color": "#000005",
          "symbol": "circle"
         },
         "mode": "markers",
         "name": "South Korea",
         "orientation": "v",
         "showlegend": true,
         "type": "scatter",
         "x": [
          "12570K",
          "9027K",
          "3935K",
          "4076K",
          "1233K",
          "4421K",
          "3792K",
          "6355K",
          "7039K",
          "3495K",
          "7414K",
          "2068K",
          "3365K",
          "1009K",
          "6782K",
          "2761K",
          "7256K",
          "2924K",
          "1638K",
          "8588K",
          "2666K",
          "2381K",
          "3966K",
          "8497K",
          "848K",
          "2269K",
          "960K",
          "11506K",
          "8191K",
          "1362K",
          "1339K",
          "3417K",
          "3567K",
          "766K",
          "2288K",
          "2281K",
          "7538K",
          "7002K",
          "3239K",
          "1514K",
          "9841K",
          "9008K",
          "1580K",
          "1811K",
          "2730K",
          "2899K",
          "8689K",
          "3868K",
          "3444K",
          "3318K",
          "5953K",
          "4277K",
          "1390K",
          "9340K",
          "5226K",
          "2350K",
          "7910K",
          "4682K",
          "12575K",
          "10916K",
          "2485K",
          "1206K",
          "3466K",
          "3655K",
          "2871K",
          "7349K",
          "1467K",
          "8230K",
          "5859K",
          "1814K",
          "11046K",
          "1087K",
          "5550K",
          "4171K",
          "6892K",
          "12256K",
          "1484K",
          "465K",
          "2909K",
          "2180K",
          "5750K",
          "3112K",
          "3104K",
          "826K",
          "1631K",
          "2312K",
          "7817K",
          "4343K",
          "14322K",
          "13872K",
          "1659K",
          "3938K",
          "8043K",
          "1549K",
          "773K",
          "5015K",
          "11402K",
          "8179K",
          "698K",
          "1230K",
          "3276K",
          "11968K",
          "6690K",
          "1486K",
          "800K",
          "3220K",
          "3135K",
          "9804K",
          "11780K",
          "1302K",
          "9731K",
          "8803K",
          "8326K",
          "1300K",
          "3499K",
          "5759K",
          "7350K",
          "10988K",
          "6983K",
          "5881K",
          "3451K",
          "13821K",
          "5393K",
          "5307K",
          "4019K",
          "4841K",
          "869K",
          "592K",
          "4201K",
          "5023K",
          "9959K",
          "2997K",
          "4904K",
          "6070K",
          "3642K",
          "7574K",
          "1545K",
          "5472K",
          "2123K",
          "2943K",
          "1029K",
          "1686K",
          "507K",
          "1934K",
          "2558K",
          "1312K"
         ],
         "xaxis": "x",
         "y": [
          41901,
          42986,
          16396,
          40762,
          10277,
          36845,
          19956,
          28886,
          43996,
          49926,
          35303,
          9847,
          18692,
          5936,
          23385,
          10225,
          45351,
          9747,
          16375,
          30671,
          24233,
          47626,
          39659,
          38622,
          10605,
          11346,
          19197,
          39676,
          29252,
          27232,
          5580,
          26283,
          29724,
          15325,
          11440,
          32581,
          44343,
          23339,
          23137,
          30270,
          42786,
          32171,
          17561,
          9054,
          30338,
          36239,
          36206,
          21488,
          20261,
          36864,
          37209,
          25161,
          15441,
          31132,
          27507,
          26112,
          49440,
          27540,
          43362,
          37643,
          24849,
          7095,
          49510,
          13052,
          11484,
          45929,
          11286,
          48413,
          39059,
          36286,
          38088,
          15527,
          29212,
          24535,
          49226,
          45392,
          5301,
          9299,
          41555,
          19819,
          22115,
          25935,
          22174,
          7510,
          8582,
          38527,
          45981,
          39481,
          47739,
          49542,
          9218,
          35801,
          38300,
          25822,
          9668,
          20895,
          45608,
          27263,
          6983,
          13667,
          25199,
          49867,
          39351,
          18569,
          7276,
          29270,
          20902,
          37706,
          40620,
          10849,
          34752,
          38275,
          48978,
          26006,
          38877,
          25039,
          26249,
          37890,
          46554,
          45238,
          16435,
          46070,
          28383,
          26534,
          28707,
          16136,
          17385,
          5918,
          19094,
          41855,
          45270,
          19979,
          49035,
          40467,
          26012,
          32930,
          30908,
          42093,
          8166,
          42040,
          20586,
          21072,
          7242,
          27633,
          15989,
          26242
         ],
         "yaxis": "y"
        },
        {
         "hovertemplate": "Country=America<br>Revenue_USD_formatted=%{x}<br>Units_Sold=%{y}<extra></extra>",
         "legendgroup": "America",
         "marker": {
          "color": "#000006",
          "symbol": "circle"
         },
         "mode": "markers",
         "name": "America",
         "orientation": "v",
         "showlegend": true,
         "type": "scatter",
         "x": [
          "4522K",
          "8745K",
          "7987K",
          "4298K",
          "4834K",
          "8349K",
          "10379K",
          "8730K",
          "6863K",
          "7331K",
          "7204K",
          "2814K",
          "6435K",
          "3322K",
          "9236K",
          "8329K",
          "5658K",
          "11392K",
          "3997K",
          "3168K",
          "1437K",
          "9670K",
          "833K",
          "2367K",
          "3448K",
          "4345K",
          "8862K",
          "13221K",
          "5369K",
          "5097K",
          "904K",
          "14865K",
          "3160K",
          "663K",
          "3719K",
          "1428K",
          "2219K",
          "2407K",
          "5000K",
          "4103K",
          "710K",
          "12038K",
          "3199K",
          "1886K",
          "8190K",
          "725K",
          "4204K",
          "12279K",
          "4909K",
          "9176K",
          "4276K",
          "9193K",
          "9136K",
          "814K",
          "7937K",
          "1647K",
          "10054K",
          "1364K",
          "6966K",
          "7039K",
          "6531K",
          "9020K",
          "3978K",
          "3513K",
          "1403K",
          "2348K",
          "1913K",
          "3931K",
          "3721K",
          "7649K",
          "4087K",
          "4726K",
          "5815K",
          "1203K",
          "2395K",
          "11199K",
          "6559K",
          "1938K",
          "2345K",
          "4240K",
          "6627K",
          "4237K",
          "920K",
          "6547K",
          "1656K",
          "3054K",
          "4320K",
          "1989K",
          "3447K",
          "2582K",
          "12924K",
          "4816K",
          "7291K",
          "8893K",
          "3491K",
          "3945K",
          "3150K",
          "9370K",
          "2770K",
          "3065K",
          "3644K",
          "1682K",
          "6352K",
          "7654K",
          "1916K",
          "4241K",
          "1267K",
          "5337K",
          "14453K",
          "12140K",
          "4672K",
          "4250K",
          "2408K",
          "2347K",
          "2915K",
          "1917K",
          "3656K",
          "10283K",
          "674K",
          "7511K",
          "5844K",
          "11837K",
          "7006K",
          "5327K",
          "3027K",
          "2407K",
          "8624K",
          "3266K",
          "5203K",
          "3948K",
          "4559K",
          "3843K",
          "6202K",
          "7874K",
          "768K",
          "6969K",
          "9187K",
          "3687K",
          "5881K",
          "10256K",
          "671K",
          "12631K",
          "11801K",
          "5083K",
          "5100K",
          "6828K",
          "1437K"
         ],
         "xaxis": "x",
         "y": [
          18843,
          41641,
          39934,
          33059,
          16670,
          41744,
          39919,
          33577,
          26396,
          43122,
          37917,
          31268,
          45961,
          18455,
          43980,
          28721,
          40417,
          45569,
          44415,
          26398,
          13064,
          43953,
          11907,
          39458,
          20285,
          25560,
          40284,
          45591,
          48811,
          16989,
          6954,
          49549,
          45139,
          8291,
          20663,
          23802,
          44384,
          10939,
          22727,
          31559,
          10147,
          40125,
          22851,
          11095,
          35610,
          14492,
          22124,
          49117,
          30682,
          38234,
          14744,
          41786,
          45678,
          9049,
          49607,
          16469,
          45702,
          8524,
          40979,
          30604,
          28395,
          45099,
          14208,
          21955,
          5398,
          13044,
          10066,
          28077,
          19586,
          31869,
          45408,
          26258,
          41534,
          7516,
          29941,
          41476,
          24291,
          12917,
          39080,
          16306,
          22852,
          15693,
          13144,
          21823,
          7886,
          33938,
          36001,
          28418,
          28729,
          11227,
          47868,
          48156,
          26040,
          29642,
          24934,
          20762,
          14998,
          49315,
          34623,
          23576,
          17353,
          21022,
          23527,
          28350,
          11269,
          42409,
          18093,
          20526,
          48177,
          46693,
          21235,
          28331,
          34400,
          46947,
          13249,
          31946,
          24373,
          48966,
          13477,
          39529,
          48698,
          43842,
          46707,
          23160,
          21620,
          40117,
          35933,
          14199,
          37161,
          32897,
          35066,
          38431,
          44300,
          28120,
          8529,
          24032,
          32810,
          14181,
          39209,
          39446,
          13429,
          45111,
          40694,
          23104,
          21248,
          22761,
          28738
         ],
         "yaxis": "y"
        },
        {
         "hovertemplate": "Country=Southeast Asia<br>Revenue_USD_formatted=%{x}<br>Units_Sold=%{y}<extra></extra>",
         "legendgroup": "Southeast Asia",
         "marker": {
          "color": "#000007",
          "symbol": "circle"
         },
         "mode": "markers",
         "name": "Southeast Asia",
         "orientation": "v",
         "showlegend": true,
         "type": "scatter",
         "x": [
          "10752K",
          "4460K",
          "1097K",
          "1114K",
          "5803K",
          "4953K",
          "4611K",
          "2514K",
          "3568K",
          "3514K",
          "4219K",
          "6440K",
          "5074K",
          "3200K",
          "4326K",
          "2022K",
          "9682K",
          "578K",
          "3314K",
          "8053K",
          "6712K",
          "10226K",
          "855K",
          "1731K",
          "5226K",
          "6203K",
          "5204K",
          "10193K",
          "7424K",
          "4135K",
          "939K",
          "314K",
          "7988K",
          "1593K",
          "6341K",
          "7590K",
          "3661K",
          "9903K",
          "605K",
          "1519K",
          "2492K",
          "1550K",
          "1400K",
          "8861K",
          "2396K",
          "5649K",
          "8165K",
          "7038K",
          "9220K",
          "1458K",
          "7640K",
          "5537K",
          "7004K",
          "1938K",
          "7146K",
          "1503K",
          "5019K",
          "2834K",
          "4552K",
          "1461K",
          "2795K",
          "8836K",
          "1933K",
          "1442K",
          "1362K",
          "5709K",
          "1021K",
          "3502K",
          "1589K",
          "1862K",
          "1208K",
          "2007K",
          "3707K",
          "8805K",
          "14608K",
          "2202K",
          "10466K",
          "10143K",
          "3562K",
          "1944K",
          "3590K",
          "6122K",
          "3664K",
          "5029K",
          "2547K",
          "4668K",
          "3763K",
          "3184K",
          "9484K",
          "7107K",
          "11255K",
          "2906K",
          "3718K",
          "3227K",
          "4303K",
          "2006K",
          "4154K",
          "2239K",
          "2648K",
          "2441K",
          "4112K",
          "6876K",
          "7894K",
          "5572K",
          "10807K",
          "2793K",
          "8145K",
          "1970K",
          "1301K",
          "2860K",
          "6136K",
          "993K",
          "11043K",
          "9220K",
          "11138K",
          "6599K",
          "2775K",
          "3324K",
          "1179K",
          "7821K",
          "1107K",
          "3307K",
          "4865K",
          "1002K"
         ],
         "xaxis": "x",
         "y": [
          48873,
          23473,
          18279,
          7956,
          44636,
          35377,
          35468,
          10473,
          27448,
          20670,
          38355,
          24769,
          46124,
          26666,
          18808,
          12640,
          42094,
          5250,
          47338,
          42383,
          23146,
          40904,
          9495,
          28850,
          32663,
          26971,
          23653,
          48540,
          39076,
          24321,
          6257,
          5233,
          46991,
          22754,
          26422,
          27108,
          12202,
          45014,
          6052,
          21699,
          41529,
          11069,
          14004,
          42197,
          21784,
          35304,
          42975,
          33515,
          34149,
          5028,
          25467,
          42594,
          33352,
          13843,
          35728,
          8844,
          17306,
          15743,
          26778,
          6354,
          16444,
          35346,
          17571,
          9612,
          12383,
          21146,
          17022,
          31840,
          19861,
          10346,
          20135,
          9556,
          24716,
          41927,
          48694,
          36693,
          40254,
          34976,
          20952,
          13888,
          17951,
          43727,
          36635,
          31434,
          42443,
          24571,
          17105,
          35378,
          37934,
          35535,
          48935,
          17097,
          14871,
          40333,
          14342,
          6685,
          34614,
          20355,
          13242,
          12203,
          34267,
          23709,
          27222,
          25327,
          46989,
          17458,
          40727,
          7882,
          16258,
          47663,
          36096,
          14191,
          36810,
          43906,
          39777,
          34732,
          19823,
          20775,
          11789,
          37241,
          15815,
          47243,
          40542,
          10017
         ],
         "yaxis": "y"
        }
       ],
       "layout": {
        "legend": {
         "title": {
          "text": "Country"
         },
         "tracegroupgap": 0
        },
        "margin": {
         "t": 60
        },
        "template": {
         "data": {
          "candlestick": [
           {
            "decreasing": {
             "line": {
              "color": "#000033"
             }
            },
            "increasing": {
             "line": {
              "color": "#000032"
             }
            },
            "type": "candlestick"
           }
          ],
          "contour": [
           {
            "colorscale": [
             [
              0,
              "#000011"
             ],
             [
              0.1111111111111111,
              "#000012"
             ],
             [
              0.2222222222222222,
              "#000013"
             ],
             [
              0.3333333333333333,
              "#000014"
             ],
             [
              0.4444444444444444,
              "#000015"
             ],
             [
              0.5555555555555556,
              "#000016"
             ],
             [
              0.6666666666666666,
              "#000017"
             ],
             [
              0.7777777777777778,
              "#000018"
             ],
             [
              0.8888888888888888,
              "#000019"
             ],
             [
              1,
              "#000020"
             ]
            ],
            "type": "contour"
           }
          ],
          "contourcarpet": [
           {
            "colorscale": [
             [
              0,
              "#000011"
             ],
             [
              0.1111111111111111,
              "#000012"
             ],
             [
              0.2222222222222222,
              "#000013"
             ],
             [
              0.3333333333333333,
              "#000014"
             ],
             [
              0.4444444444444444,
              "#000015"
             ],
             [
              0.5555555555555556,
              "#000016"
             ],
             [
              0.6666666666666666,
              "#000017"
             ],
             [
              0.7777777777777778,
              "#000018"
             ],
             [
              0.8888888888888888,
              "#000019"
             ],
             [
              1,
              "#000020"
             ]
            ],
            "type": "contourcarpet"
           }
          ],
          "heatmap": [
           {
            "colorscale": [
             [
              0,
              "#000011"
             ],
             [
              0.1111111111111111,
              "#000012"
             ],
             [
              0.2222222222222222,
              "#000013"
             ],
             [
              0.3333333333333333,
              "#000014"
             ],
             [
              0.4444444444444444,
              "#000015"
             ],
             [
              0.5555555555555556,
              "#000016"
             ],
             [
              0.6666666666666666,
              "#000017"
             ],
             [
              0.7777777777777778,
              "#000018"
             ],
             [
              0.8888888888888888,
              "#000019"
             ],
             [
              1,
              "#000020"
             ]
            ],
            "type": "heatmap"
           }
          ],
          "histogram2d": [
           {
            "colorscale": [
             [
              0,
              "#000011"
             ],
             [
              0.1111111111111111,
              "#000012"
             ],
             [
              0.2222222222222222,
              "#000013"
             ],
             [
              0.3333333333333333,
              "#000014"
             ],
             [
              0.4444444444444444,
              "#000015"
             ],
             [
              0.5555555555555556,
              "#000016"
             ],
             [
              0.6666666666666666,
              "#000017"
             ],
             [
              0.7777777777777778,
              "#000018"
             ],
             [
              0.8888888888888888,
              "#000019"
             ],
             [
              1,
              "#000020"
             ]
            ],
            "type": "histogram2d"
           }
          ],
          "icicle": [
           {
            "textfont": {
             "color": "white"
            },
            "type": "icicle"
           }
          ],
          "sankey": [
           {
            "textfont": {
             "color": "#000036"
            },
            "type": "sankey"
           }
          ],
          "scatter": [
           {
            "marker": {
             "line": {
              "width": 0
             }
            },
            "type": "scatter"
           }
          ],
          "table": [
           {
            "cells": {
             "fill": {
              "color": "#000038"
             },
             "font": {
              "color": "#000037"
             },
             "line": {
              "color": "#000039"
             }
            },
            "header": {
             "fill": {
              "color": "#000040"
             },
             "font": {
              "color": "#000036"
             },
             "line": {
              "color": "#000039"
             }
            },
            "type": "table"
           }
          ],
          "waterfall": [
           {
            "connector": {
             "line": {
              "color": "#000036",
              "width": 2
             }
            },
            "decreasing": {
             "marker": {
              "color": "#000033"
             }
            },
            "increasing": {
             "marker": {
              "color": "#000032"
             }
            },
            "totals": {
             "marker": {
              "color": "#000034"
             }
            },
            "type": "waterfall"
           }
          ]
         },
         "layout": {
          "coloraxis": {
           "colorscale": [
            [
             0,
             "#000011"
            ],
            [
             0.1111111111111111,
             "#000012"
            ],
            [
             0.2222222222222222,
             "#000013"
            ],
            [
             0.3333333333333333,
             "#000014"
            ],
            [
             0.4444444444444444,
             "#000015"
            ],
            [
             0.5555555555555556,
             "#000016"
            ],
            [
             0.6666666666666666,
             "#000017"
            ],
            [
             0.7777777777777778,
             "#000018"
            ],
            [
             0.8888888888888888,
             "#000019"
            ],
            [
             1,
             "#000020"
            ]
           ]
          },
          "colorscale": {
           "diverging": [
            [
             0,
             "#000021"
            ],
            [
             0.1,
             "#000022"
            ],
            [
             0.2,
             "#000023"
            ],
            [
             0.3,
             "#000024"
            ],
            [
             0.4,
             "#000025"
            ],
            [
             0.5,
             "#000026"
            ],
            [
             0.6,
             "#000027"
            ],
            [
             0.7,
             "#000028"
            ],
            [
             0.8,
             "#000029"
            ],
            [
             0.9,
             "#000030"
            ],
            [
             1,
             "#000031"
            ]
           ],
           "sequential": [
            [
             0,
             "#000011"
            ],
            [
             0.1111111111111111,
             "#000012"
            ],
            [
             0.2222222222222222,
             "#000013"
            ],
            [
             0.3333333333333333,
             "#000014"
            ],
            [
             0.4444444444444444,
             "#000015"
            ],
            [
             0.5555555555555556,
             "#000016"
            ],
            [
             0.6666666666666666,
             "#000017"
            ],
            [
             0.7777777777777778,
             "#000018"
            ],
            [
             0.8888888888888888,
             "#000019"
            ],
            [
             1,
             "#000020"
            ]
           ],
           "sequentialminus": [
            [
             0,
             "#000011"
            ],
            [
             0.1111111111111111,
             "#000012"
            ],
            [
             0.2222222222222222,
             "#000013"
            ],
            [
             0.3333333333333333,
             "#000014"
            ],
            [
             0.4444444444444444,
             "#000015"
            ],
            [
             0.5555555555555556,
             "#000016"
            ],
            [
             0.6666666666666666,
             "#000017"
            ],
            [
             0.7777777777777778,
             "#000018"
            ],
            [
             0.8888888888888888,
             "#000019"
            ],
            [
             1,
             "#000020"
            ]
           ]
          },
          "colorway": [
           "#000001",
           "#000002",
           "#000003",
           "#000004",
           "#000005",
           "#000006",
           "#000007",
           "#000008",
           "#000009",
           "#000010"
          ]
         }
        },
        "xaxis": {
         "anchor": "y",
         "domain": [
          0,
          1
         ],
         "title": {
          "text": "Revenue_USD_formatted"
         }
        },
        "yaxis": {
         "anchor": "x",
         "domain": [
          0,
          1
         ],
         "title": {
          "text": "Units_Sold"
         }
        }
       }
      }
     },
     "metadata": {},
     "output_type": "display_data"
    }
   ],
   "source": [
    "df_nike['Revenue_USD_formatted'] = df_nike['Revenue_USD'].apply(lambda x: f'{x/1000:.0f}K')\n",
    "fig = px.scatter(\n",
    "    df_nike,\n",
    "    x=\"Revenue_USD_formatted\",\n",
    "    y=\"Units_Sold\",\n",
    "    color=\"Country\"\n",
    ")\n",
    "\n",
    "fig.show()"
   ]
  },
  {
   "cell_type": "code",
   "execution_count": null,
   "metadata": {},
   "outputs": [],
   "source": []
  },
  {
   "cell_type": "code",
   "execution_count": null,
   "metadata": {},
   "outputs": [],
   "source": []
  },
  {
   "cell_type": "code",
   "execution_count": null,
   "metadata": {},
   "outputs": [],
   "source": []
  },
  {
   "cell_type": "code",
   "execution_count": null,
   "metadata": {},
   "outputs": [],
   "source": []
  },
  {
   "cell_type": "code",
   "execution_count": null,
   "metadata": {},
   "outputs": [],
   "source": []
  },
  {
   "cell_type": "code",
   "execution_count": null,
   "metadata": {},
   "outputs": [],
   "source": []
  },
  {
   "cell_type": "code",
   "execution_count": null,
   "metadata": {},
   "outputs": [],
   "source": []
  },
  {
   "cell_type": "code",
   "execution_count": null,
   "metadata": {},
   "outputs": [],
   "source": []
  },
  {
   "cell_type": "code",
   "execution_count": null,
   "metadata": {},
   "outputs": [],
   "source": []
  },
  {
   "cell_type": "code",
   "execution_count": null,
   "metadata": {},
   "outputs": [],
   "source": []
  },
  {
   "cell_type": "code",
   "execution_count": null,
   "metadata": {},
   "outputs": [],
   "source": []
  }
 ],
 "metadata": {
  "kernelspec": {
   "display_name": ".venv_20004",
   "language": "python",
   "name": "python3"
  },
  "language_info": {
   "codemirror_mode": {
    "name": "ipython",
    "version": 3
   },
   "file_extension": ".py",
   "mimetype": "text/x-python",
   "name": "python",
   "nbconvert_exporter": "python",
   "pygments_lexer": "ipython3",
   "version": "3.12.9"
  }
 },
 "nbformat": 4,
 "nbformat_minor": 2
}
